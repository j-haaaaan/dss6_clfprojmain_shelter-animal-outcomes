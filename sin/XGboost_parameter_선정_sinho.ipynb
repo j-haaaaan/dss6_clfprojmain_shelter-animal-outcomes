{
 "cells": [
  {
   "cell_type": "code",
   "execution_count": 2,
   "metadata": {
    "collapsed": true
   },
   "outputs": [],
   "source": [
    "import pandas as pd\n",
    "from imblearn.combine import *"
   ]
  },
  {
   "cell_type": "code",
   "execution_count": 8,
   "metadata": {},
   "outputs": [
    {
     "name": "stderr",
     "output_type": "stream",
     "text": [
      "C:\\ProgramData\\Anaconda3\\lib\\site-packages\\sklearn\\utils\\validation.py:547: DataConversionWarning: A column-vector y was passed when a 1d array was expected. Please change the shape of y to (n_samples, ), for example using ravel().\n",
      "  y = column_or_1d(y, warn=True)\n"
     ]
    },
    {
     "name": "stdout",
     "output_type": "stream",
     "text": [
      "XGBoost :  {'learning_rate': 0.059999999999999991, 'max_depth': 6, 'n_estimators': 215}\n",
      "train score: -0.5881242838811588\n",
      "test score: -0.7068810775811291\n",
      "log loss: 0.7068810775811291\n",
      "\n",
      "Wall time: 23min 20s\n"
     ]
    }
   ],
   "source": [
    "%%time\n",
    "from sklearn.model_selection import GridSearchCV\n",
    "import xgboost\n",
    "from xgboost import XGBClassifier\n",
    "from sklearn.metrics import *\n",
    "from sklearn.model_selection import train_test_split\n",
    "from scipy.stats import randint as sp_randint\n",
    "import numpy as np\n",
    "from sklearn.grid_search import RandomizedSearchCV\n",
    "from scipy.stats import uniform as sp_uniform\n",
    "\n",
    "def model_cv(X_train, X_test, y_train, y_test, model_xgb, name):\n",
    "    model_xgb.fit(X_train, y_train)\n",
    "    print(name,': ',model_xgb.best_params_)\n",
    "    pred_y = model_xgb.predict_proba(X_test)\n",
    "    print('train score: {}'.format(model_xgb.score(X_train, y_train)))\n",
    "    print('test score: {}'.format(model_xgb.score(X_test, y_test)))\n",
    "    print('log loss: {}'.format(log_loss(y_test, pred_y)))\n",
    "    print()\n",
    "\n",
    "def xgbc(X_train, X_test, y_train, y_test):\n",
    "    param= {'max_depth': [4,5,6],\n",
    "            'learning_rate': np.arange(0.01, 0.065, 0.005) ,\n",
    "           'n_estimators' : [210 , 211, 212, 213, 214, 215]}\n",
    "    model_xgb = GridSearchCV(XGBClassifier(), param, scoring=\"neg_log_loss\",n_jobs = 4)\n",
    "    name = 'XGBoost'\n",
    "    return model_cv(X_train, X_test, y_train, y_test, model_xgb, name)\n",
    "\n",
    "\n",
    "df_imb= pd.read_csv('df_pre.csv')\n",
    "del df_imb['Unnamed: 0']\n",
    "\n",
    "from imblearn.under_sampling import *\n",
    "columns=['SexuponOutcome','Color_pre','DayuponOutcome','Breed_pre','Name','DateTime' ,'AnimalType','BreedMix']\n",
    "\n",
    "df_imb_x = df_imb[columns]\n",
    "df_imb_y = df_imb.iloc[:, [3]]\n",
    "X, y = TomekLinks(random_state=0).fit_sample(df_imb_x, df_imb_y)\n",
    "df_final = pd.DataFrame(X, columns=columns)\n",
    "\n",
    "X_train, X_test, y_train, y_test = train_test_split(df_final, y, test_size = 0.1, random_state=0, shuffle=True)\n",
    "\n",
    "xgbc(X_train, X_test, y_train, y_test)"
   ]
  },
  {
   "cell_type": "code",
   "execution_count": null,
   "metadata": {
    "collapsed": true
   },
   "outputs": [],
   "source": []
  }
 ],
 "metadata": {
  "kernelspec": {
   "display_name": "Python 3",
   "language": "python",
   "name": "python3"
  },
  "language_info": {
   "codemirror_mode": {
    "name": "ipython",
    "version": 3
   },
   "file_extension": ".py",
   "mimetype": "text/x-python",
   "name": "python",
   "nbconvert_exporter": "python",
   "pygments_lexer": "ipython3",
   "version": "3.6.2"
  }
 },
 "nbformat": 4,
 "nbformat_minor": 2
}
