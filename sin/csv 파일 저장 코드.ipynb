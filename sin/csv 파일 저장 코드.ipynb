{
 "cells": [
  {
   "cell_type": "markdown",
   "metadata": {},
   "source": [
    "# 1. 데이터 탐색"
   ]
  },
  {
   "cell_type": "code",
   "execution_count": null,
   "metadata": {
    "collapsed": true
   },
   "outputs": [],
   "source": [
    "import pandas as pd\n",
    "from pandas import DataFrame\n",
    "import numpy as np\n",
    "import matplotlib.pyplot as plt\n",
    "import seaborn as sns\n",
    "from pandas import DataFrame, Series\n",
    "from sklearn.preprocessing import LabelEncoder\n",
    "from sklearn import preprocessing\n",
    "import csv\n",
    "\n",
    "pd.set_option('display.max_rows', 30000)\n",
    "pd.set_option('display.max_columns', 500)\n",
    "pd.set_option('display.width', 1000)"
   ]
  },
  {
   "cell_type": "code",
   "execution_count": null,
   "metadata": {
    "scrolled": false
   },
   "outputs": [],
   "source": [
    "df = pd.read_csv('data/train.csv')\n",
    "print(np.shape(df))\n",
    "df.tail()"
   ]
  },
  {
   "cell_type": "code",
   "execution_count": null,
   "metadata": {
    "collapsed": true
   },
   "outputs": [],
   "source": [
    "df.describe()"
   ]
  },
  {
   "cell_type": "code",
   "execution_count": null,
   "metadata": {
    "collapsed": true
   },
   "outputs": [],
   "source": [
    "len(df['Color'].unique())"
   ]
  },
  {
   "cell_type": "markdown",
   "metadata": {},
   "source": [
    "### [데이터 탐색 결과]<br>\n",
    "1) AnimalID : 동물의 일련번호로 primary key 역할을 한다 <font color=\"blue\">(정수로 encoding 필요)</font><br><br>\n",
    "2) Name : 동물의 이름. <font color=\"blue\">(가장 많은 'Max'도 136마리에 불과하므로 binarize만 한다)</font><br><br>\n",
    "3) DateTime : 결과가 행해진 시간. <font color=\"blue\">(계절성을 띄는지 등의 변수 특성을 탐색할 필요가 있음)</font><br><br>\n",
    "4) OutcomeType : 결과의 형태이자 <font color=\"red\">Target</font>. 결과는 Adoption, Transfer, Return, Euthanasia(안락사), Died로 다섯 가지.<font color=\"blue\">(One-Hot-Encoding필요)</font><br><br>\n",
    "5) AnimalType : 동물의 종. dog와 cat 두가지로 나뉜다.<font color=\"blue\">(dog면 1, cat이면 0으로 binarize필요)</font><br><br>\n",
    "6) SexuponOutcome : 중성화 여부. 남성/여성/중성화남성/중성화여성/unknown으로 크게 다섯 가지로 나뉜다.<font color=\"blue\">(성의 중요도도 클 것이라 예상)</font><br><br>\n",
    "7) AgeuponOutcome : 결과가 행해질 당시의 동물의 나이.<font color=\"blue\">(매우 중요할 것으로 예상, 단위 통일 필요)</font><br><br>\n",
    "8) Breed : 동물의 종<font color=\"blue\">(개/고양이의 세부 종, <font color=\"red\">1380종</font>으로 매우 다양)</font><br><br>\n",
    "9) Color : 동물의 색 <font color=\"blue\">(<font color=\"red\">366가지</font>로 매우다양)</font><br>"
   ]
  },
  {
   "cell_type": "markdown",
   "metadata": {},
   "source": [
    "# 2. 데이터 전처리\n",
    "- 전처리 된 독립변수를 df_pre에 새로 저장한다"
   ]
  },
  {
   "cell_type": "markdown",
   "metadata": {},
   "source": [
    "## - 2.1 OutcomeType (One Hot Encoding)\n",
    "- Label Binarizer를 통해 문자열을 OHE 처리"
   ]
  },
  {
   "cell_type": "code",
   "execution_count": null,
   "metadata": {
    "collapsed": true
   },
   "outputs": [],
   "source": [
    "df[\"OutcomeType\"].unique()"
   ]
  },
  {
   "cell_type": "code",
   "execution_count": null,
   "metadata": {
    "collapsed": true
   },
   "outputs": [],
   "source": [
    "from sklearn.preprocessing import LabelBinarizer\n",
    "\n",
    "dfX = pd.DataFrame(LabelBinarizer().fit_transform(df[\"OutcomeType\"]), \n",
    "                    columns=['Adoption', 'Died', 'Euthanasia', 'Return_to_owner', 'Transfer'], index=df.index)\n",
    "df_pre = pd.concat([df, dfX], axis=1)\n",
    "df_pre.tail()"
   ]
  },
  {
   "cell_type": "code",
   "execution_count": null,
   "metadata": {
    "collapsed": true
   },
   "outputs": [],
   "source": [
    "print(df['OutcomeType'].value_counts())\n",
    "\n",
    "print(df_pre['Adoption'].value_counts())\n",
    "print(df_pre['Transfer'].value_counts())\n",
    "print(df_pre['Return_to_owner'].value_counts())\n",
    "print(df_pre['Euthanasia'].value_counts())\n",
    "print(df_pre['Died'].value_counts())"
   ]
  },
  {
   "cell_type": "markdown",
   "metadata": {},
   "source": [
    "## - 2.2 Name (Binarize)"
   ]
  },
  {
   "cell_type": "code",
   "execution_count": null,
   "metadata": {
    "collapsed": true
   },
   "outputs": [],
   "source": [
    "def Naming(x):\n",
    "    if type(x) == float:\n",
    "        return 0\n",
    "    else:\n",
    "        return 1"
   ]
  },
  {
   "cell_type": "code",
   "execution_count": null,
   "metadata": {
    "collapsed": true
   },
   "outputs": [],
   "source": [
    "df_pre['Name'] = df['Name'].transform(Naming)"
   ]
  },
  {
   "cell_type": "code",
   "execution_count": null,
   "metadata": {
    "collapsed": true
   },
   "outputs": [],
   "source": [
    "df_pre.tail()"
   ]
  },
  {
   "cell_type": "code",
   "execution_count": null,
   "metadata": {
    "collapsed": true
   },
   "outputs": [],
   "source": [
    "print(df_pre['Name'].value_counts())\n"
   ]
  },
  {
   "cell_type": "code",
   "execution_count": null,
   "metadata": {
    "collapsed": true
   },
   "outputs": [],
   "source": [
    "import seaborn as sns\n",
    "sns.set(style=\"ticks\")\n",
    "ax = sns.factorplot(x=\"Name\", col=\"OutcomeType\", data=df_pre, kind='count' )\n",
    "ax.set_xticklabels(rotation=90, ha=\"right\")"
   ]
  },
  {
   "cell_type": "markdown",
   "metadata": {},
   "source": [
    "## - 2.3 Color (전처리)\n",
    "- Color는 약 366종류로 다양하게 분포되어 있으며, 비슷하거나 mix된 경우도 많다. <br> 따라서 메인 색상(대표하는 색, 믹스된 경우 먼저 나온 색상을 사용)만을 남겨놓고 통합했다.<br><font color=\"blue\">예시) 'Brown Tabby/White' --> 'Brown'</font><br>\n",
    "- 그 결과 <font color=\"red\">366종의 컬러를 25종으로</font> 줄일 수 있었다."
   ]
  },
  {
   "cell_type": "code",
   "execution_count": null,
   "metadata": {
    "collapsed": true
   },
   "outputs": [],
   "source": [
    "len(df['Color'].unique())"
   ]
  },
  {
   "cell_type": "code",
   "execution_count": null,
   "metadata": {
    "collapsed": true
   },
   "outputs": [],
   "source": [
    "# 'A/B' = 'A'로 표기\n",
    "def color_del(x):\n",
    "    if '/' in x:\n",
    "        x = x[0:x.index('/')]\n",
    "        return x\n",
    "    else:\n",
    "        return x"
   ]
  },
  {
   "cell_type": "code",
   "execution_count": null,
   "metadata": {
    "collapsed": true
   },
   "outputs": [],
   "source": [
    "df_pre['Color_pre'] = df['Color'].copy()"
   ]
  },
  {
   "cell_type": "code",
   "execution_count": null,
   "metadata": {
    "collapsed": true
   },
   "outputs": [],
   "source": [
    "df_pre['Color_pre'] = df_pre['Color_pre'].apply(color_del)"
   ]
  },
  {
   "cell_type": "code",
   "execution_count": null,
   "metadata": {
    "collapsed": true
   },
   "outputs": [],
   "source": [
    "df_pre.tail(3)"
   ]
  },
  {
   "cell_type": "code",
   "execution_count": null,
   "metadata": {
    "collapsed": true
   },
   "outputs": [],
   "source": [
    "# 대표 컬러로 통합\n",
    "def color_union(x):\n",
    "    if 'Black' in x:\n",
    "        x = 'Black'\n",
    "        return x\n",
    "    elif 'Blue' in x:\n",
    "        x = 'Blue'\n",
    "        return x\n",
    "    elif 'Red' in x:\n",
    "        x = 'Red'\n",
    "        return x\n",
    "    elif 'Silver' in x:\n",
    "        x = 'Silver'\n",
    "        return x\n",
    "    elif 'Brown' in x:\n",
    "        x = 'Brown'\n",
    "        return x\n",
    "    elif 'Orange' in x:\n",
    "        x = 'Orange'\n",
    "        return x\n",
    "    elif 'Cream' in x:\n",
    "        x = 'Cream'\n",
    "        return x\n",
    "    elif 'Gray' in x:\n",
    "        x = 'Gray'\n",
    "        return x\n",
    "    elif 'Calico' in x:\n",
    "        x = 'Calico'\n",
    "        return x\n",
    "    elif 'Chocolate' in x:\n",
    "        x = 'Chocolate'\n",
    "        return x\n",
    "    elif 'Tortie' in x:\n",
    "        x = 'Tortie'\n",
    "        return x\n",
    "    elif 'Yellow' in x:\n",
    "        x = 'Yellow'\n",
    "        return x\n",
    "    elif 'Liver' in x:\n",
    "        x = 'Liver'\n",
    "        return x\n",
    "    else:\n",
    "        return x"
   ]
  },
  {
   "cell_type": "code",
   "execution_count": null,
   "metadata": {
    "collapsed": true
   },
   "outputs": [],
   "source": [
    "df_pre['Color_pre'] = df_pre['Color_pre'].apply(color_union)"
   ]
  },
  {
   "cell_type": "code",
   "execution_count": null,
   "metadata": {
    "collapsed": true
   },
   "outputs": [],
   "source": [
    "# 40마리 이하인 색깔은 'etc'로 통합\n",
    "df_pre['Color_pre'] = df_pre['Color_pre'].replace('Agouti', 'etc')\n",
    "df_pre['Color_pre'] = df_pre['Color_pre'].replace('Apricot', 'etc')\n",
    "df_pre['Color_pre'] = df_pre['Color_pre'].replace('Lilac Point', 'etc')\n",
    "df_pre['Color_pre'] = df_pre['Color_pre'].replace('Pink', 'etc')\n",
    "df_pre['Color_pre'] = df_pre['Color_pre'].replace('Ruddy', 'etc')"
   ]
  },
  {
   "cell_type": "code",
   "execution_count": null,
   "metadata": {
    "collapsed": true
   },
   "outputs": [],
   "source": [
    "df_pre.groupby(['Color_pre']).count()"
   ]
  },
  {
   "cell_type": "code",
   "execution_count": null,
   "metadata": {
    "collapsed": true
   },
   "outputs": [],
   "source": [
    "print(len(df['Color'].value_counts()))\n",
    "print(len(df_pre['Color_pre'].value_counts()))"
   ]
  },
  {
   "cell_type": "markdown",
   "metadata": {},
   "source": [
    "## - 2.4 AgeuponOutcome (단위 통일)\n",
    "- 중구난방인 단위의 나이 데이터들을 모두 한 단위, day로 통일시켜 주었다."
   ]
  },
  {
   "cell_type": "code",
   "execution_count": null,
   "metadata": {
    "collapsed": true
   },
   "outputs": [],
   "source": [
    "def DayuponOutcome(age_str):\n",
    "    num, unit = age_str.split(' ')\n",
    "    if unit == 'day' or unit == 'days':\n",
    "        return( int(num) )\n",
    "    elif unit == 'week' or unit == 'weeks':\n",
    "        return(int(num) * 7 )\n",
    "    elif unit == 'month' or unit == 'months':\n",
    "        return(int(num) * 30 )\n",
    "    elif unit == 'year' or unit == 'years':\n",
    "        return(int(num) * 365 )"
   ]
  },
  {
   "cell_type": "code",
   "execution_count": null,
   "metadata": {
    "collapsed": true
   },
   "outputs": [],
   "source": [
    "df_pre['DayuponOutcome'] = df_pre['AgeuponOutcome'].copy()\n",
    "df_pre['DayuponOutcome'] = df_pre['DayuponOutcome'].fillna('0 day')\n",
    "df_pre['DayuponOutcome'] = df_pre['DayuponOutcome'].apply(DayuponOutcome)"
   ]
  },
  {
   "cell_type": "code",
   "execution_count": null,
   "metadata": {
    "collapsed": true
   },
   "outputs": [],
   "source": [
    "df_pre['AgeuponOutcome'].fillna('Unknown', inplace=True)"
   ]
  },
  {
   "cell_type": "code",
   "execution_count": null,
   "metadata": {
    "collapsed": true
   },
   "outputs": [],
   "source": [
    "df_pre['DayuponOutcome'].describe()"
   ]
  },
  {
   "cell_type": "code",
   "execution_count": null,
   "metadata": {
    "collapsed": true
   },
   "outputs": [],
   "source": [
    "def Age(x):\n",
    "    if 0 < x < 730:\n",
    "        return 2\n",
    "    elif 731 < x < 1460:\n",
    "        return 4\n",
    "    elif 1461 < x < 2190:\n",
    "        return 6\n",
    "    elif 2191 < x < 2920:\n",
    "        return 8\n",
    "    elif 2921 < x < 3650:\n",
    "        return 10\n",
    "    elif 3651 < x < 4380:\n",
    "        return 12\n",
    "    elif 4381 < x < 5110:\n",
    "        return 14\n",
    "    elif 5111 < x < 5840:\n",
    "        return 16\n",
    "    elif 5841 < x < 6570:\n",
    "        return 18\n",
    "    else:\n",
    "        return 20    "
   ]
  },
  {
   "cell_type": "code",
   "execution_count": null,
   "metadata": {
    "collapsed": true
   },
   "outputs": [],
   "source": [
    "df_pre['AboutAge'] = df_pre['DayuponOutcome'].copy()\n",
    "df_pre['AboutAge'] = df_pre['AboutAge'].apply(Age)"
   ]
  },
  {
   "cell_type": "code",
   "execution_count": null,
   "metadata": {
    "collapsed": true
   },
   "outputs": [],
   "source": [
    "df_pre.tail(3)"
   ]
  },
  {
   "cell_type": "code",
   "execution_count": null,
   "metadata": {
    "collapsed": true
   },
   "outputs": [],
   "source": [
    "plt.figure(figsize=(6,4))\n",
    "ax = sns.countplot(x=\"AboutAge\", data=df_pre)"
   ]
  },
  {
   "cell_type": "code",
   "execution_count": null,
   "metadata": {
    "collapsed": true
   },
   "outputs": [],
   "source": [
    "sns.set(style=\"ticks\")\n",
    "ax = sns.factorplot(x=\"AboutAge\", col=\"OutcomeType\", data=df_pre, kind='count' )\n",
    "ax.set_xticklabels(rotation=90, ha=\"right\")"
   ]
  },
  {
   "cell_type": "markdown",
   "metadata": {},
   "source": [
    "## - 2.5 Breed (전처리)\n",
    "- Mix는 별도의 컬럼으로 만들어 binarize(mix는 1, 순종은 0)"
   ]
  },
  {
   "cell_type": "code",
   "execution_count": null,
   "metadata": {
    "collapsed": true
   },
   "outputs": [],
   "source": [
    "def BreedMix(x):\n",
    "    if '/' in  x:\n",
    "        return 1\n",
    "    elif 'Mix' in x:\n",
    "        return 1\n",
    "    else:\n",
    "        return 0"
   ]
  },
  {
   "cell_type": "code",
   "execution_count": null,
   "metadata": {
    "collapsed": true
   },
   "outputs": [],
   "source": [
    "df_pre['BreedMix'] = df_pre['Breed'].apply(BreedMix)"
   ]
  },
  {
   "cell_type": "code",
   "execution_count": null,
   "metadata": {
    "collapsed": true
   },
   "outputs": [],
   "source": [
    "def Nature_Breed(x):\n",
    "    if '/' in x:\n",
    "        x = x[0:x.index('/')]\n",
    "        return x\n",
    "    elif ' Mix' in x:\n",
    "        x = x[0:-4]\n",
    "        return x\n",
    "    else:\n",
    "        return x"
   ]
  },
  {
   "cell_type": "code",
   "execution_count": null,
   "metadata": {
    "collapsed": true
   },
   "outputs": [],
   "source": [
    "df_pre['Breed_pre'] = df_pre['Breed'].copy()"
   ]
  },
  {
   "cell_type": "code",
   "execution_count": null,
   "metadata": {
    "collapsed": true
   },
   "outputs": [],
   "source": [
    "df_pre['Breed_pre'] = df_pre['Breed_pre'].apply(Nature_Breed)"
   ]
  },
  {
   "cell_type": "code",
   "execution_count": null,
   "metadata": {
    "collapsed": true
   },
   "outputs": [],
   "source": [
    "df_pre.head(5)"
   ]
  },
  {
   "cell_type": "code",
   "execution_count": null,
   "metadata": {
    "collapsed": true
   },
   "outputs": [],
   "source": [
    "df_pre.groupby(['AnimalType', 'Breed_pre']).count()"
   ]
  },
  {
   "cell_type": "code",
   "execution_count": null,
   "metadata": {
    "collapsed": true
   },
   "outputs": [],
   "source": [
    "df_pre.groupby(['Breed_pre', 'AboutAge']).count()"
   ]
  },
  {
   "cell_type": "markdown",
   "metadata": {},
   "source": [
    "## - 2.6 AnimalType (Binarize)\n",
    "- dog는 1, cat은 0"
   ]
  },
  {
   "cell_type": "code",
   "execution_count": null,
   "metadata": {
    "collapsed": true
   },
   "outputs": [],
   "source": [
    "encoder = LabelEncoder()\n",
    "df_pre['AnimalType'] = encoder.fit_transform(df['AnimalType'])"
   ]
  },
  {
   "cell_type": "code",
   "execution_count": null,
   "metadata": {
    "collapsed": true
   },
   "outputs": [],
   "source": [
    "df_pre.tail()"
   ]
  },
  {
   "cell_type": "code",
   "execution_count": null,
   "metadata": {
    "collapsed": true
   },
   "outputs": [],
   "source": [
    "df_pre['AnimalType'].value_counts()"
   ]
  },
  {
   "cell_type": "markdown",
   "metadata": {},
   "source": [
    "## - 2.7 SexuponOutcome\n",
    "- Nan값을 Unknown으로 처리"
   ]
  },
  {
   "cell_type": "code",
   "execution_count": null,
   "metadata": {
    "collapsed": true
   },
   "outputs": [],
   "source": [
    "df_pre['SexuponOutcome'].value_counts()"
   ]
  },
  {
   "cell_type": "code",
   "execution_count": null,
   "metadata": {
    "collapsed": true
   },
   "outputs": [],
   "source": [
    "df_pre['SexuponOutcome'].fillna(\"Unknown\", inplace=True)"
   ]
  },
  {
   "cell_type": "code",
   "execution_count": null,
   "metadata": {
    "collapsed": true
   },
   "outputs": [],
   "source": [
    "df_pre['SexuponOutcome'].value_counts()"
   ]
  },
  {
   "cell_type": "markdown",
   "metadata": {},
   "source": [
    "## - 2.8 AnimalID (string제거, 정수화)"
   ]
  },
  {
   "cell_type": "code",
   "execution_count": null,
   "metadata": {
    "collapsed": true
   },
   "outputs": [],
   "source": [
    "df_pre['AnimalID'] = encoder.fit_transform(df['AnimalID'])"
   ]
  },
  {
   "cell_type": "code",
   "execution_count": null,
   "metadata": {
    "collapsed": true
   },
   "outputs": [],
   "source": [
    "df_pre.tail()"
   ]
  },
  {
   "cell_type": "markdown",
   "metadata": {},
   "source": [
    "## -2.9 DateTime 전처리 및 분석"
   ]
  },
  {
   "cell_type": "code",
   "execution_count": null,
   "metadata": {
    "collapsed": true
   },
   "outputs": [],
   "source": [
    "import re"
   ]
  },
  {
   "cell_type": "code",
   "execution_count": null,
   "metadata": {
    "collapsed": true
   },
   "outputs": [],
   "source": [
    "def MakeYear(x):\n",
    "    A = re.search(r'\\d\\d\\d\\d', str(x))\n",
    "    return A.group()"
   ]
  },
  {
   "cell_type": "code",
   "execution_count": null,
   "metadata": {
    "collapsed": true
   },
   "outputs": [],
   "source": [
    "df_pre['Year'] = df_pre['DateTime'].apply(MakeYear)"
   ]
  },
  {
   "cell_type": "code",
   "execution_count": null,
   "metadata": {
    "collapsed": true
   },
   "outputs": [],
   "source": [
    "def MakeMonth(x):\n",
    "    A = re.search(r'-\\d\\d-', str(x))\n",
    "    B = re.search(r'\\d\\d', str(A))\n",
    "    return B.group()"
   ]
  },
  {
   "cell_type": "code",
   "execution_count": null,
   "metadata": {
    "collapsed": true
   },
   "outputs": [],
   "source": [
    "df_pre['Month'] = df_pre['DateTime'].apply(MakeMonth)"
   ]
  },
  {
   "cell_type": "code",
   "execution_count": null,
   "metadata": {
    "collapsed": true
   },
   "outputs": [],
   "source": [
    "df_pre['YearMonth'] = df_pre['Year'] + df_pre['Month']"
   ]
  },
  {
   "cell_type": "code",
   "execution_count": null,
   "metadata": {
    "collapsed": true
   },
   "outputs": [],
   "source": [
    "def Integerize(x):\n",
    "    x = int(x)\n",
    "    return x"
   ]
  },
  {
   "cell_type": "code",
   "execution_count": null,
   "metadata": {
    "collapsed": true
   },
   "outputs": [],
   "source": [
    "df_pre['YearMonth'] = df_pre['YearMonth'].apply(Integerize)"
   ]
  },
  {
   "cell_type": "code",
   "execution_count": null,
   "metadata": {
    "collapsed": true
   },
   "outputs": [],
   "source": [
    "df_pre.tail()"
   ]
  },
  {
   "cell_type": "code",
   "execution_count": null,
   "metadata": {
    "collapsed": true
   },
   "outputs": [],
   "source": [
    "import seaborn as sns\n",
    "plt.figure(figsize=(6,3))\n",
    "ax = sns.countplot(x=\"YearMonth\", data=df_pre, order=[201310, 201311, 201312, 201401, 201402, 201403, 201404, 201405, 201406, 201407, 201408, 201409, 201410, 201411, 201412, 201501, 201502, 201503, 201504, 201505, 201506, 201507, 201508, 201509, 201510, 201511, 201512, 201601, 201602])\n",
    "ax.set_xticklabels(labels=[201310, 201311, 201312, 201401, 201402, 201403, 201404, 201405, 201406, 201407, 201408, 201409, 201410, 201411, 201412, 201501, 201502, 201503, 201504, 201505, 201506, 201507, 201508, 201509, 201510, 201511, 201512, 201601, 201602], rotation=90, ha=\"right\")"
   ]
  },
  {
   "cell_type": "code",
   "execution_count": null,
   "metadata": {
    "collapsed": true
   },
   "outputs": [],
   "source": [
    "sns.set(style=\"ticks\")\n",
    "ax = sns.factorplot(x=\"YearMonth\", col=\"OutcomeType\", data=df_pre, kind='count' )\n",
    "ax.set_xticklabels(rotation=90, ha=\"right\")"
   ]
  },
  {
   "cell_type": "code",
   "execution_count": null,
   "metadata": {
    "collapsed": true
   },
   "outputs": [],
   "source": [
    "sns.set(style=\"ticks\")\n",
    "ax = sns.factorplot(x=\"YearMonth\", col=\"Transfer\", data=df_pre, kind='count' )\n",
    "ax.set_xticklabels(rotation=90, ha=\"right\")"
   ]
  },
  {
   "cell_type": "code",
   "execution_count": null,
   "metadata": {
    "collapsed": true
   },
   "outputs": [],
   "source": [
    "sns.set(style=\"ticks\")\n",
    "ax = sns.factorplot(x=\"YearMonth\", col=\"Adoption\", data=df_pre, kind='count' )\n",
    "ax.set_xticklabels(rotation=90, ha=\"right\")"
   ]
  },
  {
   "cell_type": "code",
   "execution_count": null,
   "metadata": {
    "collapsed": true
   },
   "outputs": [],
   "source": [
    "sns.set(style=\"ticks\")\n",
    "ax = sns.factorplot(x=\"YearMonth\", col=\"Euthanasia\", data=df_pre, kind='count' )\n",
    "ax.set_xticklabels(rotation=90, ha=\"right\")"
   ]
  },
  {
   "cell_type": "markdown",
   "metadata": {},
   "source": [
    "### 2.9.1 DateTime을 계절로 변환하여 추가"
   ]
  },
  {
   "cell_type": "code",
   "execution_count": null,
   "metadata": {
    "collapsed": true
   },
   "outputs": [],
   "source": [
    "df_pre['Season'] = df_pre['Month'].copy()"
   ]
  },
  {
   "cell_type": "code",
   "execution_count": null,
   "metadata": {
    "collapsed": true
   },
   "outputs": [],
   "source": [
    "df_pre['Season'] = df_pre['Season'].apply(Integerize)"
   ]
  },
  {
   "cell_type": "code",
   "execution_count": null,
   "metadata": {
    "collapsed": true,
    "scrolled": true
   },
   "outputs": [],
   "source": [
    "df_pre.tail()"
   ]
  },
  {
   "cell_type": "code",
   "execution_count": null,
   "metadata": {
    "collapsed": true
   },
   "outputs": [],
   "source": [
    "def Seasonerize(x):\n",
    "    if x == 12 or x == 1 or x == 2:\n",
    "        return 'Winter'\n",
    "    elif 2 < x < 6:\n",
    "        return 'Spring'\n",
    "    elif 5 < x < 9:\n",
    "        return 'Summer'\n",
    "    elif 8 < x < 12:\n",
    "        return 'Automn'\n",
    "    else:\n",
    "        return 'Unknown'    "
   ]
  },
  {
   "cell_type": "code",
   "execution_count": null,
   "metadata": {
    "collapsed": true
   },
   "outputs": [],
   "source": [
    "df_pre['Season'] = df_pre['Season'].apply(Seasonerize)\n",
    "df_pre.tail()"
   ]
  },
  {
   "cell_type": "code",
   "execution_count": null,
   "metadata": {
    "collapsed": true
   },
   "outputs": [],
   "source": [
    "df_pre['Season'].value_counts()"
   ]
  },
  {
   "cell_type": "markdown",
   "metadata": {},
   "source": [
    "### 2.9.2 DateTime을 분기로 변환하여 추가"
   ]
  },
  {
   "cell_type": "code",
   "execution_count": null,
   "metadata": {
    "collapsed": true
   },
   "outputs": [],
   "source": [
    "df_pre['Quarter'] = df_pre['Month'].copy()"
   ]
  },
  {
   "cell_type": "code",
   "execution_count": null,
   "metadata": {
    "collapsed": true
   },
   "outputs": [],
   "source": [
    "df_pre['Quarter'] = df_pre['Quarter'].apply(Integerize)"
   ]
  },
  {
   "cell_type": "code",
   "execution_count": null,
   "metadata": {
    "collapsed": true
   },
   "outputs": [],
   "source": [
    "def Quarterize(x):\n",
    "    if 0 < x < 4:\n",
    "        return '1/4'\n",
    "    elif 3 < x < 7:\n",
    "        return '2/4'\n",
    "    elif 6 < x < 10:\n",
    "        return '3/4'\n",
    "    elif 9 < x < 13:\n",
    "        return '4/4'\n",
    "    else:\n",
    "        return 'Unknown'    "
   ]
  },
  {
   "cell_type": "code",
   "execution_count": null,
   "metadata": {
    "collapsed": true
   },
   "outputs": [],
   "source": [
    "df_pre['Quarter'] = df_pre['Quarter'].apply(Quarterize)\n",
    "df_pre.tail()"
   ]
  },
  {
   "cell_type": "code",
   "execution_count": null,
   "metadata": {
    "collapsed": true
   },
   "outputs": [],
   "source": [
    "df_pre['Quarter'].value_counts()"
   ]
  },
  {
   "cell_type": "markdown",
   "metadata": {},
   "source": [
    "## - 2.10 성향 그룹 추가\n",
    "- 동물의 성향이 Adoption에 영향을 미칠 것이다.\n",
    "- 강아지의 성향 기준은 American Kennel Club(AKC), United Kennel Club (UKC)의 기준을 크롤링해서 dataframe화 했다."
   ]
  },
  {
   "cell_type": "code",
   "execution_count": null,
   "metadata": {
    "collapsed": true
   },
   "outputs": [],
   "source": [
    "from bs4 import BeautifulSoup\n",
    "import requests\n",
    "import pandas as pd\n",
    "\n",
    "\n",
    "info_url = 'http://www.akc.org/public-education/resources/dog-breeds-sorted-groups/'\n",
    "response = requests.get(info_url)\n",
    "soup = BeautifulSoup(response.content.decode('latin1'), 'lxml')\n",
    "breed_group = list()\n",
    "group_element = list()\n",
    "\n",
    "groups = soup.select('h2')\n",
    "for group in groups:\n",
    "    breed_group.append(group.get_text())\n",
    "\n",
    "\n",
    "group_element = breed_group\n",
    "group_element"
   ]
  },
  {
   "cell_type": "code",
   "execution_count": null,
   "metadata": {
    "collapsed": true
   },
   "outputs": [],
   "source": [
    "group_lists = soup.select('ol')\n",
    "\n",
    "dog_list = list()\n",
    "for num,group_list in enumerate(group_lists):\n",
    "    group_lst = group_list.select('li')\n",
    "    breed_group[num] = list()\n",
    "    for dog_breeds in group_lst:\n",
    "        dog_breed = dog_breeds.find('a')\n",
    "        breed_group[num].append(dog_breed.get_text())"
   ]
  },
  {
   "cell_type": "code",
   "execution_count": null,
   "metadata": {
    "collapsed": true
   },
   "outputs": [],
   "source": [
    "breed_group"
   ]
  },
  {
   "cell_type": "markdown",
   "metadata": {},
   "source": [
    "- Manchester Terrier가 중복기입 되어있어서 Toy Group에서 제외."
   ]
  },
  {
   "cell_type": "code",
   "execution_count": null,
   "metadata": {
    "collapsed": true
   },
   "outputs": [],
   "source": [
    "breed_group[2].remove(\"Manchester Terrier\")"
   ]
  },
  {
   "cell_type": "markdown",
   "metadata": {},
   "source": [
    "<br>- 기준에는 없지만 동물 수가 많아서 분류가 필요한 종들은 구글링을 통해서 추가로 분류해줬다."
   ]
  },
  {
   "cell_type": "code",
   "execution_count": null,
   "metadata": {
    "collapsed": true
   },
   "outputs": [],
   "source": [
    "breed_group[0].append('Catahoula')\n",
    "breed_group[0].append('German Shepherd')\n",
    "breed_group[2].append('Chihuahua Shorthair')\n",
    "breed_group[3].append('Miniature Poodle')\n",
    "breed_group[5].append('Jack Russell Terrier')\n",
    "breed_group[5].append('Pit Bull')"
   ]
  },
  {
   "cell_type": "code",
   "execution_count": null,
   "metadata": {
    "collapsed": true
   },
   "outputs": [],
   "source": [
    "df_herding = pd.DataFrame(breed_group[0], columns=['Breed_pre'])\n",
    "df_herding[\"Group\"] = \"Herding Group\"\n",
    "\n",
    "df_hound = pd.DataFrame(breed_group[1], columns=['Breed_pre'])\n",
    "df_hound[\"Group\"] = \"Hound Group\"\n",
    "\n",
    "df_toy = pd.DataFrame(breed_group[2], columns=['Breed_pre'])\n",
    "df_toy[\"Group\"] = \"Toy Group\"\n",
    "\n",
    "df_non_sporting = pd.DataFrame(breed_group[3] , columns=['Breed_pre'])\n",
    "df_non_sporting[\"Group\"] = \"Non_Sporting Group\"\n",
    "\n",
    "df_sporting = pd.DataFrame(breed_group[4], columns=['Breed_pre'])\n",
    "df_sporting[\"Group\"] = \"Sporting Group\"\n",
    "\n",
    "df_terrier = pd.DataFrame(breed_group[5], columns=['Breed_pre'])\n",
    "df_terrier[\"Group\"] = \"Terrier Group\"\n",
    "\n",
    "df_working = pd.DataFrame(breed_group[6], columns=['Breed_pre'])\n",
    "df_working[\"Group\"] = \"Working Group\"\n",
    "\n",
    "df_miscellaneous = pd.DataFrame(breed_group[7], columns=['Breed_pre'])\n",
    "df_miscellaneous[\"Group\"] = \"Miscellaneous Class\"\n",
    "\n",
    "df_cat1 = pd.DataFrame({'Breed_pre' : ['Domestic Shorthair'],'Group': ['cat1']})\n",
    "df_cat2 = pd.DataFrame({'Breed_pre' : ['Domestic Medium Hair'],'Group': ['cat2']})\n",
    "df_cat3 = pd.DataFrame({'Breed_pre' : ['Domestic Longhair'],'Group': ['cat3']})\n",
    "df_cat4 = pd.DataFrame({'Breed_pre' : ['Siamese'],'Group': ['cat4']})"
   ]
  },
  {
   "cell_type": "code",
   "execution_count": null,
   "metadata": {
    "collapsed": true
   },
   "outputs": [],
   "source": [
    "df_group_all = pd.concat([df_herding, df_hound ,df_toy ,df_non_sporting , df_sporting ,df_terrier , df_working , df_miscellaneous , df_cat1 , df_cat2 , df_cat3 , df_cat4], axis=0, ignore_index=True)\n",
    "df_group_all.tail()"
   ]
  },
  {
   "cell_type": "code",
   "execution_count": null,
   "metadata": {
    "collapsed": true
   },
   "outputs": [],
   "source": [
    "df_pre = pd.merge(df_pre, df_group_all, on = 'Breed_pre', how = 'left')\n",
    "df_pre.tail()"
   ]
  },
  {
   "cell_type": "code",
   "execution_count": null,
   "metadata": {
    "collapsed": true
   },
   "outputs": [],
   "source": [
    "df_pre['Group'].fillna(\"unknown\", inplace=True)"
   ]
  },
  {
   "cell_type": "code",
   "execution_count": null,
   "metadata": {
    "collapsed": true
   },
   "outputs": [],
   "source": [
    "print(df_pre['Group'].value_counts())"
   ]
  },
  {
   "cell_type": "code",
   "execution_count": null,
   "metadata": {
    "collapsed": true
   },
   "outputs": [],
   "source": [
    "len(df_pre)"
   ]
  },
  {
   "cell_type": "markdown",
   "metadata": {},
   "source": [
    "## - 2.11 크기 그룹 추가\n",
    "- 동물의 크기또한 결과에 영향을 미칠 것이다.\n",
    "- 강아지의 성향 기준은 American Kennel Club(AKC), United Kennel Club (UKC)의 기준을 크롤링해서 dataframe화 했다."
   ]
  },
  {
   "cell_type": "code",
   "execution_count": null,
   "metadata": {
    "collapsed": true
   },
   "outputs": [],
   "source": [
    "import requests\n",
    "from bs4 import BeautifulSoup\n",
    "import re\n",
    "import pandas as pd\n",
    "import numpy as np\n",
    "\n",
    "res = requests.get('https://www.petplace.com/article/dogs/pet-care/american-kennel-club-akc-breeds-by-size')\n",
    "soup = BeautifulSoup(res.content, 'html.parser')\n",
    "\n",
    "breeds_size = soup.find_all(title=\"'Click here for more information. '\")\n",
    "breeds_size_group = soup.find_all('strong')\n",
    "\n",
    "breeds_size_list = []\n",
    "\n",
    "i = 0\n",
    "while i < 150:\n",
    "    breeds_size_list.append(breeds_size[i].get_text())\n",
    "    if i == 150:\n",
    "        break\n",
    "    i = i + 1\n",
    "\n",
    "breeds_size_list_giant = list()\n",
    "breeds_size_list_large = list()\n",
    "breeds_size_list_medium = list()\n",
    "breeds_size_list_small = list()\n",
    "breeds_size_list_toy = list()\n",
    "\n",
    "a = 0\n",
    "while a < 17:\n",
    "    breeds_size_list_giant.append(breeds_size_list[a])\n",
    "    a = a + 1\n",
    "\n",
    "a = 17\n",
    "while 16 < a < 53:\n",
    "    breeds_size_list_large.append(breeds_size_list[a])\n",
    "    a = a + 1\n",
    "    \n",
    "a = 53\n",
    "while 52 < a < 99:\n",
    "    breeds_size_list_medium.append(breeds_size_list[a])\n",
    "    a = a + 1\n",
    "    \n",
    "a = 99\n",
    "while 98 < a < 138:\n",
    "    breeds_size_list_small.append(breeds_size_list[a])\n",
    "    a = a + 1\n",
    "    \n",
    "a = 138\n",
    "while 137 < a < 150:\n",
    "    breeds_size_list_toy.append(breeds_size_list[a])\n",
    "    if a == 150:\n",
    "        break\n",
    "    a = a + 1\n",
    "    \n",
    "#AKC 기준 Manchester Terrier가 small그룹과 toy그룹에 중복 분류되어 있기 때문에 toy그룹에서 삭제\n",
    "breeds_size_list_toy.remove(\"Manchester Terrier\")\n",
    "    \n",
    "breeds_size_list_medium.append('Catahoula')\n",
    "breeds_size_list_large.append('German Shepherd')\n",
    "breeds_size_list_small.append('Chihuahua Shorthair')\n",
    "breeds_size_list_small.append('Miniature Poodle')\n",
    "breeds_size_list_small.append('Jack Russell Terrier')\n",
    "breeds_size_list_medium.append('Pit Bull')\n",
    "\n",
    "'''\n",
    "print('Giant_group')\n",
    "print(breeds_size_list_giant)\n",
    "print('-'*50)\n",
    "print('Large_group')\n",
    "print(breeds_size_list_large)\n",
    "print('-'*50)\n",
    "print('Medium_group')\n",
    "print(breeds_size_list_medium)\n",
    "print('-'*50)\n",
    "print('Small_group')\n",
    "print(breeds_size_list_small)\n",
    "print('-'*50)\n",
    "print('Toy_group')\n",
    "print(breeds_size_list_toy)\n",
    "'''"
   ]
  },
  {
   "cell_type": "code",
   "execution_count": null,
   "metadata": {
    "collapsed": true
   },
   "outputs": [],
   "source": [
    "df_giant = pd.DataFrame(breeds_size_list_giant, columns=['Breed_pre'])\n",
    "df_giant[\"Size\"] = \"Giant\"\n",
    "\n",
    "df_large = pd.DataFrame(breeds_size_list_large, columns=['Breed_pre'])\n",
    "df_large[\"Size\"] = \"Large\"\n",
    "\n",
    "df_medium = pd.DataFrame(breeds_size_list_medium, columns=['Breed_pre'])\n",
    "df_medium[\"Size\"] = \"Medium\"\n",
    "\n",
    "df_small = pd.DataFrame(breeds_size_list_small, columns=['Breed_pre'])\n",
    "df_small[\"Size\"] = \"Small\"\n",
    "\n",
    "df_toy = pd.DataFrame(breeds_size_list_toy, columns=['Breed_pre'])\n",
    "df_toy[\"Size\"] = \"Toy\"\n",
    "\n",
    "df_cat5 = pd.DataFrame({'Breed_pre' : ['Domestic Shorthair'],'Size': ['cat1']})\n",
    "df_cat6 = pd.DataFrame({'Breed_pre' : ['Domestic Medium Hair'],'Size': ['cat2']})\n",
    "df_cat7 = pd.DataFrame({'Breed_pre' : ['Domestic Longhair'],'Size': ['cat3']})\n",
    "df_cat8 = pd.DataFrame({'Breed_pre' : ['Siamese'],'Size': ['cat4']})"
   ]
  },
  {
   "cell_type": "code",
   "execution_count": null,
   "metadata": {
    "collapsed": true
   },
   "outputs": [],
   "source": [
    "df_size_all = pd.concat([df_giant, df_large, df_medium, df_small, df_toy, df_cat5 , df_cat6 , df_cat7 , df_cat8], axis=0, ignore_index=True)"
   ]
  },
  {
   "cell_type": "code",
   "execution_count": null,
   "metadata": {
    "collapsed": true
   },
   "outputs": [],
   "source": [
    "df_size_all.tail()"
   ]
  },
  {
   "cell_type": "code",
   "execution_count": null,
   "metadata": {
    "collapsed": true
   },
   "outputs": [],
   "source": [
    "df_pre = pd.merge(df_pre, df_size_all, on = 'Breed_pre', how = 'left')\n",
    "df_pre.tail()"
   ]
  },
  {
   "cell_type": "code",
   "execution_count": null,
   "metadata": {
    "collapsed": true
   },
   "outputs": [],
   "source": [
    "df_pre['Size'].fillna(\"unknown\", inplace=True)"
   ]
  },
  {
   "cell_type": "code",
   "execution_count": null,
   "metadata": {
    "collapsed": true
   },
   "outputs": [],
   "source": [
    "print(df_pre['Size'].value_counts())\n",
    "print(len(df_pre))"
   ]
  },
  {
   "cell_type": "markdown",
   "metadata": {},
   "source": [
    "# 3. 모델링"
   ]
  },
  {
   "cell_type": "code",
   "execution_count": null,
   "metadata": {
    "collapsed": true
   },
   "outputs": [],
   "source": [
    "df_pre.head(10)"
   ]
  },
  {
   "cell_type": "markdown",
   "metadata": {},
   "source": [
    "# Laber Encoding"
   ]
  },
  {
   "cell_type": "code",
   "execution_count": null,
   "metadata": {
    "collapsed": true
   },
   "outputs": [],
   "source": [
    "encoder = LabelEncoder()\n",
    "\n",
    "df_pre['SexuponOutcome'] = encoder.fit_transform(df_pre['SexuponOutcome'])\n",
    "df_pre['AgeuponOutcome'] = encoder.fit_transform(df_pre['AgeuponOutcome'])\n",
    "df_pre['Breed'] = encoder.fit_transform(df_pre['Breed'])\n",
    "df_pre['Color'] = encoder.fit_transform(df_pre['Color'])\n",
    "df_pre['Color_pre'] = encoder.fit_transform(df_pre['Color_pre'])\n",
    "df_pre['Breed_pre'] = encoder.fit_transform(df_pre['Breed_pre'])\n",
    "df_pre['Year'] = encoder.fit_transform(df_pre['Year'])\n",
    "df_pre['Month'] = encoder.fit_transform(df_pre['Month'])\n",
    "df_pre['YearMonth'] = encoder.fit_transform(df_pre['YearMonth'])\n",
    "df_pre['Group'] = encoder.fit_transform(df_pre['Group'])\n",
    "df_pre['Size'] = encoder.fit_transform(df_pre['Size'])\n",
    "df_pre['Season'] = encoder.fit_transform(df_pre['Season'])\n",
    "df_pre['Quarter'] = encoder.fit_transform(df_pre['Quarter'])\n",
    "df_pre['DateTime'] = encoder.fit_transform(df_pre['DateTime'])"
   ]
  },
  {
   "cell_type": "code",
   "execution_count": null,
   "metadata": {
    "collapsed": true,
    "scrolled": false
   },
   "outputs": [],
   "source": [
    "df_pre.tail()"
   ]
  },
  {
   "cell_type": "markdown",
   "metadata": {},
   "source": [
    "# df_pre - csv 파일로 저장 "
   ]
  },
  {
   "cell_type": "code",
   "execution_count": null,
   "metadata": {
    "collapsed": true
   },
   "outputs": [],
   "source": [
    "df_pre.to_csv('/data/df_pre.csv',sep=',', na_rep='NaN')"
   ]
  },
  {
   "cell_type": "code",
   "execution_count": null,
   "metadata": {
    "collapsed": true
   },
   "outputs": [],
   "source": []
  }
 ],
 "metadata": {
  "kernelspec": {
   "display_name": "Python 3",
   "language": "python",
   "name": "python3"
  },
  "language_info": {
   "codemirror_mode": {
    "name": "ipython",
    "version": 3
   },
   "file_extension": ".py",
   "mimetype": "text/x-python",
   "name": "python",
   "nbconvert_exporter": "python",
   "pygments_lexer": "ipython3",
   "version": "3.6.2"
  }
 },
 "nbformat": 4,
 "nbformat_minor": 2
}
