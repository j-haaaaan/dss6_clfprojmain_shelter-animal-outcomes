{
 "cells": [
  {
   "cell_type": "code",
   "execution_count": 5,
   "metadata": {
    "collapsed": true,
    "scrolled": true
   },
   "outputs": [],
   "source": [
    "import pandas as pd\n",
    "from imblearn.combine import *\n",
    "from imblearn.over_sampling import *\n",
    "from imblearn.under_sampling import *\n",
    "import warnings\n",
    "warnings.filterwarnings(\"ignore\")\n",
    "from sklearn.model_selection import GridSearchCV\n",
    "import xgboost\n",
    "from xgboost import XGBClassifier\n",
    "from sklearn.metrics import *\n",
    "from sklearn.model_selection import train_test_split\n",
    "from scipy.stats import randint as sp_randint\n",
    "import numpy as np\n",
    "from sklearn.grid_search import RandomizedSearchCV\n"
   ]
  },
  {
   "cell_type": "markdown",
   "metadata": {},
   "source": [
    "# TomekLinks"
   ]
  },
  {
   "cell_type": "code",
   "execution_count": 7,
   "metadata": {
    "collapsed": true
   },
   "outputs": [
    {
     "ename": "KeyboardInterrupt",
     "evalue": "",
     "output_type": "error",
     "traceback": [
      "\u001b[1;31m---------------------------------------------------------------------------\u001b[0m",
      "\u001b[1;31mKeyboardInterrupt\u001b[0m                         Traceback (most recent call last)",
      "\u001b[1;32m<timed exec>\u001b[0m in \u001b[0;36m<module>\u001b[1;34m()\u001b[0m\n",
      "\u001b[1;32m<timed exec>\u001b[0m in \u001b[0;36mxgbc\u001b[1;34m(X_train, X_test, y_train, y_test)\u001b[0m\n",
      "\u001b[1;32m<timed exec>\u001b[0m in \u001b[0;36mmodel_cv\u001b[1;34m(X_train, X_test, y_train, y_test, model_xgb, name)\u001b[0m\n",
      "\u001b[1;32mC:\\ProgramData\\Anaconda3\\lib\\site-packages\\sklearn\\model_selection\\_search.py\u001b[0m in \u001b[0;36mfit\u001b[1;34m(self, X, y, groups, **fit_params)\u001b[0m\n\u001b[0;32m    636\u001b[0m                                   error_score=self.error_score)\n\u001b[0;32m    637\u001b[0m           for parameters, (train, test) in product(candidate_params,\n\u001b[1;32m--> 638\u001b[1;33m                                                    cv.split(X, y, groups)))\n\u001b[0m\u001b[0;32m    639\u001b[0m \u001b[1;33m\u001b[0m\u001b[0m\n\u001b[0;32m    640\u001b[0m         \u001b[1;31m# if one choose to see train score, \"out\" will contain train score info\u001b[0m\u001b[1;33m\u001b[0m\u001b[1;33m\u001b[0m\u001b[0m\n",
      "\u001b[1;32mC:\\ProgramData\\Anaconda3\\lib\\site-packages\\sklearn\\externals\\joblib\\parallel.py\u001b[0m in \u001b[0;36m__call__\u001b[1;34m(self, iterable)\u001b[0m\n\u001b[0;32m    787\u001b[0m                 \u001b[1;31m# consumption.\u001b[0m\u001b[1;33m\u001b[0m\u001b[1;33m\u001b[0m\u001b[0m\n\u001b[0;32m    788\u001b[0m                 \u001b[0mself\u001b[0m\u001b[1;33m.\u001b[0m\u001b[0m_iterating\u001b[0m \u001b[1;33m=\u001b[0m \u001b[1;32mFalse\u001b[0m\u001b[1;33m\u001b[0m\u001b[0m\n\u001b[1;32m--> 789\u001b[1;33m             \u001b[0mself\u001b[0m\u001b[1;33m.\u001b[0m\u001b[0mretrieve\u001b[0m\u001b[1;33m(\u001b[0m\u001b[1;33m)\u001b[0m\u001b[1;33m\u001b[0m\u001b[0m\n\u001b[0m\u001b[0;32m    790\u001b[0m             \u001b[1;31m# Make sure that we get a last message telling us we are done\u001b[0m\u001b[1;33m\u001b[0m\u001b[1;33m\u001b[0m\u001b[0m\n\u001b[0;32m    791\u001b[0m             \u001b[0melapsed_time\u001b[0m \u001b[1;33m=\u001b[0m \u001b[0mtime\u001b[0m\u001b[1;33m.\u001b[0m\u001b[0mtime\u001b[0m\u001b[1;33m(\u001b[0m\u001b[1;33m)\u001b[0m \u001b[1;33m-\u001b[0m \u001b[0mself\u001b[0m\u001b[1;33m.\u001b[0m\u001b[0m_start_time\u001b[0m\u001b[1;33m\u001b[0m\u001b[0m\n",
      "\u001b[1;32mC:\\ProgramData\\Anaconda3\\lib\\site-packages\\sklearn\\externals\\joblib\\parallel.py\u001b[0m in \u001b[0;36mretrieve\u001b[1;34m(self)\u001b[0m\n\u001b[0;32m    697\u001b[0m             \u001b[1;32mtry\u001b[0m\u001b[1;33m:\u001b[0m\u001b[1;33m\u001b[0m\u001b[0m\n\u001b[0;32m    698\u001b[0m                 \u001b[1;32mif\u001b[0m \u001b[0mgetattr\u001b[0m\u001b[1;33m(\u001b[0m\u001b[0mself\u001b[0m\u001b[1;33m.\u001b[0m\u001b[0m_backend\u001b[0m\u001b[1;33m,\u001b[0m \u001b[1;34m'supports_timeout'\u001b[0m\u001b[1;33m,\u001b[0m \u001b[1;32mFalse\u001b[0m\u001b[1;33m)\u001b[0m\u001b[1;33m:\u001b[0m\u001b[1;33m\u001b[0m\u001b[0m\n\u001b[1;32m--> 699\u001b[1;33m                     \u001b[0mself\u001b[0m\u001b[1;33m.\u001b[0m\u001b[0m_output\u001b[0m\u001b[1;33m.\u001b[0m\u001b[0mextend\u001b[0m\u001b[1;33m(\u001b[0m\u001b[0mjob\u001b[0m\u001b[1;33m.\u001b[0m\u001b[0mget\u001b[0m\u001b[1;33m(\u001b[0m\u001b[0mtimeout\u001b[0m\u001b[1;33m=\u001b[0m\u001b[0mself\u001b[0m\u001b[1;33m.\u001b[0m\u001b[0mtimeout\u001b[0m\u001b[1;33m)\u001b[0m\u001b[1;33m)\u001b[0m\u001b[1;33m\u001b[0m\u001b[0m\n\u001b[0m\u001b[0;32m    700\u001b[0m                 \u001b[1;32melse\u001b[0m\u001b[1;33m:\u001b[0m\u001b[1;33m\u001b[0m\u001b[0m\n\u001b[0;32m    701\u001b[0m                     \u001b[0mself\u001b[0m\u001b[1;33m.\u001b[0m\u001b[0m_output\u001b[0m\u001b[1;33m.\u001b[0m\u001b[0mextend\u001b[0m\u001b[1;33m(\u001b[0m\u001b[0mjob\u001b[0m\u001b[1;33m.\u001b[0m\u001b[0mget\u001b[0m\u001b[1;33m(\u001b[0m\u001b[1;33m)\u001b[0m\u001b[1;33m)\u001b[0m\u001b[1;33m\u001b[0m\u001b[0m\n",
      "\u001b[1;32mC:\\ProgramData\\Anaconda3\\lib\\multiprocessing\\pool.py\u001b[0m in \u001b[0;36mget\u001b[1;34m(self, timeout)\u001b[0m\n\u001b[0;32m    636\u001b[0m \u001b[1;33m\u001b[0m\u001b[0m\n\u001b[0;32m    637\u001b[0m     \u001b[1;32mdef\u001b[0m \u001b[0mget\u001b[0m\u001b[1;33m(\u001b[0m\u001b[0mself\u001b[0m\u001b[1;33m,\u001b[0m \u001b[0mtimeout\u001b[0m\u001b[1;33m=\u001b[0m\u001b[1;32mNone\u001b[0m\u001b[1;33m)\u001b[0m\u001b[1;33m:\u001b[0m\u001b[1;33m\u001b[0m\u001b[0m\n\u001b[1;32m--> 638\u001b[1;33m         \u001b[0mself\u001b[0m\u001b[1;33m.\u001b[0m\u001b[0mwait\u001b[0m\u001b[1;33m(\u001b[0m\u001b[0mtimeout\u001b[0m\u001b[1;33m)\u001b[0m\u001b[1;33m\u001b[0m\u001b[0m\n\u001b[0m\u001b[0;32m    639\u001b[0m         \u001b[1;32mif\u001b[0m \u001b[1;32mnot\u001b[0m \u001b[0mself\u001b[0m\u001b[1;33m.\u001b[0m\u001b[0mready\u001b[0m\u001b[1;33m(\u001b[0m\u001b[1;33m)\u001b[0m\u001b[1;33m:\u001b[0m\u001b[1;33m\u001b[0m\u001b[0m\n\u001b[0;32m    640\u001b[0m             \u001b[1;32mraise\u001b[0m \u001b[0mTimeoutError\u001b[0m\u001b[1;33m\u001b[0m\u001b[0m\n",
      "\u001b[1;32mC:\\ProgramData\\Anaconda3\\lib\\multiprocessing\\pool.py\u001b[0m in \u001b[0;36mwait\u001b[1;34m(self, timeout)\u001b[0m\n\u001b[0;32m    633\u001b[0m \u001b[1;33m\u001b[0m\u001b[0m\n\u001b[0;32m    634\u001b[0m     \u001b[1;32mdef\u001b[0m \u001b[0mwait\u001b[0m\u001b[1;33m(\u001b[0m\u001b[0mself\u001b[0m\u001b[1;33m,\u001b[0m \u001b[0mtimeout\u001b[0m\u001b[1;33m=\u001b[0m\u001b[1;32mNone\u001b[0m\u001b[1;33m)\u001b[0m\u001b[1;33m:\u001b[0m\u001b[1;33m\u001b[0m\u001b[0m\n\u001b[1;32m--> 635\u001b[1;33m         \u001b[0mself\u001b[0m\u001b[1;33m.\u001b[0m\u001b[0m_event\u001b[0m\u001b[1;33m.\u001b[0m\u001b[0mwait\u001b[0m\u001b[1;33m(\u001b[0m\u001b[0mtimeout\u001b[0m\u001b[1;33m)\u001b[0m\u001b[1;33m\u001b[0m\u001b[0m\n\u001b[0m\u001b[0;32m    636\u001b[0m \u001b[1;33m\u001b[0m\u001b[0m\n\u001b[0;32m    637\u001b[0m     \u001b[1;32mdef\u001b[0m \u001b[0mget\u001b[0m\u001b[1;33m(\u001b[0m\u001b[0mself\u001b[0m\u001b[1;33m,\u001b[0m \u001b[0mtimeout\u001b[0m\u001b[1;33m=\u001b[0m\u001b[1;32mNone\u001b[0m\u001b[1;33m)\u001b[0m\u001b[1;33m:\u001b[0m\u001b[1;33m\u001b[0m\u001b[0m\n",
      "\u001b[1;32mC:\\ProgramData\\Anaconda3\\lib\\threading.py\u001b[0m in \u001b[0;36mwait\u001b[1;34m(self, timeout)\u001b[0m\n\u001b[0;32m    549\u001b[0m             \u001b[0msignaled\u001b[0m \u001b[1;33m=\u001b[0m \u001b[0mself\u001b[0m\u001b[1;33m.\u001b[0m\u001b[0m_flag\u001b[0m\u001b[1;33m\u001b[0m\u001b[0m\n\u001b[0;32m    550\u001b[0m             \u001b[1;32mif\u001b[0m \u001b[1;32mnot\u001b[0m \u001b[0msignaled\u001b[0m\u001b[1;33m:\u001b[0m\u001b[1;33m\u001b[0m\u001b[0m\n\u001b[1;32m--> 551\u001b[1;33m                 \u001b[0msignaled\u001b[0m \u001b[1;33m=\u001b[0m \u001b[0mself\u001b[0m\u001b[1;33m.\u001b[0m\u001b[0m_cond\u001b[0m\u001b[1;33m.\u001b[0m\u001b[0mwait\u001b[0m\u001b[1;33m(\u001b[0m\u001b[0mtimeout\u001b[0m\u001b[1;33m)\u001b[0m\u001b[1;33m\u001b[0m\u001b[0m\n\u001b[0m\u001b[0;32m    552\u001b[0m             \u001b[1;32mreturn\u001b[0m \u001b[0msignaled\u001b[0m\u001b[1;33m\u001b[0m\u001b[0m\n\u001b[0;32m    553\u001b[0m \u001b[1;33m\u001b[0m\u001b[0m\n",
      "\u001b[1;32mC:\\ProgramData\\Anaconda3\\lib\\threading.py\u001b[0m in \u001b[0;36mwait\u001b[1;34m(self, timeout)\u001b[0m\n\u001b[0;32m    293\u001b[0m         \u001b[1;32mtry\u001b[0m\u001b[1;33m:\u001b[0m    \u001b[1;31m# restore state no matter what (e.g., KeyboardInterrupt)\u001b[0m\u001b[1;33m\u001b[0m\u001b[0m\n\u001b[0;32m    294\u001b[0m             \u001b[1;32mif\u001b[0m \u001b[0mtimeout\u001b[0m \u001b[1;32mis\u001b[0m \u001b[1;32mNone\u001b[0m\u001b[1;33m:\u001b[0m\u001b[1;33m\u001b[0m\u001b[0m\n\u001b[1;32m--> 295\u001b[1;33m                 \u001b[0mwaiter\u001b[0m\u001b[1;33m.\u001b[0m\u001b[0macquire\u001b[0m\u001b[1;33m(\u001b[0m\u001b[1;33m)\u001b[0m\u001b[1;33m\u001b[0m\u001b[0m\n\u001b[0m\u001b[0;32m    296\u001b[0m                 \u001b[0mgotit\u001b[0m \u001b[1;33m=\u001b[0m \u001b[1;32mTrue\u001b[0m\u001b[1;33m\u001b[0m\u001b[0m\n\u001b[0;32m    297\u001b[0m             \u001b[1;32melse\u001b[0m\u001b[1;33m:\u001b[0m\u001b[1;33m\u001b[0m\u001b[0m\n",
      "\u001b[1;31mKeyboardInterrupt\u001b[0m: "
     ]
    }
   ],
   "source": [
    "%%time\n",
    "from sklearn.model_selection import GridSearchCV\n",
    "import xgboost\n",
    "from xgboost import XGBClassifier\n",
    "from sklearn.metrics import *\n",
    "from sklearn.model_selection import train_test_split\n",
    "from scipy.stats import randint as sp_randint\n",
    "import numpy as np\n",
    "from sklearn.grid_search import RandomizedSearchCV\n",
    "from scipy.stats import uniform as sp_uniform\n",
    "\n",
    "def model_cv(X_train, X_test, y_train, y_test, model_xgb, name):\n",
    "    model_xgb.fit(X_train, y_train)\n",
    "    print('Sampling name : tomelinks')\n",
    "    print(name,': ',model_xgb.best_params_)\n",
    "    pred_y = model_xgb.predict_proba(X_test)\n",
    "    print('train score: {}'.format(model_xgb.score(X_train, y_train)))\n",
    "    print('test score: {}'.format(model_xgb.score(X_test, y_test)))\n",
    "    print('log loss: {}'.format(log_loss(y_test, pred_y)))\n",
    "    print()\n",
    "\n",
    "def xgbc(X_train, X_test, y_train, y_test):\n",
    "    param= { 'n_estimators' : list(np.arange(150 , 250 , 10)),\n",
    "            'learning_rate': list(np.arange(0.1 , 0.6 ,0.5)),\n",
    "            'max_depth':[4,5,6,7]}\n",
    "    model_xgb = GridSearchCV(XGBClassifier(), param, scoring=\"neg_log_loss\",n_jobs = 4)\n",
    "    name = 'XGBoost'\n",
    "    return model_cv(X_train, X_test, y_train, y_test, model_xgb, name)\n",
    "\n",
    "\n",
    "df_imb= pd.read_csv('df_pre.csv')\n",
    "del df_imb['Unnamed: 0']\n",
    "\n",
    "\n",
    "columns=['SexuponOutcome','Color','DayuponOutcome','Breed','Name','DateTime' ,'AnimalType','BreedMix']\n",
    "df_imb_x = df_imb[columns]\n",
    "df_imb_y = df_imb.iloc[:, [3]]\n",
    "X_train, X_test, y_train, y_test = train_test_split(df_imb_x, df_imb_y, test_size = 0.3, random_state=0, shuffle=True)\n",
    "X, y = TomekLinks(random_state=0).fit_sample(X_train, y_train)\n",
    "\n",
    "final_X = pd.DataFrame(X, columns=columns)\n",
    "\n",
    "xgbc(final_X, X_test, y, y_test)"
   ]
  },
  {
   "cell_type": "code",
   "execution_count": null,
   "metadata": {
    "collapsed": true
   },
   "outputs": [],
   "source": []
  },
  {
   "cell_type": "code",
   "execution_count": null,
   "metadata": {
    "collapsed": true
   },
   "outputs": [],
   "source": []
  },
  {
   "cell_type": "markdown",
   "metadata": {
    "collapsed": true
   },
   "source": [
    "* ADASYN"
   ]
  },
  {
   "cell_type": "code",
   "execution_count": 9,
   "metadata": {
    "scrolled": true
   },
   "outputs": [
    {
     "name": "stdout",
     "output_type": "stream",
     "text": [
      "Sampling name : ADASYN\n",
      "n_estimators:[150 , 200 , 250] learning_rate: [0.01 , 0.17 , 0.25] max_depth: [4,5,6,7]\n",
      "XGBoost :  {'learning_rate': 0.17, 'max_depth': 4, 'n_estimators': 250}\n",
      "train score: -0.5046457255825866\n",
      "test score: -0.819723848647666\n",
      "log loss: 0.819723848647666\n",
      "\n",
      "Wall time: 7min 29s\n"
     ]
    }
   ],
   "source": [
    "%%time\n",
    "\n",
    "def model_cv(X_train, X_test, y_train, y_test, model_xgb, name):\n",
    "    model_xgb.fit(X_train, y_train)\n",
    "    print('Sampling name : ADASYN')\n",
    "    print( 'n_estimators:[150 , 200 , 250]',\n",
    "            'learning_rate: [0.01 , 0.17 , 0.25]',\n",
    "           'max_depth: [4,5,6,7]')\n",
    "    print(name,': ',model_xgb.best_params_)\n",
    "    pred_y = model_xgb.predict_proba(X_test)\n",
    "    print('train score: {}'.format(model_xgb.score(X_train, y_train)))\n",
    "    print('test score: {}'.format(model_xgb.score(X_test, y_test)))\n",
    "    print('log loss: {}'.format(log_loss(y_test, pred_y)))\n",
    "    print()\n",
    "\n",
    "def xgbc(X_train, X_test, y_train, y_test):\n",
    "    param= { 'n_estimators' :  [150 , 200 , 250],\n",
    "            'learning_rate' :[0.01 , 0.17 , 0.25],\n",
    "           'max_depth': [4,5,6,7]}\n",
    "    model_xgb = GridSearchCV(XGBClassifier(), param, scoring=\"neg_log_loss\",n_jobs = 4)\n",
    "    name = 'XGBoost'\n",
    "    return model_cv(X_train, X_test, y_train, y_test, model_xgb, name)\n",
    "\n",
    "\n",
    "df_imb= pd.read_csv('df_pre.csv')\n",
    "del df_imb['Unnamed: 0']\n",
    "\n",
    "\n",
    "columns=['SexuponOutcome','Color_pre','DayuponOutcome','Breed_pre','Name','DateTime' ,'AnimalType','BreedMix']\n",
    "\n",
    "df_imb_x = df_imb[columns]\n",
    "df_imb_y = df_imb.iloc[:, [3]]\n",
    "X_train, X_test, y_train, y_test = train_test_split(df_imb_x, df_imb_y, test_size = 0.3, random_state=0, shuffle=True)\n",
    "X, y = ADASYN(ratio = 'minority',random_state=0).fit_sample(X_train, y_train)\n",
    "df_final = pd.DataFrame(X, columns=columns)\n",
    "\n",
    "xgbc(df_final, X_test, y, y_test)"
   ]
  },
  {
   "cell_type": "markdown",
   "metadata": {},
   "source": [
    "* ADASYN2"
   ]
  },
  {
   "cell_type": "code",
   "execution_count": 7,
   "metadata": {
    "collapsed": true
   },
   "outputs": [
    {
     "ename": "KeyboardInterrupt",
     "evalue": "",
     "output_type": "error",
     "traceback": [
      "\u001b[1;31m---------------------------------------------------------------------------\u001b[0m",
      "\u001b[1;31mKeyboardInterrupt\u001b[0m                         Traceback (most recent call last)",
      "\u001b[1;32m<timed exec>\u001b[0m in \u001b[0;36m<module>\u001b[1;34m()\u001b[0m\n",
      "\u001b[1;32m<timed exec>\u001b[0m in \u001b[0;36mxgbc\u001b[1;34m(X_train, X_test, y_train, y_test)\u001b[0m\n",
      "\u001b[1;32m<timed exec>\u001b[0m in \u001b[0;36mmodel_cv\u001b[1;34m(X_train, X_test, y_train, y_test, model_xgb, name)\u001b[0m\n",
      "\u001b[1;32mC:\\ProgramData\\Anaconda3\\lib\\site-packages\\sklearn\\model_selection\\_search.py\u001b[0m in \u001b[0;36mfit\u001b[1;34m(self, X, y, groups, **fit_params)\u001b[0m\n\u001b[0;32m    636\u001b[0m                                   error_score=self.error_score)\n\u001b[0;32m    637\u001b[0m           for parameters, (train, test) in product(candidate_params,\n\u001b[1;32m--> 638\u001b[1;33m                                                    cv.split(X, y, groups)))\n\u001b[0m\u001b[0;32m    639\u001b[0m \u001b[1;33m\u001b[0m\u001b[0m\n\u001b[0;32m    640\u001b[0m         \u001b[1;31m# if one choose to see train score, \"out\" will contain train score info\u001b[0m\u001b[1;33m\u001b[0m\u001b[1;33m\u001b[0m\u001b[0m\n",
      "\u001b[1;32mC:\\ProgramData\\Anaconda3\\lib\\site-packages\\sklearn\\externals\\joblib\\parallel.py\u001b[0m in \u001b[0;36m__call__\u001b[1;34m(self, iterable)\u001b[0m\n\u001b[0;32m    787\u001b[0m                 \u001b[1;31m# consumption.\u001b[0m\u001b[1;33m\u001b[0m\u001b[1;33m\u001b[0m\u001b[0m\n\u001b[0;32m    788\u001b[0m                 \u001b[0mself\u001b[0m\u001b[1;33m.\u001b[0m\u001b[0m_iterating\u001b[0m \u001b[1;33m=\u001b[0m \u001b[1;32mFalse\u001b[0m\u001b[1;33m\u001b[0m\u001b[0m\n\u001b[1;32m--> 789\u001b[1;33m             \u001b[0mself\u001b[0m\u001b[1;33m.\u001b[0m\u001b[0mretrieve\u001b[0m\u001b[1;33m(\u001b[0m\u001b[1;33m)\u001b[0m\u001b[1;33m\u001b[0m\u001b[0m\n\u001b[0m\u001b[0;32m    790\u001b[0m             \u001b[1;31m# Make sure that we get a last message telling us we are done\u001b[0m\u001b[1;33m\u001b[0m\u001b[1;33m\u001b[0m\u001b[0m\n\u001b[0;32m    791\u001b[0m             \u001b[0melapsed_time\u001b[0m \u001b[1;33m=\u001b[0m \u001b[0mtime\u001b[0m\u001b[1;33m.\u001b[0m\u001b[0mtime\u001b[0m\u001b[1;33m(\u001b[0m\u001b[1;33m)\u001b[0m \u001b[1;33m-\u001b[0m \u001b[0mself\u001b[0m\u001b[1;33m.\u001b[0m\u001b[0m_start_time\u001b[0m\u001b[1;33m\u001b[0m\u001b[0m\n",
      "\u001b[1;32mC:\\ProgramData\\Anaconda3\\lib\\site-packages\\sklearn\\externals\\joblib\\parallel.py\u001b[0m in \u001b[0;36mretrieve\u001b[1;34m(self)\u001b[0m\n\u001b[0;32m    697\u001b[0m             \u001b[1;32mtry\u001b[0m\u001b[1;33m:\u001b[0m\u001b[1;33m\u001b[0m\u001b[0m\n\u001b[0;32m    698\u001b[0m                 \u001b[1;32mif\u001b[0m \u001b[0mgetattr\u001b[0m\u001b[1;33m(\u001b[0m\u001b[0mself\u001b[0m\u001b[1;33m.\u001b[0m\u001b[0m_backend\u001b[0m\u001b[1;33m,\u001b[0m \u001b[1;34m'supports_timeout'\u001b[0m\u001b[1;33m,\u001b[0m \u001b[1;32mFalse\u001b[0m\u001b[1;33m)\u001b[0m\u001b[1;33m:\u001b[0m\u001b[1;33m\u001b[0m\u001b[0m\n\u001b[1;32m--> 699\u001b[1;33m                     \u001b[0mself\u001b[0m\u001b[1;33m.\u001b[0m\u001b[0m_output\u001b[0m\u001b[1;33m.\u001b[0m\u001b[0mextend\u001b[0m\u001b[1;33m(\u001b[0m\u001b[0mjob\u001b[0m\u001b[1;33m.\u001b[0m\u001b[0mget\u001b[0m\u001b[1;33m(\u001b[0m\u001b[0mtimeout\u001b[0m\u001b[1;33m=\u001b[0m\u001b[0mself\u001b[0m\u001b[1;33m.\u001b[0m\u001b[0mtimeout\u001b[0m\u001b[1;33m)\u001b[0m\u001b[1;33m)\u001b[0m\u001b[1;33m\u001b[0m\u001b[0m\n\u001b[0m\u001b[0;32m    700\u001b[0m                 \u001b[1;32melse\u001b[0m\u001b[1;33m:\u001b[0m\u001b[1;33m\u001b[0m\u001b[0m\n\u001b[0;32m    701\u001b[0m                     \u001b[0mself\u001b[0m\u001b[1;33m.\u001b[0m\u001b[0m_output\u001b[0m\u001b[1;33m.\u001b[0m\u001b[0mextend\u001b[0m\u001b[1;33m(\u001b[0m\u001b[0mjob\u001b[0m\u001b[1;33m.\u001b[0m\u001b[0mget\u001b[0m\u001b[1;33m(\u001b[0m\u001b[1;33m)\u001b[0m\u001b[1;33m)\u001b[0m\u001b[1;33m\u001b[0m\u001b[0m\n",
      "\u001b[1;32mC:\\ProgramData\\Anaconda3\\lib\\multiprocessing\\pool.py\u001b[0m in \u001b[0;36mget\u001b[1;34m(self, timeout)\u001b[0m\n\u001b[0;32m    636\u001b[0m \u001b[1;33m\u001b[0m\u001b[0m\n\u001b[0;32m    637\u001b[0m     \u001b[1;32mdef\u001b[0m \u001b[0mget\u001b[0m\u001b[1;33m(\u001b[0m\u001b[0mself\u001b[0m\u001b[1;33m,\u001b[0m \u001b[0mtimeout\u001b[0m\u001b[1;33m=\u001b[0m\u001b[1;32mNone\u001b[0m\u001b[1;33m)\u001b[0m\u001b[1;33m:\u001b[0m\u001b[1;33m\u001b[0m\u001b[0m\n\u001b[1;32m--> 638\u001b[1;33m         \u001b[0mself\u001b[0m\u001b[1;33m.\u001b[0m\u001b[0mwait\u001b[0m\u001b[1;33m(\u001b[0m\u001b[0mtimeout\u001b[0m\u001b[1;33m)\u001b[0m\u001b[1;33m\u001b[0m\u001b[0m\n\u001b[0m\u001b[0;32m    639\u001b[0m         \u001b[1;32mif\u001b[0m \u001b[1;32mnot\u001b[0m \u001b[0mself\u001b[0m\u001b[1;33m.\u001b[0m\u001b[0mready\u001b[0m\u001b[1;33m(\u001b[0m\u001b[1;33m)\u001b[0m\u001b[1;33m:\u001b[0m\u001b[1;33m\u001b[0m\u001b[0m\n\u001b[0;32m    640\u001b[0m             \u001b[1;32mraise\u001b[0m \u001b[0mTimeoutError\u001b[0m\u001b[1;33m\u001b[0m\u001b[0m\n",
      "\u001b[1;32mC:\\ProgramData\\Anaconda3\\lib\\multiprocessing\\pool.py\u001b[0m in \u001b[0;36mwait\u001b[1;34m(self, timeout)\u001b[0m\n\u001b[0;32m    633\u001b[0m \u001b[1;33m\u001b[0m\u001b[0m\n\u001b[0;32m    634\u001b[0m     \u001b[1;32mdef\u001b[0m \u001b[0mwait\u001b[0m\u001b[1;33m(\u001b[0m\u001b[0mself\u001b[0m\u001b[1;33m,\u001b[0m \u001b[0mtimeout\u001b[0m\u001b[1;33m=\u001b[0m\u001b[1;32mNone\u001b[0m\u001b[1;33m)\u001b[0m\u001b[1;33m:\u001b[0m\u001b[1;33m\u001b[0m\u001b[0m\n\u001b[1;32m--> 635\u001b[1;33m         \u001b[0mself\u001b[0m\u001b[1;33m.\u001b[0m\u001b[0m_event\u001b[0m\u001b[1;33m.\u001b[0m\u001b[0mwait\u001b[0m\u001b[1;33m(\u001b[0m\u001b[0mtimeout\u001b[0m\u001b[1;33m)\u001b[0m\u001b[1;33m\u001b[0m\u001b[0m\n\u001b[0m\u001b[0;32m    636\u001b[0m \u001b[1;33m\u001b[0m\u001b[0m\n\u001b[0;32m    637\u001b[0m     \u001b[1;32mdef\u001b[0m \u001b[0mget\u001b[0m\u001b[1;33m(\u001b[0m\u001b[0mself\u001b[0m\u001b[1;33m,\u001b[0m \u001b[0mtimeout\u001b[0m\u001b[1;33m=\u001b[0m\u001b[1;32mNone\u001b[0m\u001b[1;33m)\u001b[0m\u001b[1;33m:\u001b[0m\u001b[1;33m\u001b[0m\u001b[0m\n",
      "\u001b[1;32mC:\\ProgramData\\Anaconda3\\lib\\threading.py\u001b[0m in \u001b[0;36mwait\u001b[1;34m(self, timeout)\u001b[0m\n\u001b[0;32m    549\u001b[0m             \u001b[0msignaled\u001b[0m \u001b[1;33m=\u001b[0m \u001b[0mself\u001b[0m\u001b[1;33m.\u001b[0m\u001b[0m_flag\u001b[0m\u001b[1;33m\u001b[0m\u001b[0m\n\u001b[0;32m    550\u001b[0m             \u001b[1;32mif\u001b[0m \u001b[1;32mnot\u001b[0m \u001b[0msignaled\u001b[0m\u001b[1;33m:\u001b[0m\u001b[1;33m\u001b[0m\u001b[0m\n\u001b[1;32m--> 551\u001b[1;33m                 \u001b[0msignaled\u001b[0m \u001b[1;33m=\u001b[0m \u001b[0mself\u001b[0m\u001b[1;33m.\u001b[0m\u001b[0m_cond\u001b[0m\u001b[1;33m.\u001b[0m\u001b[0mwait\u001b[0m\u001b[1;33m(\u001b[0m\u001b[0mtimeout\u001b[0m\u001b[1;33m)\u001b[0m\u001b[1;33m\u001b[0m\u001b[0m\n\u001b[0m\u001b[0;32m    552\u001b[0m             \u001b[1;32mreturn\u001b[0m \u001b[0msignaled\u001b[0m\u001b[1;33m\u001b[0m\u001b[0m\n\u001b[0;32m    553\u001b[0m \u001b[1;33m\u001b[0m\u001b[0m\n",
      "\u001b[1;32mC:\\ProgramData\\Anaconda3\\lib\\threading.py\u001b[0m in \u001b[0;36mwait\u001b[1;34m(self, timeout)\u001b[0m\n\u001b[0;32m    293\u001b[0m         \u001b[1;32mtry\u001b[0m\u001b[1;33m:\u001b[0m    \u001b[1;31m# restore state no matter what (e.g., KeyboardInterrupt)\u001b[0m\u001b[1;33m\u001b[0m\u001b[0m\n\u001b[0;32m    294\u001b[0m             \u001b[1;32mif\u001b[0m \u001b[0mtimeout\u001b[0m \u001b[1;32mis\u001b[0m \u001b[1;32mNone\u001b[0m\u001b[1;33m:\u001b[0m\u001b[1;33m\u001b[0m\u001b[0m\n\u001b[1;32m--> 295\u001b[1;33m                 \u001b[0mwaiter\u001b[0m\u001b[1;33m.\u001b[0m\u001b[0macquire\u001b[0m\u001b[1;33m(\u001b[0m\u001b[1;33m)\u001b[0m\u001b[1;33m\u001b[0m\u001b[0m\n\u001b[0m\u001b[0;32m    296\u001b[0m                 \u001b[0mgotit\u001b[0m \u001b[1;33m=\u001b[0m \u001b[1;32mTrue\u001b[0m\u001b[1;33m\u001b[0m\u001b[0m\n\u001b[0;32m    297\u001b[0m             \u001b[1;32melse\u001b[0m\u001b[1;33m:\u001b[0m\u001b[1;33m\u001b[0m\u001b[0m\n",
      "\u001b[1;31mKeyboardInterrupt\u001b[0m: "
     ]
    }
   ],
   "source": [
    "%%time\n",
    "\n",
    "def model_cv(X_train, X_test, y_train, y_test, model_xgb, name):\n",
    "    model_xgb.fit(X_train, y_train)\n",
    "    print('Sampling name : ADASYN')\n",
    "    print( 'n_estimators:[300, 325, 350, 375, 400, 425, 450, 475, 500]',\n",
    "            'learning_rate: [ 0.25 , 0.50 , 0.75]',\n",
    "           'max_depth: [4,5,6,7]')\n",
    "    print(name,': ',model_xgb.best_params_)\n",
    "    pred_y = model_xgb.predict_proba(X_test)\n",
    "    print('train score: {}'.format(model_xgb.score(X_train, y_train)))\n",
    "    print('test score: {}'.format(model_xgb.score(X_test, y_test)))\n",
    "    print('log loss: {}'.format(log_loss(y_test, pred_y)))\n",
    "    print()\n",
    "\n",
    "def xgbc(X_train, X_test, y_train, y_test):\n",
    "    param= { 'n_estimators' :   [300, 325, 350, 375, 400, 425, 450, 475, 500],\n",
    "            'learning_rate' :[ 0.25 , 0.50 , 0.75],\n",
    "           'max_depth': [4]}\n",
    "    model_xgb = GridSearchCV(XGBClassifier(), param, scoring=\"neg_log_loss\",n_jobs = 4)\n",
    "    name = 'XGBoost'\n",
    "    return model_cv(X_train, X_test, y_train, y_test, model_xgb, name)\n",
    "\n",
    "\n",
    "df_imb= pd.read_csv('df_pre.csv')\n",
    "del df_imb['Unnamed: 0']\n",
    "\n",
    "\n",
    "columns=['SexuponOutcome','Color_pre','DayuponOutcome','Breed_pre','Name','DateTime' ,'AnimalType','BreedMix']\n",
    "\n",
    "df_imb_x = df_imb[columns]\n",
    "df_imb_y = df_imb.iloc[:, [3]]\n",
    "X_train, X_test, y_train, y_test = train_test_split(df_imb_x, df_imb_y, test_size = 0.3, random_state=0, shuffle=True)\n",
    "X, y = ADASYN(ratio = 'minority',random_state=0).fit_sample(X_train, y_train)\n",
    "\n",
    "final_X = pd.DataFrame(X, columns=columns)\n",
    "\n",
    "xgbc(final_X, X_test, y, y_test)"
   ]
  },
  {
   "cell_type": "code",
   "execution_count": null,
   "metadata": {
    "collapsed": true
   },
   "outputs": [],
   "source": []
  },
  {
   "cell_type": "code",
   "execution_count": null,
   "metadata": {
    "collapsed": true
   },
   "outputs": [],
   "source": []
  },
  {
   "cell_type": "code",
   "execution_count": null,
   "metadata": {
    "collapsed": true
   },
   "outputs": [],
   "source": []
  },
  {
   "cell_type": "code",
   "execution_count": null,
   "metadata": {
    "collapsed": true
   },
   "outputs": [],
   "source": []
  },
  {
   "cell_type": "code",
   "execution_count": null,
   "metadata": {
    "collapsed": true
   },
   "outputs": [],
   "source": []
  },
  {
   "cell_type": "code",
   "execution_count": null,
   "metadata": {
    "collapsed": true
   },
   "outputs": [],
   "source": []
  },
  {
   "cell_type": "code",
   "execution_count": null,
   "metadata": {
    "collapsed": true
   },
   "outputs": [],
   "source": []
  },
  {
   "cell_type": "markdown",
   "metadata": {},
   "source": [
    "# 오버샘플링"
   ]
  },
  {
   "cell_type": "markdown",
   "metadata": {},
   "source": [
    "* RandomOverSampler"
   ]
  },
  {
   "cell_type": "code",
   "execution_count": 10,
   "metadata": {},
   "outputs": [
    {
     "name": "stdout",
     "output_type": "stream",
     "text": [
      "Sampling name : RandomOverSampler\n",
      "XGBoost :  {'n_estimators': 100}\n",
      "train score: -1.0228018723955208\n",
      "test score: -1.0835411517442664\n",
      "log loss: 1.0835411517442664\n",
      "\n",
      "Wall time: 20.9 s\n"
     ]
    }
   ],
   "source": [
    "%%time\n",
    "\n",
    "def model_cv(X_train, X_test, y_train, y_test, model_xgb, name):\n",
    "    model_xgb.fit(X_train, y_train)\n",
    "    print('Sampling name : RandomOverSampler')\n",
    "    print(name,': ',model_xgb.best_params_)\n",
    "    pred_y = model_xgb.predict_proba(X_test)\n",
    "    print('train score: {}'.format(model_xgb.score(X_train, y_train)))\n",
    "    print('test score: {}'.format(model_xgb.score(X_test, y_test)))\n",
    "    print('log loss: {}'.format(log_loss(y_test, pred_y)))\n",
    "    print()\n",
    "\n",
    "def xgbc(X_train, X_test, y_train, y_test):\n",
    "    param= { 'n_estimators' : [100]}\n",
    "    model_xgb = GridSearchCV(XGBClassifier(), param, scoring=\"neg_log_loss\",n_jobs = 4)\n",
    "    name = 'XGBoost'\n",
    "    return model_cv(X_train, X_test, y_train, y_test, model_xgb, name)\n",
    "\n",
    "\n",
    "df_imb= pd.read_csv('df_pre.csv')\n",
    "del df_imb['Unnamed: 0']\n",
    "\n",
    "\n",
    "columns=['SexuponOutcome','Color_pre','DayuponOutcome','Breed_pre','Name','DateTime' ,'AnimalType','BreedMix']\n",
    "\n",
    "df_imb_x = df_imb[columns]\n",
    "df_imb_y = df_imb.iloc[:, [3]]\n",
    "X_train, X_test, y_train, y_test = train_test_split(df_imb_x, df_imb_y, test_size = 0.3, random_state=0, shuffle=True)\n",
    "\n",
    "X, y = RandomOverSampler(random_state=0).fit_sample(X_train, y_train)\n",
    "final_X = pd.DataFrame(X, columns=columns)\n",
    "\n",
    "xgbc(final_X, X_test, y, y_test)"
   ]
  },
  {
   "cell_type": "markdown",
   "metadata": {},
   "source": [
    "* ADASYN"
   ]
  },
  {
   "cell_type": "code",
   "execution_count": 11,
   "metadata": {},
   "outputs": [
    {
     "name": "stdout",
     "output_type": "stream",
     "text": [
      "Sampling name : ADASYN\n",
      "XGBoost :  {'n_estimators': 100}\n",
      "train score: -0.6644230309532677\n",
      "test score: -0.8745810331058764\n",
      "log loss: 0.8745810331058764\n",
      "\n",
      "Wall time: 19.8 s\n"
     ]
    }
   ],
   "source": [
    "%%time\n",
    "\n",
    "def model_cv(X_train, X_test, y_train, y_test, model_xgb, name):\n",
    "    model_xgb.fit(X_train, y_train)\n",
    "    print('Sampling name : ADASYN')\n",
    "    print(name,': ',model_xgb.best_params_)\n",
    "    pred_y = model_xgb.predict_proba(X_test)\n",
    "    print('train score: {}'.format(model_xgb.score(X_train, y_train)))\n",
    "    print('test score: {}'.format(model_xgb.score(X_test, y_test)))\n",
    "    print('log loss: {}'.format(log_loss(y_test, pred_y)))\n",
    "    print()\n",
    "\n",
    "def xgbc(X_train, X_test, y_train, y_test):\n",
    "    param= { 'n_estimators' : [100]}\n",
    "    model_xgb = GridSearchCV(XGBClassifier(), param, scoring=\"neg_log_loss\",n_jobs = 4)\n",
    "    name = 'XGBoost'\n",
    "    return model_cv(X_train, X_test, y_train, y_test, model_xgb, name)\n",
    "\n",
    "\n",
    "df_imb= pd.read_csv('df_pre.csv')\n",
    "del df_imb['Unnamed: 0']\n",
    "\n",
    "\n",
    "columns=['SexuponOutcome','Color_pre','DayuponOutcome','Breed_pre','Name','DateTime' ,'AnimalType','BreedMix']\n",
    "\n",
    "df_imb_x = df_imb[columns]\n",
    "df_imb_y = df_imb.iloc[:, [3]]\n",
    "X_train, X_test, y_train, y_test = train_test_split(df_imb_x, df_imb_y, test_size = 0.3, random_state=0, shuffle=True)\n",
    "\n",
    "X, y = ADASYN(ratio = 'minority',random_state=0).fit_sample(X_train, y_train)\n",
    "final_X = pd.DataFrame(X, columns=columns)\n",
    "\n",
    "xgbc(final_X, X_test, y, y_test)"
   ]
  },
  {
   "cell_type": "markdown",
   "metadata": {},
   "source": [
    "* SMOTE"
   ]
  },
  {
   "cell_type": "code",
   "execution_count": 12,
   "metadata": {},
   "outputs": [
    {
     "name": "stdout",
     "output_type": "stream",
     "text": [
      "Sampling name : SMOTE\n",
      "XGBoost :  {'n_estimators': 100}\n",
      "train score: -0.8277837696861409\n",
      "test score: -0.9217500570947348\n",
      "log loss: 0.9217500570947348\n",
      "\n",
      "Wall time: 23 s\n"
     ]
    }
   ],
   "source": [
    "%%time\n",
    "\n",
    "\n",
    "def model_cv(X_train, X_test, y_train, y_test, model_xgb, name):\n",
    "    model_xgb.fit(X_train, y_train)\n",
    "    print('Sampling name : SMOTE')\n",
    "    print(name,': ',model_xgb.best_params_)\n",
    "    pred_y = model_xgb.predict_proba(X_test)\n",
    "    print('train score: {}'.format(model_xgb.score(X_train, y_train)))\n",
    "    print('test score: {}'.format(model_xgb.score(X_test, y_test)))\n",
    "    print('log loss: {}'.format(log_loss(y_test, pred_y)))\n",
    "    print()\n",
    "\n",
    "def xgbc(X_train, X_test, y_train, y_test):\n",
    "    param= { 'n_estimators' : [100]}\n",
    "    model_xgb = GridSearchCV(XGBClassifier(), param, scoring=\"neg_log_loss\",n_jobs = 4)\n",
    "    name = 'XGBoost'\n",
    "    return model_cv(X_train, X_test, y_train, y_test, model_xgb, name)\n",
    "\n",
    "\n",
    "df_imb= pd.read_csv('df_pre.csv')\n",
    "del df_imb['Unnamed: 0']\n",
    "\n",
    "\n",
    "columns=['SexuponOutcome','Color_pre','DayuponOutcome','Breed_pre','Name','DateTime' ,'AnimalType','BreedMix']\n",
    "\n",
    "df_imb_x = df_imb[columns]\n",
    "df_imb_y = df_imb.iloc[:, [3]]\n",
    "X_train, X_test, y_train, y_test = train_test_split(df_imb_x, df_imb_y, test_size = 0.3, random_state=0, shuffle=True)\n",
    "\n",
    "X, y = SMOTE(random_state=0).fit_sample(X_train, y_train)\n",
    "final_X = pd.DataFrame(X, columns=columns)\n",
    "\n",
    "xgbc(final_X, X_test, y, y_test)"
   ]
  },
  {
   "cell_type": "code",
   "execution_count": null,
   "metadata": {
    "collapsed": true
   },
   "outputs": [],
   "source": []
  },
  {
   "cell_type": "markdown",
   "metadata": {},
   "source": [
    "# 복합샘플링 "
   ]
  },
  {
   "cell_type": "markdown",
   "metadata": {},
   "source": [
    "* SMOTEENN"
   ]
  },
  {
   "cell_type": "code",
   "execution_count": 13,
   "metadata": {},
   "outputs": [
    {
     "name": "stdout",
     "output_type": "stream",
     "text": [
      "Sampling name : SMOTEENN\n",
      "XGBoost :  {'n_estimators': 100}\n",
      "train score: -0.5231346654950687\n",
      "test score: -1.366697772760151\n",
      "log loss: 1.366697772760151\n",
      "\n",
      "Wall time: 18.9 s\n"
     ]
    }
   ],
   "source": [
    "%%time\n",
    "\n",
    "\n",
    "def model_cv(X_train, X_test, y_train, y_test, model_xgb, name):\n",
    "    model_xgb.fit(X_train, y_train)\n",
    "    print('Sampling name : SMOTEENN')\n",
    "    print(name,': ',model_xgb.best_params_)\n",
    "    pred_y = model_xgb.predict_proba(X_test)\n",
    "    print('train score: {}'.format(model_xgb.score(X_train, y_train)))\n",
    "    print('test score: {}'.format(model_xgb.score(X_test, y_test)))\n",
    "    print('log loss: {}'.format(log_loss(y_test, pred_y)))\n",
    "    print()\n",
    "\n",
    "def xgbc(X_train, X_test, y_train, y_test):\n",
    "    param= { 'n_estimators' : [100]}\n",
    "    model_xgb = GridSearchCV(XGBClassifier(), param, scoring=\"neg_log_loss\",n_jobs = 4)\n",
    "    name = 'XGBoost'\n",
    "    return model_cv(X_train, X_test, y_train, y_test, model_xgb, name)\n",
    "\n",
    "\n",
    "df_imb= pd.read_csv('df_pre.csv')\n",
    "del df_imb['Unnamed: 0']\n",
    "\n",
    "\n",
    "columns=['SexuponOutcome','Color_pre','DayuponOutcome','Breed_pre','Name','DateTime' ,'AnimalType','BreedMix']\n",
    "\n",
    "df_imb_x = df_imb[columns]\n",
    "df_imb_y = df_imb.iloc[:, [3]]\n",
    "X_train, X_test, y_train, y_test = train_test_split(df_imb_x, df_imb_y, test_size = 0.3, random_state=0, shuffle=True)\n",
    "\n",
    "X, y = SMOTEENN(random_state=0).fit_sample(X_train, y_train)\n",
    "final_X = pd.DataFrame(X, columns=columns)\n",
    "\n",
    "xgbc(final_X, X_test, y, y_test)"
   ]
  },
  {
   "cell_type": "markdown",
   "metadata": {},
   "source": [
    "* SMOTETomek"
   ]
  },
  {
   "cell_type": "code",
   "execution_count": 14,
   "metadata": {},
   "outputs": [
    {
     "name": "stdout",
     "output_type": "stream",
     "text": [
      "Sampling name : SMOTETomek\n",
      "XGBoost :  {'n_estimators': 100}\n",
      "train score: -0.7944025310495435\n",
      "test score: -0.9446675039917019\n",
      "log loss: 0.9446675039917019\n",
      "\n",
      "Wall time: 22.1 s\n"
     ]
    }
   ],
   "source": [
    "%%time\n",
    "\n",
    "\n",
    "def model_cv(X_train, X_test, y_train, y_test, model_xgb, name):\n",
    "    model_xgb.fit(X_train, y_train)\n",
    "    print('Sampling name : SMOTETomek')\n",
    "    print(name,': ',model_xgb.best_params_)\n",
    "    pred_y = model_xgb.predict_proba(X_test)\n",
    "    print('train score: {}'.format(model_xgb.score(X_train, y_train)))\n",
    "    print('test score: {}'.format(model_xgb.score(X_test, y_test)))\n",
    "    print('log loss: {}'.format(log_loss(y_test, pred_y)))\n",
    "    print()\n",
    "\n",
    "def xgbc(X_train, X_test, y_train, y_test):\n",
    "    param= { 'n_estimators' : [100]}\n",
    "    model_xgb = GridSearchCV(XGBClassifier(), param, scoring=\"neg_log_loss\",n_jobs = 4)\n",
    "    name = 'XGBoost'\n",
    "    return model_cv(X_train, X_test, y_train, y_test, model_xgb, name)\n",
    "\n",
    "\n",
    "df_imb= pd.read_csv('df_pre.csv')\n",
    "del df_imb['Unnamed: 0']\n",
    "\n",
    "\n",
    "columns=['SexuponOutcome','Color_pre','DayuponOutcome','Breed_pre','Name','DateTime' ,'AnimalType','BreedMix']\n",
    "\n",
    "df_imb_x = df_imb[columns]\n",
    "df_imb_y = df_imb.iloc[:, [3]]\n",
    "X_train, X_test, y_train, y_test = train_test_split(df_imb_x, df_imb_y, test_size = 0.3, random_state=0, shuffle=True)\n",
    "\n",
    "X, y = SMOTETomek(random_state=0).fit_sample(X_train, y_train)\n",
    "final_X = pd.DataFrame(X, columns=columns)\n",
    "\n",
    "xgbc(final_X, X_test, y, y_test)"
   ]
  },
  {
   "cell_type": "code",
   "execution_count": null,
   "metadata": {
    "collapsed": true
   },
   "outputs": [],
   "source": []
  },
  {
   "cell_type": "code",
   "execution_count": null,
   "metadata": {
    "collapsed": true
   },
   "outputs": [],
   "source": []
  },
  {
   "cell_type": "code",
   "execution_count": null,
   "metadata": {
    "collapsed": true
   },
   "outputs": [],
   "source": []
  }
 ],
 "metadata": {
  "kernelspec": {
   "display_name": "Python 3",
   "language": "python",
   "name": "python3"
  },
  "language_info": {
   "codemirror_mode": {
    "name": "ipython",
    "version": 3
   },
   "file_extension": ".py",
   "mimetype": "text/x-python",
   "name": "python",
   "nbconvert_exporter": "python",
   "pygments_lexer": "ipython3",
   "version": "3.6.2"
  }
 },
 "nbformat": 4,
 "nbformat_minor": 2
}
