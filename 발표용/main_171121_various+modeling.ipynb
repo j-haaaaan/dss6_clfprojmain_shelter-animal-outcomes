{
 "cells": [
  {
   "cell_type": "code",
   "execution_count": 1,
   "metadata": {},
   "outputs": [
    {
     "name": "stderr",
     "output_type": "stream",
     "text": [
      "/home/dockeruser/anaconda3/lib/python3.6/site-packages/sklearn/cross_validation.py:41: DeprecationWarning: This module was deprecated in version 0.18 in favor of the model_selection module into which all the refactored classes and functions are moved. Also note that the interface of the new CV iterators are different from that of this module. This module will be removed in 0.20.\n",
      "  \"This module will be removed in 0.20.\", DeprecationWarning)\n"
     ]
    }
   ],
   "source": [
    "import pandas as pd\n",
    "import numpy as np\n",
    "import matplotlib.pyplot as plt\n",
    "import seaborn as sns\n",
    "from pandas import DataFrame, Series\n",
    "from sklearn.preprocessing import LabelEncoder\n",
    "from sklearn import preprocessing\n",
    "import warnings\n",
    "from sklearn.model_selection import cross_val_score\n",
    "from sklearn.model_selection import KFold\n",
    "import xgboost\n",
    "from sklearn.metrics import *\n",
    "from imblearn.under_sampling import *\n",
    "from imblearn.over_sampling import *\n",
    "from imblearn.combine import *\n",
    "from sklearn.model_selection import train_test_split\n",
    "\n",
    "\n",
    "warnings.filterwarnings('ignore')\n",
    "pd.set_option('display.max_rows', 30000)\n",
    "pd.set_option('display.max_columns', 500)\n",
    "pd.set_option('display.width', 1000)"
   ]
  },
  {
   "cell_type": "markdown",
   "metadata": {},
   "source": [
    "# 모델링"
   ]
  },
  {
   "cell_type": "code",
   "execution_count": 2,
   "metadata": {
    "scrolled": false
   },
   "outputs": [
    {
     "name": "stdout",
     "output_type": "stream",
     "text": [
      "(26729, 24)\n"
     ]
    },
    {
     "data": {
      "text/html": [
       "<div>\n",
       "<style>\n",
       "    .dataframe thead tr:only-child th {\n",
       "        text-align: right;\n",
       "    }\n",
       "\n",
       "    .dataframe thead th {\n",
       "        text-align: left;\n",
       "    }\n",
       "\n",
       "    .dataframe tbody tr th {\n",
       "        vertical-align: top;\n",
       "    }\n",
       "</style>\n",
       "<table border=\"1\" class=\"dataframe\">\n",
       "  <thead>\n",
       "    <tr style=\"text-align: right;\">\n",
       "      <th></th>\n",
       "      <th>Unnamed: 0</th>\n",
       "      <th>AnimalID</th>\n",
       "      <th>Name</th>\n",
       "      <th>DateTime</th>\n",
       "      <th>OutcomeType</th>\n",
       "      <th>OutcomeSubtype</th>\n",
       "      <th>AnimalType</th>\n",
       "      <th>SexuponOutcome</th>\n",
       "      <th>AgeuponOutcome</th>\n",
       "      <th>Breed</th>\n",
       "      <th>Color</th>\n",
       "      <th>Color_pre</th>\n",
       "      <th>DayuponOutcome</th>\n",
       "      <th>AboutAge</th>\n",
       "      <th>BreedMix</th>\n",
       "      <th>Breed_pre</th>\n",
       "      <th>Year</th>\n",
       "      <th>Month</th>\n",
       "      <th>YearMonth</th>\n",
       "      <th>Hour</th>\n",
       "      <th>Season</th>\n",
       "      <th>Quarter</th>\n",
       "      <th>Group</th>\n",
       "      <th>Size</th>\n",
       "    </tr>\n",
       "  </thead>\n",
       "  <tbody>\n",
       "    <tr>\n",
       "      <th>26724</th>\n",
       "      <td>26724</td>\n",
       "      <td>18631</td>\n",
       "      <td>0</td>\n",
       "      <td>14983</td>\n",
       "      <td>4</td>\n",
       "      <td>Partner</td>\n",
       "      <td>0</td>\n",
       "      <td>1</td>\n",
       "      <td>2</td>\n",
       "      <td>640</td>\n",
       "      <td>111</td>\n",
       "      <td>2</td>\n",
       "      <td>30</td>\n",
       "      <td>2</td>\n",
       "      <td>1</td>\n",
       "      <td>80</td>\n",
       "      <td>2</td>\n",
       "      <td>4</td>\n",
       "      <td>19</td>\n",
       "      <td>11</td>\n",
       "      <td>1</td>\n",
       "      <td>1</td>\n",
       "      <td>8</td>\n",
       "      <td>5</td>\n",
       "    </tr>\n",
       "    <tr>\n",
       "      <th>26725</th>\n",
       "      <td>26725</td>\n",
       "      <td>26055</td>\n",
       "      <td>0</td>\n",
       "      <td>22209</td>\n",
       "      <td>4</td>\n",
       "      <td>SCRP</td>\n",
       "      <td>0</td>\n",
       "      <td>3</td>\n",
       "      <td>24</td>\n",
       "      <td>640</td>\n",
       "      <td>104</td>\n",
       "      <td>2</td>\n",
       "      <td>90</td>\n",
       "      <td>2</td>\n",
       "      <td>1</td>\n",
       "      <td>80</td>\n",
       "      <td>3</td>\n",
       "      <td>0</td>\n",
       "      <td>27</td>\n",
       "      <td>18</td>\n",
       "      <td>3</td>\n",
       "      <td>0</td>\n",
       "      <td>8</td>\n",
       "      <td>5</td>\n",
       "    </tr>\n",
       "    <tr>\n",
       "      <th>26726</th>\n",
       "      <td>26726</td>\n",
       "      <td>16731</td>\n",
       "      <td>1</td>\n",
       "      <td>13463</td>\n",
       "      <td>0</td>\n",
       "      <td>NaN</td>\n",
       "      <td>1</td>\n",
       "      <td>2</td>\n",
       "      <td>30</td>\n",
       "      <td>1022</td>\n",
       "      <td>353</td>\n",
       "      <td>22</td>\n",
       "      <td>1460</td>\n",
       "      <td>20</td>\n",
       "      <td>1</td>\n",
       "      <td>147</td>\n",
       "      <td>2</td>\n",
       "      <td>2</td>\n",
       "      <td>17</td>\n",
       "      <td>13</td>\n",
       "      <td>1</td>\n",
       "      <td>0</td>\n",
       "      <td>12</td>\n",
       "      <td>9</td>\n",
       "    </tr>\n",
       "    <tr>\n",
       "      <th>26727</th>\n",
       "      <td>26727</td>\n",
       "      <td>7450</td>\n",
       "      <td>0</td>\n",
       "      <td>5074</td>\n",
       "      <td>4</td>\n",
       "      <td>Partner</td>\n",
       "      <td>0</td>\n",
       "      <td>1</td>\n",
       "      <td>29</td>\n",
       "      <td>640</td>\n",
       "      <td>5</td>\n",
       "      <td>0</td>\n",
       "      <td>28</td>\n",
       "      <td>2</td>\n",
       "      <td>1</td>\n",
       "      <td>80</td>\n",
       "      <td>1</td>\n",
       "      <td>3</td>\n",
       "      <td>6</td>\n",
       "      <td>12</td>\n",
       "      <td>1</td>\n",
       "      <td>1</td>\n",
       "      <td>8</td>\n",
       "      <td>5</td>\n",
       "    </tr>\n",
       "    <tr>\n",
       "      <th>26728</th>\n",
       "      <td>26728</td>\n",
       "      <td>20751</td>\n",
       "      <td>0</td>\n",
       "      <td>16611</td>\n",
       "      <td>4</td>\n",
       "      <td>SCRP</td>\n",
       "      <td>0</td>\n",
       "      <td>1</td>\n",
       "      <td>5</td>\n",
       "      <td>640</td>\n",
       "      <td>111</td>\n",
       "      <td>2</td>\n",
       "      <td>365</td>\n",
       "      <td>2</td>\n",
       "      <td>1</td>\n",
       "      <td>80</td>\n",
       "      <td>2</td>\n",
       "      <td>6</td>\n",
       "      <td>21</td>\n",
       "      <td>9</td>\n",
       "      <td>2</td>\n",
       "      <td>2</td>\n",
       "      <td>8</td>\n",
       "      <td>5</td>\n",
       "    </tr>\n",
       "  </tbody>\n",
       "</table>\n",
       "</div>"
      ],
      "text/plain": [
       "       Unnamed: 0  AnimalID  Name  DateTime  OutcomeType OutcomeSubtype  AnimalType  SexuponOutcome  AgeuponOutcome  Breed  Color  Color_pre  DayuponOutcome  AboutAge  BreedMix  Breed_pre  Year  Month  YearMonth  Hour  Season  Quarter  Group  Size\n",
       "26724       26724     18631     0     14983            4        Partner           0               1               2    640    111          2              30         2         1         80     2      4         19    11       1        1      8     5\n",
       "26725       26725     26055     0     22209            4           SCRP           0               3              24    640    104          2              90         2         1         80     3      0         27    18       3        0      8     5\n",
       "26726       26726     16731     1     13463            0            NaN           1               2              30   1022    353         22            1460        20         1        147     2      2         17    13       1        0     12     9\n",
       "26727       26727      7450     0      5074            4        Partner           0               1              29    640      5          0              28         2         1         80     1      3          6    12       1        1      8     5\n",
       "26728       26728     20751     0     16611            4           SCRP           0               1               5    640    111          2             365         2         1         80     2      6         21     9       2        2      8     5"
      ]
     },
     "execution_count": 2,
     "metadata": {},
     "output_type": "execute_result"
    }
   ],
   "source": [
    "df_pre = pd.read_csv('data/df_pre.csv')\n",
    "print(np.shape(df_pre))\n",
    "df_pre.tail()"
   ]
  },
  {
   "cell_type": "code",
   "execution_count": 3,
   "metadata": {
    "collapsed": true
   },
   "outputs": [],
   "source": [
    "del df_pre['Unnamed: 0']"
   ]
  },
  {
   "cell_type": "code",
   "execution_count": 4,
   "metadata": {},
   "outputs": [
    {
     "name": "stdout",
     "output_type": "stream",
     "text": [
      "(26729, 23)\n"
     ]
    },
    {
     "data": {
      "text/html": [
       "<div>\n",
       "<style>\n",
       "    .dataframe thead tr:only-child th {\n",
       "        text-align: right;\n",
       "    }\n",
       "\n",
       "    .dataframe thead th {\n",
       "        text-align: left;\n",
       "    }\n",
       "\n",
       "    .dataframe tbody tr th {\n",
       "        vertical-align: top;\n",
       "    }\n",
       "</style>\n",
       "<table border=\"1\" class=\"dataframe\">\n",
       "  <thead>\n",
       "    <tr style=\"text-align: right;\">\n",
       "      <th></th>\n",
       "      <th>AnimalID</th>\n",
       "      <th>Name</th>\n",
       "      <th>DateTime</th>\n",
       "      <th>OutcomeType</th>\n",
       "      <th>OutcomeSubtype</th>\n",
       "      <th>AnimalType</th>\n",
       "      <th>SexuponOutcome</th>\n",
       "      <th>AgeuponOutcome</th>\n",
       "      <th>Breed</th>\n",
       "      <th>Color</th>\n",
       "      <th>Color_pre</th>\n",
       "      <th>DayuponOutcome</th>\n",
       "      <th>AboutAge</th>\n",
       "      <th>BreedMix</th>\n",
       "      <th>Breed_pre</th>\n",
       "      <th>Year</th>\n",
       "      <th>Month</th>\n",
       "      <th>YearMonth</th>\n",
       "      <th>Hour</th>\n",
       "      <th>Season</th>\n",
       "      <th>Quarter</th>\n",
       "      <th>Group</th>\n",
       "      <th>Size</th>\n",
       "    </tr>\n",
       "  </thead>\n",
       "  <tbody>\n",
       "    <tr>\n",
       "      <th>26724</th>\n",
       "      <td>18631</td>\n",
       "      <td>0</td>\n",
       "      <td>14983</td>\n",
       "      <td>4</td>\n",
       "      <td>Partner</td>\n",
       "      <td>0</td>\n",
       "      <td>1</td>\n",
       "      <td>2</td>\n",
       "      <td>640</td>\n",
       "      <td>111</td>\n",
       "      <td>2</td>\n",
       "      <td>30</td>\n",
       "      <td>2</td>\n",
       "      <td>1</td>\n",
       "      <td>80</td>\n",
       "      <td>2</td>\n",
       "      <td>4</td>\n",
       "      <td>19</td>\n",
       "      <td>11</td>\n",
       "      <td>1</td>\n",
       "      <td>1</td>\n",
       "      <td>8</td>\n",
       "      <td>5</td>\n",
       "    </tr>\n",
       "    <tr>\n",
       "      <th>26725</th>\n",
       "      <td>26055</td>\n",
       "      <td>0</td>\n",
       "      <td>22209</td>\n",
       "      <td>4</td>\n",
       "      <td>SCRP</td>\n",
       "      <td>0</td>\n",
       "      <td>3</td>\n",
       "      <td>24</td>\n",
       "      <td>640</td>\n",
       "      <td>104</td>\n",
       "      <td>2</td>\n",
       "      <td>90</td>\n",
       "      <td>2</td>\n",
       "      <td>1</td>\n",
       "      <td>80</td>\n",
       "      <td>3</td>\n",
       "      <td>0</td>\n",
       "      <td>27</td>\n",
       "      <td>18</td>\n",
       "      <td>3</td>\n",
       "      <td>0</td>\n",
       "      <td>8</td>\n",
       "      <td>5</td>\n",
       "    </tr>\n",
       "    <tr>\n",
       "      <th>26726</th>\n",
       "      <td>16731</td>\n",
       "      <td>1</td>\n",
       "      <td>13463</td>\n",
       "      <td>0</td>\n",
       "      <td>NaN</td>\n",
       "      <td>1</td>\n",
       "      <td>2</td>\n",
       "      <td>30</td>\n",
       "      <td>1022</td>\n",
       "      <td>353</td>\n",
       "      <td>22</td>\n",
       "      <td>1460</td>\n",
       "      <td>20</td>\n",
       "      <td>1</td>\n",
       "      <td>147</td>\n",
       "      <td>2</td>\n",
       "      <td>2</td>\n",
       "      <td>17</td>\n",
       "      <td>13</td>\n",
       "      <td>1</td>\n",
       "      <td>0</td>\n",
       "      <td>12</td>\n",
       "      <td>9</td>\n",
       "    </tr>\n",
       "    <tr>\n",
       "      <th>26727</th>\n",
       "      <td>7450</td>\n",
       "      <td>0</td>\n",
       "      <td>5074</td>\n",
       "      <td>4</td>\n",
       "      <td>Partner</td>\n",
       "      <td>0</td>\n",
       "      <td>1</td>\n",
       "      <td>29</td>\n",
       "      <td>640</td>\n",
       "      <td>5</td>\n",
       "      <td>0</td>\n",
       "      <td>28</td>\n",
       "      <td>2</td>\n",
       "      <td>1</td>\n",
       "      <td>80</td>\n",
       "      <td>1</td>\n",
       "      <td>3</td>\n",
       "      <td>6</td>\n",
       "      <td>12</td>\n",
       "      <td>1</td>\n",
       "      <td>1</td>\n",
       "      <td>8</td>\n",
       "      <td>5</td>\n",
       "    </tr>\n",
       "    <tr>\n",
       "      <th>26728</th>\n",
       "      <td>20751</td>\n",
       "      <td>0</td>\n",
       "      <td>16611</td>\n",
       "      <td>4</td>\n",
       "      <td>SCRP</td>\n",
       "      <td>0</td>\n",
       "      <td>1</td>\n",
       "      <td>5</td>\n",
       "      <td>640</td>\n",
       "      <td>111</td>\n",
       "      <td>2</td>\n",
       "      <td>365</td>\n",
       "      <td>2</td>\n",
       "      <td>1</td>\n",
       "      <td>80</td>\n",
       "      <td>2</td>\n",
       "      <td>6</td>\n",
       "      <td>21</td>\n",
       "      <td>9</td>\n",
       "      <td>2</td>\n",
       "      <td>2</td>\n",
       "      <td>8</td>\n",
       "      <td>5</td>\n",
       "    </tr>\n",
       "  </tbody>\n",
       "</table>\n",
       "</div>"
      ],
      "text/plain": [
       "       AnimalID  Name  DateTime  OutcomeType OutcomeSubtype  AnimalType  SexuponOutcome  AgeuponOutcome  Breed  Color  Color_pre  DayuponOutcome  AboutAge  BreedMix  Breed_pre  Year  Month  YearMonth  Hour  Season  Quarter  Group  Size\n",
       "26724     18631     0     14983            4        Partner           0               1               2    640    111          2              30         2         1         80     2      4         19    11       1        1      8     5\n",
       "26725     26055     0     22209            4           SCRP           0               3              24    640    104          2              90         2         1         80     3      0         27    18       3        0      8     5\n",
       "26726     16731     1     13463            0            NaN           1               2              30   1022    353         22            1460        20         1        147     2      2         17    13       1        0     12     9\n",
       "26727      7450     0      5074            4        Partner           0               1              29    640      5          0              28         2         1         80     1      3          6    12       1        1      8     5\n",
       "26728     20751     0     16611            4           SCRP           0               1               5    640    111          2             365         2         1         80     2      6         21     9       2        2      8     5"
      ]
     },
     "execution_count": 4,
     "metadata": {},
     "output_type": "execute_result"
    }
   ],
   "source": [
    "print(np.shape(df_pre))\n",
    "df_pre.tail()"
   ]
  },
  {
   "cell_type": "markdown",
   "metadata": {},
   "source": [
    "# AdaBoost "
   ]
  },
  {
   "cell_type": "code",
   "execution_count": 11,
   "metadata": {},
   "outputs": [
    {
     "name": "stdout",
     "output_type": "stream",
     "text": [
      "log loss: 1.514926001826654\n",
      "\n"
     ]
    }
   ],
   "source": [
    "from sklearn.ensemble import AdaBoostClassifier\n",
    "from sklearn.tree import DecisionTreeClassifier\n",
    "columns = ['Name', 'DateTime', 'AnimalType', 'SexuponOutcome', 'DayuponOutcome', 'Breed', 'Color', 'BreedMix','Hour']\n",
    "df_x = df_pre[columns]\n",
    "df_y = df_pre.iloc[:, [3]]\n",
    "\n",
    "model_ada = AdaBoostClassifier(DecisionTreeClassifier(random_state=0), \n",
    "                               algorithm=\"SAMME\", n_estimators=300)\n",
    "model_ada.fit(df_x, df_y)\n",
    "\n",
    "from sklearn.model_selection import cross_val_score\n",
    "from sklearn.model_selection import KFold\n",
    "cv = KFold(20, shuffle=True)\n",
    "print('log loss: {}'.format(np.mean(-cross_val_score(model_ada, df_x, df_y, scoring=\"neg_log_loss\", cv=cv))))\n",
    "print()"
   ]
  },
  {
   "cell_type": "markdown",
   "metadata": {},
   "source": [
    "# Random Forest "
   ]
  },
  {
   "cell_type": "code",
   "execution_count": 14,
   "metadata": {
    "scrolled": true
   },
   "outputs": [
    {
     "name": "stdout",
     "output_type": "stream",
     "text": [
      "log loss: 1.0271558930276539\n",
      "\n"
     ]
    }
   ],
   "source": [
    "columns = ['Name', 'DateTime', 'AnimalType', 'SexuponOutcome', 'DayuponOutcome', 'Breed', 'Color', 'BreedMix','Hour']\n",
    "\n",
    "df_x = df_pre[columns]\n",
    "df_y = df_pre.iloc[:, [3]]\n",
    "\n",
    "from sklearn.ensemble import RandomForestClassifier\n",
    "from sklearn.metrics import *\n",
    "\n",
    "rf = RandomForestClassifier(n_estimators=100, random_state=0)\n",
    "rf.fit(df_x, df_y)\n",
    "\n",
    "from sklearn.model_selection import cross_val_score\n",
    "from sklearn.model_selection import KFold\n",
    "cv = KFold(20, shuffle=True)\n",
    "print('log loss: {}'.format(np.mean(-cross_val_score(rf, df_x, df_y, scoring=\"neg_log_loss\", cv=cv))))\n",
    "print()"
   ]
  },
  {
   "cell_type": "markdown",
   "metadata": {},
   "source": [
    "# Logistic Regression"
   ]
  },
  {
   "cell_type": "code",
   "execution_count": 15,
   "metadata": {},
   "outputs": [
    {
     "name": "stdout",
     "output_type": "stream",
     "text": [
      "log loss: 1.0430491317461645\n",
      "\n"
     ]
    }
   ],
   "source": [
    "from sklearn.linear_model import LogisticRegression\n",
    "from sklearn.metrics import *\n",
    "\n",
    "columns = ['Name', 'DateTime', 'AnimalType', 'SexuponOutcome', 'DayuponOutcome', 'Breed', 'Color', 'BreedMix','Hour']\n",
    "\n",
    "df_x = df_pre[columns]\n",
    "df_y = df_pre.iloc[:, [3]]\n",
    "\n",
    "LR = LogisticRegression().fit(df_x, df_y)\n",
    "\n",
    "from sklearn.model_selection import cross_val_score\n",
    "from sklearn.model_selection import KFold\n",
    "cv = KFold(20, shuffle=True)\n",
    "print('log loss: {}'.format(np.mean(-cross_val_score(LR, df_x, df_y, scoring=\"neg_log_loss\", cv=cv))))\n",
    "print()"
   ]
  },
  {
   "cell_type": "markdown",
   "metadata": {},
   "source": [
    "# Gradient Boosting "
   ]
  },
  {
   "cell_type": "code",
   "execution_count": 5,
   "metadata": {
    "scrolled": false
   },
   "outputs": [
    {
     "name": "stdout",
     "output_type": "stream",
     "text": [
      "log loss: 0.7862887775735734\n",
      "\n"
     ]
    }
   ],
   "source": [
    "from sklearn.ensemble import GradientBoostingClassifier\n",
    "from sklearn.metrics import *\n",
    "from sklearn.model_selection import train_test_split\n",
    "\n",
    "columns = ['Name', 'DateTime', 'AnimalType', 'SexuponOutcome', 'DayuponOutcome', 'Breed', 'Color', 'BreedMix','Hour']\n",
    "df_x = df_pre[columns]\n",
    "df_y = df_pre.iloc[:, [3]]\n",
    "\n",
    "model_grad = GradientBoostingClassifier(n_estimators=100, random_state=0).fit(df_x, df_y)\n",
    "\n",
    "from sklearn.model_selection import cross_val_score\n",
    "from sklearn.model_selection import KFold\n",
    "cv = KFold(20, shuffle=True)\n",
    "print('log loss: {}'.format(np.mean(-cross_val_score(model_grad, df_x, df_y, scoring=\"neg_log_loss\", cv=cv))))\n",
    "print()"
   ]
  },
  {
   "cell_type": "code",
   "execution_count": 7,
   "metadata": {
    "scrolled": false
   },
   "outputs": [
    {
     "name": "stdout",
     "output_type": "stream",
     "text": [
      "log loss: 0.7581365952626343\n",
      "\n"
     ]
    }
   ],
   "source": [
    "from sklearn.ensemble import GradientBoostingClassifier\n",
    "from sklearn.metrics import *\n",
    "from sklearn.model_selection import train_test_split\n",
    "\n",
    "columns = ['Name', 'DateTime', 'AnimalType', 'SexuponOutcome', 'DayuponOutcome', 'Breed', 'Color', 'BreedMix','Hour']\n",
    "df_x = df_pre[columns]\n",
    "df_y = df_pre.iloc[:, [3]]\n",
    "\n",
    "model_grad = GradientBoostingClassifier(n_estimators=200, max_depth=6, learning_rate=0.05, random_state=0).fit(df_x, df_y)\n",
    "\n",
    "from sklearn.model_selection import cross_val_score\n",
    "from sklearn.model_selection import KFold\n",
    "cv = KFold(20, shuffle=True)\n",
    "print('log loss: {}'.format(np.mean(-cross_val_score(model_grad, df_x, df_y, scoring=\"neg_log_loss\", cv=cv))))\n",
    "print()"
   ]
  },
  {
   "cell_type": "markdown",
   "metadata": {},
   "source": [
    "# XGBoost "
   ]
  },
  {
   "cell_type": "code",
   "execution_count": 9,
   "metadata": {},
   "outputs": [
    {
     "name": "stdout",
     "output_type": "stream",
     "text": [
      "log loss: 0.7944662875695214\n",
      "\n"
     ]
    }
   ],
   "source": [
    "from sklearn.model_selection import cross_val_score\n",
    "from sklearn.model_selection import KFold\n",
    "cv = KFold(20, shuffle=True)\n",
    "\n",
    "columns = ['Name', 'DateTime', 'AnimalType', 'SexuponOutcome', 'DayuponOutcome', 'Breed', 'Color', 'BreedMix','Hour']\n",
    "\n",
    "df_x = df_pre[columns]\n",
    "df_y = df_pre.iloc[:, [3]]\n",
    "\n",
    "model_xgb = xgboost.XGBClassifier(n_estimators=100)\n",
    "model_xgb.fit(df_x, df_y)\n",
    "\n",
    "print('log loss: {}'.format(np.mean(-cross_val_score(model_xgb, df_x, df_y, scoring=\"neg_log_loss\", cv=cv))))\n",
    "print()"
   ]
  },
  {
   "cell_type": "code",
   "execution_count": null,
   "metadata": {
    "collapsed": true
   },
   "outputs": [],
   "source": []
  }
 ],
 "metadata": {
  "kernelspec": {
   "display_name": "Python 3",
   "language": "python",
   "name": "python3"
  },
  "language_info": {
   "codemirror_mode": {
    "name": "ipython",
    "version": 3
   },
   "file_extension": ".py",
   "mimetype": "text/x-python",
   "name": "python",
   "nbconvert_exporter": "python",
   "pygments_lexer": "ipython3",
   "version": "3.6.2"
  }
 },
 "nbformat": 4,
 "nbformat_minor": 2
}
