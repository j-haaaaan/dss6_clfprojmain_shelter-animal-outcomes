{
 "cells": [
  {
   "cell_type": "code",
   "execution_count": 2,
   "metadata": {},
   "outputs": [],
   "source": [
    "import pandas as pd\n",
    "import numpy as np\n",
    "import matplotlib.pyplot as plt\n",
    "import seaborn as sns\n",
    "from pandas import DataFrame, Series\n",
    "from sklearn.preprocessing import LabelEncoder\n",
    "from sklearn import preprocessing\n",
    "\n",
    "from sklearn.model_selection import cross_val_score\n",
    "from sklearn.model_selection import KFold\n",
    "import xgboost\n",
    "from sklearn.metrics import *\n",
    "from imblearn.under_sampling import *\n",
    "from imblearn.over_sampling import *\n",
    "from imblearn.combine import *\n",
    "from sklearn.model_selection import train_test_split\n",
    "import warnings\n",
    "\n",
    "\n",
    "warnings.filterwarnings('ignore')\n",
    "\n",
    "pd.set_option('display.max_rows', 30000)\n",
    "pd.set_option('display.max_columns', 500)\n",
    "pd.set_option('display.width', 1000)"
   ]
  },
  {
   "cell_type": "code",
   "execution_count": 3,
   "metadata": {
    "collapsed": true
   },
   "outputs": [],
   "source": [
    "df_pre = pd.read_csv('data/df_pre.csv')\n",
    "del df_pre['Unnamed: 0']"
   ]
  },
  {
   "cell_type": "code",
   "execution_count": 4,
   "metadata": {},
   "outputs": [
    {
     "name": "stdout",
     "output_type": "stream",
     "text": [
      "log loss: 0.7951932540238653\n",
      "\n"
     ]
    }
   ],
   "source": [
    "from sklearn.model_selection import cross_val_score\n",
    "from sklearn.model_selection import KFold\n",
    "cv = KFold(10, shuffle=True)\n",
    "\n",
    "columns = ['Name', 'DateTime', 'AnimalType', 'SexuponOutcome', 'DayuponOutcome', 'Breed', 'Color', 'BreedMix','Hour']\n",
    "\n",
    "df_x = df_pre[columns]\n",
    "df_y = df_pre.iloc[:, [3]]\n",
    "\n",
    "model_xgb = xgboost.XGBClassifier(n_estimators=100)\n",
    "model_xgb.fit(df_x, df_y)\n",
    "\n",
    "print('log loss: {}'.format(np.mean(-cross_val_score(model_xgb, df_x, df_y, scoring=\"neg_log_loss\", cv=cv))))\n",
    "print()"
   ]
  },
  {
   "cell_type": "code",
   "execution_count": 13,
   "metadata": {},
   "outputs": [
    {
     "name": "stdout",
     "output_type": "stream",
     "text": [
      "log loss: 0.8052435340891438\n",
      "\n"
     ]
    }
   ],
   "source": [
    "df_imb = df_pre.copy()\n",
    "\n",
    "from sklearn.model_selection import cross_val_score\n",
    "from sklearn.model_selection import KFold\n",
    "cv = KFold(10, shuffle=True)\n",
    "\n",
    "from imblearn.combine import *\n",
    "columns=['SexuponOutcome','Color_pre','DayuponOutcome','Breed_pre','Name','DateTime' ,'AnimalType','BreedMix', 'Hour']\n",
    "\n",
    "df_imb_x = df_imb[columns]\n",
    "df_imb_y = df_imb.iloc[:, [3]]\n",
    "X_train, X_test, y_train, y_test = train_test_split(df_imb_x, df_imb_y, test_size = 0.2, random_state=0, shuffle=True)\n",
    "X, y = ADASYN(ratio='minority', random_state=0).fit_sample(X_train, y_train)\n",
    "df_final = pd.DataFrame(X, columns=columns)\n",
    "\n",
    "model_xgb_imb = xgboost.XGBClassifier(n_estimators=100)\n",
    "model_xgb_imb.fit(df_final, y)\n",
    "\n",
    "print('log loss: {}'.format(np.mean(-cross_val_score(model_xgb_imb, X_test, y_test, scoring=\"neg_log_loss\", cv=cv))))\n",
    "print()"
   ]
  },
  {
   "cell_type": "code",
   "execution_count": 14,
   "metadata": {
    "scrolled": false
   },
   "outputs": [
    {
     "name": "stdout",
     "output_type": "stream",
     "text": [
      "log loss: 0.7995366136302391\n",
      "\n"
     ]
    }
   ],
   "source": [
    "df_imb = df_pre.copy()\n",
    "\n",
    "from sklearn.model_selection import cross_val_score\n",
    "from sklearn.model_selection import KFold\n",
    "cv = KFold(10, shuffle=True)\n",
    "\n",
    "from imblearn.combine import *\n",
    "columns=['SexuponOutcome','Color_pre','DayuponOutcome','Breed_pre','Name','DateTime' ,'AnimalType','BreedMix', 'Hour']\n",
    "\n",
    "df_imb_x = df_imb[columns]\n",
    "df_imb_y = df_imb.iloc[:, [3]]\n",
    "X_train, X_test, y_train, y_test = train_test_split(df_imb_x, df_imb_y, test_size = 0.3, random_state=0, shuffle=True)\n",
    "X, y = TomekLinks(random_state=0).fit_sample(X_train, y_train)\n",
    "df_final = pd.DataFrame(X, columns=columns)\n",
    "\n",
    "model_xgb_imb = xgboost.XGBClassifier(n_estimators=100)\n",
    "model_xgb_imb.fit(df_final, y)\n",
    "\n",
    "print('log loss: {}'.format(np.mean(-cross_val_score(model_xgb_imb, X_test, y_test, scoring=\"neg_log_loss\", cv=cv))))\n",
    "print()"
   ]
  },
  {
   "cell_type": "code",
   "execution_count": 15,
   "metadata": {
    "scrolled": true
   },
   "outputs": [
    {
     "name": "stderr",
     "output_type": "stream",
     "text": [
      "/home/dockeruser/anaconda3/lib/python3.6/site-packages/imblearn/under_sampling/prototype_selection/one_sided_selection.py:197: DeprecationWarning: in the future out of bounds indices will raise an error instead of being ignored by `numpy.delete`.\n",
      "  idx_maj_extracted = np.delete(idx_maj, idx_maj_sample, axis=0)\n",
      "/home/dockeruser/anaconda3/lib/python3.6/site-packages/imblearn/under_sampling/prototype_selection/one_sided_selection.py:197: DeprecationWarning: in the future out of bounds indices will raise an error instead of being ignored by `numpy.delete`.\n",
      "  idx_maj_extracted = np.delete(idx_maj, idx_maj_sample, axis=0)\n",
      "/home/dockeruser/anaconda3/lib/python3.6/site-packages/imblearn/under_sampling/prototype_selection/one_sided_selection.py:197: DeprecationWarning: in the future out of bounds indices will raise an error instead of being ignored by `numpy.delete`.\n",
      "  idx_maj_extracted = np.delete(idx_maj, idx_maj_sample, axis=0)\n"
     ]
    },
    {
     "name": "stdout",
     "output_type": "stream",
     "text": [
      "log loss: 0.7988737062638402\n",
      "\n"
     ]
    }
   ],
   "source": [
    "df_imb = df_pre.copy()\n",
    "\n",
    "from sklearn.model_selection import cross_val_score\n",
    "from sklearn.model_selection import KFold\n",
    "cv = KFold(10, shuffle=True)\n",
    "\n",
    "from imblearn.combine import *\n",
    "columns=['SexuponOutcome','Color_pre','DayuponOutcome','Breed_pre','Name','DateTime' ,'AnimalType','BreedMix', 'Hour']\n",
    "\n",
    "df_imb_x = df_imb[columns]\n",
    "df_imb_y = df_imb.iloc[:, [3]]\n",
    "X_train, X_test, y_train, y_test = train_test_split(df_imb_x, df_imb_y, test_size = 0.3, random_state=0, shuffle=True)\n",
    "X, y = OneSidedSelection(random_state=0).fit_sample(X_train, y_train)\n",
    "df_final = pd.DataFrame(X, columns=columns)\n",
    "\n",
    "model_xgb_imb = xgboost.XGBClassifier(n_estimators=100)\n",
    "model_xgb_imb.fit(df_final, y)\n",
    "\n",
    "print('log loss: {}'.format(np.mean(-cross_val_score(model_xgb_imb, X_test, y_test, scoring=\"neg_log_loss\", cv=cv))))\n",
    "print()"
   ]
  },
  {
   "cell_type": "code",
   "execution_count": 18,
   "metadata": {
    "scrolled": true
   },
   "outputs": [
    {
     "name": "stdout",
     "output_type": "stream",
     "text": [
      "log loss: 0.7989038693667894\n",
      "\n"
     ]
    }
   ],
   "source": [
    "df_imb = df_pre.copy()\n",
    "\n",
    "from sklearn.model_selection import cross_val_score\n",
    "from sklearn.model_selection import KFold\n",
    "cv = KFold(10, shuffle=True)\n",
    "\n",
    "from imblearn.combine import *\n",
    "columns=['SexuponOutcome','Color_pre','DayuponOutcome','Breed_pre','Name','DateTime' ,'AnimalType','BreedMix', 'Hour']\n",
    "\n",
    "df_imb_x = df_imb[columns]\n",
    "df_imb_y = df_imb.iloc[:, [3]]\n",
    "X_train, X_test, y_train, y_test = train_test_split(df_imb_x, df_imb_y, test_size = 0.3, random_state=0, shuffle=True)\n",
    "X, y = CondensedNearestNeighbour(random_state=0).fit_sample(X_train, y_train)\n",
    "df_final = pd.DataFrame(X, columns=columns)\n",
    "\n",
    "model_xgb_imb = xgboost.XGBClassifier(n_estimators=100)\n",
    "model_xgb_imb.fit(df_final, y)\n",
    "\n",
    "print('log loss: {}'.format(np.mean(-cross_val_score(model_xgb_imb, X_test, y_test, scoring=\"neg_log_loss\", cv=cv))))\n",
    "print()"
   ]
  },
  {
   "cell_type": "code",
   "execution_count": 19,
   "metadata": {
    "scrolled": true
   },
   "outputs": [
    {
     "name": "stdout",
     "output_type": "stream",
     "text": [
      "log loss: 0.7987706515716371\n",
      "\n"
     ]
    }
   ],
   "source": [
    "df_imb = df_pre.copy()\n",
    "\n",
    "from sklearn.model_selection import cross_val_score\n",
    "from sklearn.model_selection import KFold\n",
    "cv = KFold(10, shuffle=True)\n",
    "\n",
    "from imblearn.combine import *\n",
    "columns=['SexuponOutcome','Color_pre','DayuponOutcome','Breed_pre','Name','DateTime' ,'AnimalType','BreedMix', 'Hour']\n",
    "\n",
    "df_imb_x = df_imb[columns]\n",
    "df_imb_y = df_imb.iloc[:, [3]]\n",
    "X_train, X_test, y_train, y_test = train_test_split(df_imb_x, df_imb_y, test_size = 0.3, random_state=0, shuffle=True)\n",
    "X, y = EditedNearestNeighbours(random_state=0).fit_sample(X_train, y_train)\n",
    "df_final = pd.DataFrame(X, columns=columns)\n",
    "\n",
    "model_xgb_imb = xgboost.XGBClassifier(n_estimators=100)\n",
    "model_xgb_imb.fit(df_final, y)\n",
    "\n",
    "print('log loss: {}'.format(np.mean(-cross_val_score(model_xgb_imb, X_test, y_test, scoring=\"neg_log_loss\", cv=cv))))\n",
    "print()"
   ]
  },
  {
   "cell_type": "code",
   "execution_count": 20,
   "metadata": {
    "scrolled": true
   },
   "outputs": [
    {
     "name": "stdout",
     "output_type": "stream",
     "text": [
      "log loss: 0.798604250701203\n",
      "\n"
     ]
    }
   ],
   "source": [
    "df_imb = df_pre.copy()\n",
    "\n",
    "from sklearn.model_selection import cross_val_score\n",
    "from sklearn.model_selection import KFold\n",
    "cv = KFold(10, shuffle=True)\n",
    "\n",
    "from imblearn.combine import *\n",
    "columns=['SexuponOutcome','Color_pre','DayuponOutcome','Breed_pre','Name','DateTime' ,'AnimalType','BreedMix', 'Hour']\n",
    "\n",
    "df_imb_x = df_imb[columns]\n",
    "df_imb_y = df_imb.iloc[:, [3]]\n",
    "X_train, X_test, y_train, y_test = train_test_split(df_imb_x, df_imb_y, test_size = 0.3, random_state=0, shuffle=True)\n",
    "X, y = RandomUnderSampler(random_state=0).fit_sample(X_train, y_train)\n",
    "df_final = pd.DataFrame(X, columns=columns)\n",
    "\n",
    "model_xgb_imb = xgboost.XGBClassifier(n_estimators=100)\n",
    "model_xgb_imb.fit(df_final, y)\n",
    "\n",
    "print('log loss: {}'.format(np.mean(-cross_val_score(model_xgb_imb, X_test, y_test, scoring=\"neg_log_loss\", cv=cv))))\n",
    "print()"
   ]
  },
  {
   "cell_type": "code",
   "execution_count": 21,
   "metadata": {
    "scrolled": true
   },
   "outputs": [
    {
     "name": "stdout",
     "output_type": "stream",
     "text": [
      "log loss: 0.7995555619331702\n",
      "\n"
     ]
    }
   ],
   "source": [
    "df_imb = df_pre.copy()\n",
    "\n",
    "from sklearn.model_selection import cross_val_score\n",
    "from sklearn.model_selection import KFold\n",
    "cv = KFold(10, shuffle=True)\n",
    "\n",
    "from imblearn.combine import *\n",
    "columns=['SexuponOutcome','Color_pre','DayuponOutcome','Breed_pre','Name','DateTime' ,'AnimalType','BreedMix', 'Hour']\n",
    "\n",
    "df_imb_x = df_imb[columns]\n",
    "df_imb_y = df_imb.iloc[:, [3]]\n",
    "X_train, X_test, y_train, y_test = train_test_split(df_imb_x, df_imb_y, test_size = 0.3, random_state=0, shuffle=True)\n",
    "X, y = RandomOverSampler(random_state=0).fit_sample(X_train, y_train)\n",
    "df_final = pd.DataFrame(X, columns=columns)\n",
    "\n",
    "model_xgb_imb = xgboost.XGBClassifier(n_estimators=100)\n",
    "model_xgb_imb.fit(df_final, y)\n",
    "\n",
    "print('log loss: {}'.format(np.mean(-cross_val_score(model_xgb_imb, X_test, y_test, scoring=\"neg_log_loss\", cv=cv))))\n",
    "print()"
   ]
  },
  {
   "cell_type": "code",
   "execution_count": 22,
   "metadata": {
    "scrolled": true
   },
   "outputs": [
    {
     "name": "stdout",
     "output_type": "stream",
     "text": [
      "log loss: 0.7987889741733916\n",
      "\n"
     ]
    }
   ],
   "source": [
    "df_imb = df_pre.copy()\n",
    "\n",
    "from sklearn.model_selection import cross_val_score\n",
    "from sklearn.model_selection import KFold\n",
    "cv = KFold(10, shuffle=True)\n",
    "\n",
    "from imblearn.combine import *\n",
    "columns=['SexuponOutcome','Color_pre','DayuponOutcome','Breed_pre','Name','DateTime' ,'AnimalType','BreedMix', 'Hour']\n",
    "\n",
    "df_imb_x = df_imb[columns]\n",
    "df_imb_y = df_imb.iloc[:, [3]]\n",
    "X_train, X_test, y_train, y_test = train_test_split(df_imb_x, df_imb_y, test_size = 0.3, random_state=0, shuffle=True)\n",
    "X, y = SMOTE(random_state=0).fit_sample(X_train, y_train)\n",
    "df_final = pd.DataFrame(X, columns=columns)\n",
    "\n",
    "model_xgb_imb = xgboost.XGBClassifier(n_estimators=100)\n",
    "model_xgb_imb.fit(df_final, y)\n",
    "\n",
    "print('log loss: {}'.format(np.mean(-cross_val_score(model_xgb_imb, X_test, y_test, scoring=\"neg_log_loss\", cv=cv))))\n",
    "print()"
   ]
  },
  {
   "cell_type": "code",
   "execution_count": 23,
   "metadata": {
    "scrolled": true
   },
   "outputs": [
    {
     "name": "stdout",
     "output_type": "stream",
     "text": [
      "log loss: 0.7995379284251891\n",
      "\n"
     ]
    }
   ],
   "source": [
    "df_imb = df_pre.copy()\n",
    "\n",
    "from sklearn.model_selection import cross_val_score\n",
    "from sklearn.model_selection import KFold\n",
    "cv = KFold(10, shuffle=True)\n",
    "\n",
    "from imblearn.combine import *\n",
    "columns=['SexuponOutcome','Color_pre','DayuponOutcome','Breed_pre','Name','DateTime' ,'AnimalType','BreedMix', 'Hour']\n",
    "\n",
    "df_imb_x = df_imb[columns]\n",
    "df_imb_y = df_imb.iloc[:, [3]]\n",
    "X_train, X_test, y_train, y_test = train_test_split(df_imb_x, df_imb_y, test_size = 0.3, random_state=0, shuffle=True)\n",
    "X, y = SMOTEENN(random_state=0).fit_sample(X_train, y_train)\n",
    "df_final = pd.DataFrame(X, columns=columns)\n",
    "\n",
    "model_xgb_imb = xgboost.XGBClassifier(n_estimators=100)\n",
    "model_xgb_imb.fit(df_final, y)\n",
    "\n",
    "print('log loss: {}'.format(np.mean(-cross_val_score(model_xgb_imb, X_test, y_test, scoring=\"neg_log_loss\", cv=cv))))\n",
    "print()"
   ]
  },
  {
   "cell_type": "code",
   "execution_count": 24,
   "metadata": {
    "scrolled": true
   },
   "outputs": [
    {
     "name": "stdout",
     "output_type": "stream",
     "text": [
      "log loss: 0.7995258626109623\n",
      "\n"
     ]
    }
   ],
   "source": [
    "df_imb = df_pre.copy()\n",
    "\n",
    "from sklearn.model_selection import cross_val_score\n",
    "from sklearn.model_selection import KFold\n",
    "cv = KFold(10, shuffle=True)\n",
    "\n",
    "from imblearn.combine import *\n",
    "columns=['SexuponOutcome','Color_pre','DayuponOutcome','Breed_pre','Name','DateTime' ,'AnimalType','BreedMix', 'Hour']\n",
    "\n",
    "df_imb_x = df_imb[columns]\n",
    "df_imb_y = df_imb.iloc[:, [3]]\n",
    "X_train, X_test, y_train, y_test = train_test_split(df_imb_x, df_imb_y, test_size = 0.3, random_state=0, shuffle=True)\n",
    "X, y = SMOTETomek(random_state=0).fit_sample(X_train, y_train)\n",
    "df_final = pd.DataFrame(X, columns=columns)\n",
    "\n",
    "model_xgb_imb = xgboost.XGBClassifier(n_estimators=100)\n",
    "model_xgb_imb.fit(df_final, y)\n",
    "\n",
    "print('log loss: {}'.format(np.mean(-cross_val_score(model_xgb_imb, X_test, y_test, scoring=\"neg_log_loss\", cv=cv))))\n",
    "print()"
   ]
  },
  {
   "cell_type": "code",
   "execution_count": null,
   "metadata": {
    "collapsed": true
   },
   "outputs": [],
   "source": []
  }
 ],
 "metadata": {
  "kernelspec": {
   "display_name": "Python 3",
   "language": "python",
   "name": "python3"
  },
  "language_info": {
   "codemirror_mode": {
    "name": "ipython",
    "version": 3
   },
   "file_extension": ".py",
   "mimetype": "text/x-python",
   "name": "python",
   "nbconvert_exporter": "python",
   "pygments_lexer": "ipython3",
   "version": "3.6.2"
  }
 },
 "nbformat": 4,
 "nbformat_minor": 2
}
