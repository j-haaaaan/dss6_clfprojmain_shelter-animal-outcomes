{
 "cells": [
  {
   "cell_type": "code",
   "execution_count": 1,
   "metadata": {
    "collapsed": true
   },
   "outputs": [],
   "source": [
    "import pandas as pd\n",
    "import numpy as np\n",
    "import matplotlib.pyplot as plt\n",
    "import seaborn as sns\n",
    "from pandas import DataFrame, Series\n",
    "from sklearn.preprocessing import LabelEncoder\n",
    "from sklearn import preprocessing\n",
    "import warnings\n",
    "\n",
    "warnings.filterwarnings('ignore')\n",
    "pd.set_option('display.max_rows', 30000)\n",
    "pd.set_option('display.max_columns', 500)\n",
    "pd.set_option('display.width', 1000)"
   ]
  },
  {
   "cell_type": "markdown",
   "metadata": {},
   "source": [
    "# 모델링"
   ]
  },
  {
   "cell_type": "code",
   "execution_count": 2,
   "metadata": {
    "scrolled": false
   },
   "outputs": [
    {
     "name": "stdout",
     "output_type": "stream",
     "text": [
      "(26729, 23)\n"
     ]
    },
    {
     "data": {
      "text/html": [
       "<div>\n",
       "<style>\n",
       "    .dataframe thead tr:only-child th {\n",
       "        text-align: right;\n",
       "    }\n",
       "\n",
       "    .dataframe thead th {\n",
       "        text-align: left;\n",
       "    }\n",
       "\n",
       "    .dataframe tbody tr th {\n",
       "        vertical-align: top;\n",
       "    }\n",
       "</style>\n",
       "<table border=\"1\" class=\"dataframe\">\n",
       "  <thead>\n",
       "    <tr style=\"text-align: right;\">\n",
       "      <th></th>\n",
       "      <th>Unnamed: 0</th>\n",
       "      <th>AnimalID</th>\n",
       "      <th>Name</th>\n",
       "      <th>DateTime</th>\n",
       "      <th>OutcomeType</th>\n",
       "      <th>OutcomeSubtype</th>\n",
       "      <th>AnimalType</th>\n",
       "      <th>SexuponOutcome</th>\n",
       "      <th>AgeuponOutcome</th>\n",
       "      <th>Breed</th>\n",
       "      <th>Color</th>\n",
       "      <th>Color_pre</th>\n",
       "      <th>DayuponOutcome</th>\n",
       "      <th>AboutAge</th>\n",
       "      <th>BreedMix</th>\n",
       "      <th>Breed_pre</th>\n",
       "      <th>Year</th>\n",
       "      <th>Month</th>\n",
       "      <th>YearMonth</th>\n",
       "      <th>Season</th>\n",
       "      <th>Quarter</th>\n",
       "      <th>Group</th>\n",
       "      <th>Size</th>\n",
       "    </tr>\n",
       "  </thead>\n",
       "  <tbody>\n",
       "    <tr>\n",
       "      <th>26724</th>\n",
       "      <td>26724</td>\n",
       "      <td>18631</td>\n",
       "      <td>0</td>\n",
       "      <td>14983</td>\n",
       "      <td>4</td>\n",
       "      <td>Partner</td>\n",
       "      <td>0</td>\n",
       "      <td>1</td>\n",
       "      <td>2</td>\n",
       "      <td>640</td>\n",
       "      <td>111</td>\n",
       "      <td>2</td>\n",
       "      <td>30</td>\n",
       "      <td>2</td>\n",
       "      <td>1</td>\n",
       "      <td>80</td>\n",
       "      <td>2</td>\n",
       "      <td>4</td>\n",
       "      <td>19</td>\n",
       "      <td>1</td>\n",
       "      <td>1</td>\n",
       "      <td>8</td>\n",
       "      <td>5</td>\n",
       "    </tr>\n",
       "    <tr>\n",
       "      <th>26725</th>\n",
       "      <td>26725</td>\n",
       "      <td>26055</td>\n",
       "      <td>0</td>\n",
       "      <td>22209</td>\n",
       "      <td>4</td>\n",
       "      <td>SCRP</td>\n",
       "      <td>0</td>\n",
       "      <td>3</td>\n",
       "      <td>24</td>\n",
       "      <td>640</td>\n",
       "      <td>104</td>\n",
       "      <td>2</td>\n",
       "      <td>90</td>\n",
       "      <td>2</td>\n",
       "      <td>1</td>\n",
       "      <td>80</td>\n",
       "      <td>3</td>\n",
       "      <td>0</td>\n",
       "      <td>27</td>\n",
       "      <td>3</td>\n",
       "      <td>0</td>\n",
       "      <td>8</td>\n",
       "      <td>5</td>\n",
       "    </tr>\n",
       "    <tr>\n",
       "      <th>26726</th>\n",
       "      <td>26726</td>\n",
       "      <td>16731</td>\n",
       "      <td>1</td>\n",
       "      <td>13463</td>\n",
       "      <td>0</td>\n",
       "      <td>NaN</td>\n",
       "      <td>1</td>\n",
       "      <td>2</td>\n",
       "      <td>30</td>\n",
       "      <td>1022</td>\n",
       "      <td>353</td>\n",
       "      <td>22</td>\n",
       "      <td>1460</td>\n",
       "      <td>20</td>\n",
       "      <td>1</td>\n",
       "      <td>147</td>\n",
       "      <td>2</td>\n",
       "      <td>2</td>\n",
       "      <td>17</td>\n",
       "      <td>1</td>\n",
       "      <td>0</td>\n",
       "      <td>12</td>\n",
       "      <td>9</td>\n",
       "    </tr>\n",
       "    <tr>\n",
       "      <th>26727</th>\n",
       "      <td>26727</td>\n",
       "      <td>7450</td>\n",
       "      <td>0</td>\n",
       "      <td>5074</td>\n",
       "      <td>4</td>\n",
       "      <td>Partner</td>\n",
       "      <td>0</td>\n",
       "      <td>1</td>\n",
       "      <td>29</td>\n",
       "      <td>640</td>\n",
       "      <td>5</td>\n",
       "      <td>0</td>\n",
       "      <td>28</td>\n",
       "      <td>2</td>\n",
       "      <td>1</td>\n",
       "      <td>80</td>\n",
       "      <td>1</td>\n",
       "      <td>3</td>\n",
       "      <td>6</td>\n",
       "      <td>1</td>\n",
       "      <td>1</td>\n",
       "      <td>8</td>\n",
       "      <td>5</td>\n",
       "    </tr>\n",
       "    <tr>\n",
       "      <th>26728</th>\n",
       "      <td>26728</td>\n",
       "      <td>20751</td>\n",
       "      <td>0</td>\n",
       "      <td>16611</td>\n",
       "      <td>4</td>\n",
       "      <td>SCRP</td>\n",
       "      <td>0</td>\n",
       "      <td>1</td>\n",
       "      <td>5</td>\n",
       "      <td>640</td>\n",
       "      <td>111</td>\n",
       "      <td>2</td>\n",
       "      <td>365</td>\n",
       "      <td>2</td>\n",
       "      <td>1</td>\n",
       "      <td>80</td>\n",
       "      <td>2</td>\n",
       "      <td>6</td>\n",
       "      <td>21</td>\n",
       "      <td>2</td>\n",
       "      <td>2</td>\n",
       "      <td>8</td>\n",
       "      <td>5</td>\n",
       "    </tr>\n",
       "  </tbody>\n",
       "</table>\n",
       "</div>"
      ],
      "text/plain": [
       "       Unnamed: 0  AnimalID  Name  DateTime  OutcomeType OutcomeSubtype  AnimalType  SexuponOutcome  AgeuponOutcome  Breed  Color  Color_pre  DayuponOutcome  AboutAge  BreedMix  Breed_pre  Year  Month  YearMonth  Season  Quarter  Group  Size\n",
       "26724       26724     18631     0     14983            4        Partner           0               1               2    640    111          2              30         2         1         80     2      4         19       1        1      8     5\n",
       "26725       26725     26055     0     22209            4           SCRP           0               3              24    640    104          2              90         2         1         80     3      0         27       3        0      8     5\n",
       "26726       26726     16731     1     13463            0            NaN           1               2              30   1022    353         22            1460        20         1        147     2      2         17       1        0     12     9\n",
       "26727       26727      7450     0      5074            4        Partner           0               1              29    640      5          0              28         2         1         80     1      3          6       1        1      8     5\n",
       "26728       26728     20751     0     16611            4           SCRP           0               1               5    640    111          2             365         2         1         80     2      6         21       2        2      8     5"
      ]
     },
     "execution_count": 2,
     "metadata": {},
     "output_type": "execute_result"
    }
   ],
   "source": [
    "df_pre = pd.read_csv('data/df_pre.csv')\n",
    "print(np.shape(df_pre))\n",
    "df_pre.tail()"
   ]
  },
  {
   "cell_type": "code",
   "execution_count": 3,
   "metadata": {
    "collapsed": true
   },
   "outputs": [],
   "source": [
    "del df_pre['Unnamed: 0']"
   ]
  },
  {
   "cell_type": "code",
   "execution_count": 4,
   "metadata": {},
   "outputs": [
    {
     "name": "stdout",
     "output_type": "stream",
     "text": [
      "(26729, 22)\n"
     ]
    },
    {
     "data": {
      "text/html": [
       "<div>\n",
       "<style>\n",
       "    .dataframe thead tr:only-child th {\n",
       "        text-align: right;\n",
       "    }\n",
       "\n",
       "    .dataframe thead th {\n",
       "        text-align: left;\n",
       "    }\n",
       "\n",
       "    .dataframe tbody tr th {\n",
       "        vertical-align: top;\n",
       "    }\n",
       "</style>\n",
       "<table border=\"1\" class=\"dataframe\">\n",
       "  <thead>\n",
       "    <tr style=\"text-align: right;\">\n",
       "      <th></th>\n",
       "      <th>AnimalID</th>\n",
       "      <th>Name</th>\n",
       "      <th>DateTime</th>\n",
       "      <th>OutcomeType</th>\n",
       "      <th>OutcomeSubtype</th>\n",
       "      <th>AnimalType</th>\n",
       "      <th>SexuponOutcome</th>\n",
       "      <th>AgeuponOutcome</th>\n",
       "      <th>Breed</th>\n",
       "      <th>Color</th>\n",
       "      <th>Color_pre</th>\n",
       "      <th>DayuponOutcome</th>\n",
       "      <th>AboutAge</th>\n",
       "      <th>BreedMix</th>\n",
       "      <th>Breed_pre</th>\n",
       "      <th>Year</th>\n",
       "      <th>Month</th>\n",
       "      <th>YearMonth</th>\n",
       "      <th>Season</th>\n",
       "      <th>Quarter</th>\n",
       "      <th>Group</th>\n",
       "      <th>Size</th>\n",
       "    </tr>\n",
       "  </thead>\n",
       "  <tbody>\n",
       "    <tr>\n",
       "      <th>26724</th>\n",
       "      <td>18631</td>\n",
       "      <td>0</td>\n",
       "      <td>14983</td>\n",
       "      <td>4</td>\n",
       "      <td>Partner</td>\n",
       "      <td>0</td>\n",
       "      <td>1</td>\n",
       "      <td>2</td>\n",
       "      <td>640</td>\n",
       "      <td>111</td>\n",
       "      <td>2</td>\n",
       "      <td>30</td>\n",
       "      <td>2</td>\n",
       "      <td>1</td>\n",
       "      <td>80</td>\n",
       "      <td>2</td>\n",
       "      <td>4</td>\n",
       "      <td>19</td>\n",
       "      <td>1</td>\n",
       "      <td>1</td>\n",
       "      <td>8</td>\n",
       "      <td>5</td>\n",
       "    </tr>\n",
       "    <tr>\n",
       "      <th>26725</th>\n",
       "      <td>26055</td>\n",
       "      <td>0</td>\n",
       "      <td>22209</td>\n",
       "      <td>4</td>\n",
       "      <td>SCRP</td>\n",
       "      <td>0</td>\n",
       "      <td>3</td>\n",
       "      <td>24</td>\n",
       "      <td>640</td>\n",
       "      <td>104</td>\n",
       "      <td>2</td>\n",
       "      <td>90</td>\n",
       "      <td>2</td>\n",
       "      <td>1</td>\n",
       "      <td>80</td>\n",
       "      <td>3</td>\n",
       "      <td>0</td>\n",
       "      <td>27</td>\n",
       "      <td>3</td>\n",
       "      <td>0</td>\n",
       "      <td>8</td>\n",
       "      <td>5</td>\n",
       "    </tr>\n",
       "    <tr>\n",
       "      <th>26726</th>\n",
       "      <td>16731</td>\n",
       "      <td>1</td>\n",
       "      <td>13463</td>\n",
       "      <td>0</td>\n",
       "      <td>NaN</td>\n",
       "      <td>1</td>\n",
       "      <td>2</td>\n",
       "      <td>30</td>\n",
       "      <td>1022</td>\n",
       "      <td>353</td>\n",
       "      <td>22</td>\n",
       "      <td>1460</td>\n",
       "      <td>20</td>\n",
       "      <td>1</td>\n",
       "      <td>147</td>\n",
       "      <td>2</td>\n",
       "      <td>2</td>\n",
       "      <td>17</td>\n",
       "      <td>1</td>\n",
       "      <td>0</td>\n",
       "      <td>12</td>\n",
       "      <td>9</td>\n",
       "    </tr>\n",
       "    <tr>\n",
       "      <th>26727</th>\n",
       "      <td>7450</td>\n",
       "      <td>0</td>\n",
       "      <td>5074</td>\n",
       "      <td>4</td>\n",
       "      <td>Partner</td>\n",
       "      <td>0</td>\n",
       "      <td>1</td>\n",
       "      <td>29</td>\n",
       "      <td>640</td>\n",
       "      <td>5</td>\n",
       "      <td>0</td>\n",
       "      <td>28</td>\n",
       "      <td>2</td>\n",
       "      <td>1</td>\n",
       "      <td>80</td>\n",
       "      <td>1</td>\n",
       "      <td>3</td>\n",
       "      <td>6</td>\n",
       "      <td>1</td>\n",
       "      <td>1</td>\n",
       "      <td>8</td>\n",
       "      <td>5</td>\n",
       "    </tr>\n",
       "    <tr>\n",
       "      <th>26728</th>\n",
       "      <td>20751</td>\n",
       "      <td>0</td>\n",
       "      <td>16611</td>\n",
       "      <td>4</td>\n",
       "      <td>SCRP</td>\n",
       "      <td>0</td>\n",
       "      <td>1</td>\n",
       "      <td>5</td>\n",
       "      <td>640</td>\n",
       "      <td>111</td>\n",
       "      <td>2</td>\n",
       "      <td>365</td>\n",
       "      <td>2</td>\n",
       "      <td>1</td>\n",
       "      <td>80</td>\n",
       "      <td>2</td>\n",
       "      <td>6</td>\n",
       "      <td>21</td>\n",
       "      <td>2</td>\n",
       "      <td>2</td>\n",
       "      <td>8</td>\n",
       "      <td>5</td>\n",
       "    </tr>\n",
       "  </tbody>\n",
       "</table>\n",
       "</div>"
      ],
      "text/plain": [
       "       AnimalID  Name  DateTime  OutcomeType OutcomeSubtype  AnimalType  SexuponOutcome  AgeuponOutcome  Breed  Color  Color_pre  DayuponOutcome  AboutAge  BreedMix  Breed_pre  Year  Month  YearMonth  Season  Quarter  Group  Size\n",
       "26724     18631     0     14983            4        Partner           0               1               2    640    111          2              30         2         1         80     2      4         19       1        1      8     5\n",
       "26725     26055     0     22209            4           SCRP           0               3              24    640    104          2              90         2         1         80     3      0         27       3        0      8     5\n",
       "26726     16731     1     13463            0            NaN           1               2              30   1022    353         22            1460        20         1        147     2      2         17       1        0     12     9\n",
       "26727      7450     0      5074            4        Partner           0               1              29    640      5          0              28         2         1         80     1      3          6       1        1      8     5\n",
       "26728     20751     0     16611            4           SCRP           0               1               5    640    111          2             365         2         1         80     2      6         21       2        2      8     5"
      ]
     },
     "execution_count": 4,
     "metadata": {},
     "output_type": "execute_result"
    }
   ],
   "source": [
    "print(np.shape(df_pre))\n",
    "df_pre.tail()"
   ]
  },
  {
   "cell_type": "markdown",
   "metadata": {},
   "source": [
    "# Random Forest (전체 feature importances) "
   ]
  },
  {
   "cell_type": "code",
   "execution_count": 7,
   "metadata": {},
   "outputs": [
    {
     "data": {
      "text/plain": [
       "ExtraTreesClassifier(bootstrap=False, class_weight=None, criterion='gini',\n",
       "           max_depth=None, max_features='auto', max_leaf_nodes=None,\n",
       "           min_impurity_decrease=0.0, min_impurity_split=None,\n",
       "           min_samples_leaf=1, min_samples_split=2,\n",
       "           min_weight_fraction_leaf=0.0, n_estimators=300, n_jobs=1,\n",
       "           oob_score=False, random_state=0, verbose=0, warm_start=False)"
      ]
     },
     "execution_count": 7,
     "metadata": {},
     "output_type": "execute_result"
    }
   ],
   "source": [
    "columns = ['Name', 'DateTime','AnimalType', 'SexuponOutcome', 'AgeuponOutcome', 'Breed', 'Color', 'Color_pre', 'DayuponOutcome','AboutAge','BreedMix','Breed_pre','Year','Month','YearMonth','Season','Quarter','Group','Size']\n",
    "df_x = df_pre[columns]\n",
    "df_y = df_pre.iloc[:, [3]]\n",
    "\n",
    "#from sklearn.model_selection import train_test_split\n",
    "#X_train, X_test, y_train, y_test = train_test_split(df_x, df_y, test_size=0.1, random_state=0, shuffle=True)\n",
    "\n",
    "from sklearn.ensemble import RandomForestClassifier\n",
    "from sklearn.metrics import *\n",
    "\n",
    "rf = ExtraTreesClassifier(n_estimators=300, random_state=0)\n",
    "rf.fit(df_x, df_y)\n",
    "#rf_probs = rf.predict_proba(X_test)\n",
    "\n",
    "#print('train score: {}'.format(rf.score(X_train, y_train)))\n",
    "#print('test score: {}'.format(rf.score(X_test, y_test)))\n",
    "#print('log loss: {}'.format(log_loss(y_test, rf_probs)))\n",
    "#print()"
   ]
  },
  {
   "cell_type": "code",
   "execution_count": 8,
   "metadata": {},
   "outputs": [
    {
     "name": "stdout",
     "output_type": "stream",
     "text": [
      "Feature ranking:\n",
      "1. feature 3 (0.144483)\n",
      "2. feature 1 (0.134562)\n",
      "3. feature 6 (0.089379)\n",
      "4. feature 8 (0.071390)\n",
      "5. feature 0 (0.067074)\n",
      "6. feature 7 (0.065688)\n",
      "7. feature 4 (0.051444)\n",
      "8. feature 5 (0.050968)\n",
      "9. feature 14 (0.043528)\n",
      "10. feature 11 (0.041507)\n",
      "11. feature 13 (0.040587)\n",
      "12. feature 9 (0.034577)\n",
      "13. feature 17 (0.034256)\n",
      "14. feature 18 (0.031845)\n",
      "15. feature 2 (0.024653)\n",
      "16. feature 15 (0.023578)\n",
      "17. feature 16 (0.022799)\n",
      "18. feature 12 (0.018808)\n",
      "19. feature 10 (0.008874)\n"
     ]
    },
    {
     "data": {
      "image/png": "[encoded data removed]",
      "text/plain": [
       "<matplotlib.figure.Figure at 0x7f276b49ff98>"
      ]
     },
     "metadata": {},
     "output_type": "display_data"
    }
   ],
   "source": [
    "from sklearn.datasets import make_classification\n",
    "from sklearn.ensemble import ExtraTreesClassifier\n",
    "\n",
    "importances = rf.feature_importances_\n",
    "\n",
    "std = np.std([tree.feature_importances_ for tree in rf.estimators_], axis=0)\n",
    "indices = np.argsort(importances)[::-1]\n",
    "\n",
    "print(\"Feature ranking:\")\n",
    "for f in range(df_x.shape[1]):\n",
    "    print(\"%d. feature %d (%f)\" % (f + 1, indices[f], importances[indices[f]]))\n",
    "\n",
    "plt.title(\"Feature importances\")\n",
    "plt.bar(range(df_x.shape[1]), importances[indices], color=\"r\", yerr=std[indices], align=\"center\")\n",
    "plt.xticks(range(df_x.shape[1]), indices)\n",
    "plt.xlim([-1, df_x.shape[1]])\n",
    "plt.show()"
   ]
  },
  {
   "cell_type": "markdown",
   "metadata": {},
   "source": [
    "# Random Forest "
   ]
  },
  {
   "cell_type": "markdown",
   "metadata": {},
   "source": [
    "- feature importance mean 기준으로 0.05이상인 변수만 사용하였을때\n",
    "- ['SexuponOutcome', 'DateTime', 'DayuponOutcome', 'Color', 'Breed', 'Month']"
   ]
  },
  {
   "cell_type": "code",
   "execution_count": 9,
   "metadata": {},
   "outputs": [
    {
     "data": {
      "text/plain": [
       "SexuponOutcome       2\n",
       "DateTime          3361\n",
       "DayuponOutcome     365\n",
       "Color              130\n",
       "Name                 1\n",
       "Color_pre            2\n",
       "YearMonth            4\n",
       "AgeuponOutcome       5\n",
       "Name                 1\n",
       "Breed             1221\n",
       "Breed_pre          181\n",
       "Name: 0, dtype: int64"
      ]
     },
     "execution_count": 9,
     "metadata": {},
     "output_type": "execute_result"
    }
   ],
   "source": [
    "df_x.iloc[0, [3,1,8,6,0,7,14,4,0,5,11]]"
   ]
  },
  {
   "cell_type": "code",
   "execution_count": 13,
   "metadata": {},
   "outputs": [
    {
     "name": "stdout",
     "output_type": "stream",
     "text": [
      "train score: 1.0\n",
      "test score: 0.6279461279461279\n",
      "log loss: 0.9736536512728773\n",
      "\n"
     ]
    }
   ],
   "source": [
    "columns = ['SexuponOutcome', 'DateTime', 'DayuponOutcome', 'Color', 'Breed', 'YearMonth', 'AgeuponOutcome', 'Name', 'Month', 'Breed_pre']\n",
    "df_x = df_pre[columns]\n",
    "df_y = df_pre.iloc[:, [3]]\n",
    "\n",
    "from sklearn.model_selection import train_test_split\n",
    "X_train, X_test, y_train, y_test = train_test_split(df_x, df_y, test_size=0.2, random_state=0, shuffle=True)\n",
    "\n",
    "from sklearn.ensemble import RandomForestClassifier\n",
    "from sklearn.metrics import *\n",
    "\n",
    "rf = RandomForestClassifier(n_estimators=1000, max_features=6, random_state=0)\n",
    "rf.fit(X_train, y_train)\n",
    "rf_probs = rf.predict_proba(X_test)\n",
    "\n",
    "print('train score: {}'.format(rf.score(X_train, y_train)))\n",
    "print('test score: {}'.format(rf.score(X_test, y_test)))\n",
    "print('log loss: {}'.format(log_loss(y_test, rf_probs)))\n",
    "print()"
   ]
  },
  {
   "cell_type": "markdown",
   "metadata": {},
   "source": [
    "# AdaBoost "
   ]
  },
  {
   "cell_type": "code",
   "execution_count": 11,
   "metadata": {},
   "outputs": [
    {
     "name": "stdout",
     "output_type": "stream",
     "text": [
      "train score: 1.0\n",
      "test score: 0.5596707818930041\n",
      "log loss: 1.5247705012978447\n",
      "\n"
     ]
    }
   ],
   "source": [
    "from sklearn.ensemble import AdaBoostClassifier\n",
    "from sklearn.tree import DecisionTreeClassifier\n",
    "columns = ['SexuponOutcome', 'DateTime', 'DayuponOutcome', 'Color', 'Breed', 'YearMonth', 'AgeuponOutcome', 'Name', 'Month', 'Breed_pre']\n",
    "df_x = df_pre[columns]\n",
    "df_y = df_pre.iloc[:, [3]]\n",
    "\n",
    "from sklearn.model_selection import train_test_split\n",
    "X_train, X_test, y_train, y_test = train_test_split(df_x, df_y, test_size=0.2, random_state=0, shuffle=True)\n",
    "\n",
    "model_ada = AdaBoostClassifier(DecisionTreeClassifier(random_state=0), \n",
    "                               algorithm=\"SAMME\", n_estimators=300)\n",
    "model_ada.fit(X_train, y_train)\n",
    "model_ada_probs = model_ada.predict_proba(X_test)\n",
    "\n",
    "print('train score: {}'.format(model_ada.score(X_train, y_train)))\n",
    "print('test score: {}'.format(model_ada.score(X_test, y_test)))\n",
    "print('log loss: {}'.format(log_loss(y_test, model_ada_probs)))\n",
    "print()"
   ]
  },
  {
   "cell_type": "markdown",
   "metadata": {},
   "source": [
    "# Random Forest "
   ]
  },
  {
   "cell_type": "markdown",
   "metadata": {},
   "source": [
    "- 1 . ['Name', 'Color_pre', 'DayuponOutcome', 'BreedMix', 'Breed_pre', 'Year'] "
   ]
  },
  {
   "cell_type": "code",
   "execution_count": 54,
   "metadata": {
    "collapsed": true
   },
   "outputs": [
    {
     "name": "stderr",
     "output_type": "stream",
     "text": [
      "/home/dockeruser/anaconda3/lib/python3.6/site-packages/ipykernel_launcher.py:13: DataConversionWarning: A column-vector y was passed when a 1d array was expected. Please change the shape of y to (n_samples,), for example using ravel().\n",
      "  del sys.path[0]\n"
     ]
    },
    {
     "name": "stdout",
     "output_type": "stream",
     "text": [
      "train score: 0.8011036804938503\n",
      "test score: 0.5555555555555556\n",
      "log loss: 1.8783832389364936\n",
      "\n"
     ]
    }
   ],
   "source": [
    "columns = ['Name', 'Color_pre', 'DayuponOutcome', 'BreedMix', 'Breed_pre', 'Year'] \n",
    "\n",
    "df_x = df_pre[columns]\n",
    "df_y = df_pre.iloc[:, [3]]\n",
    "\n",
    "from sklearn.model_selection import train_test_split\n",
    "X_train, X_test, y_train, y_test = train_test_split(df_x, df_y, test_size=0.2, random_state=0, shuffle=True)\n",
    "\n",
    "from sklearn.ensemble import RandomForestClassifier\n",
    "from sklearn.metrics import *\n",
    "\n",
    "rf = RandomForestClassifier(n_estimators=300, random_state=0)\n",
    "rf.fit(X_train, y_train)\n",
    "rf_probs = rf.predict_proba(X_test)\n",
    "\n",
    "print('train score: {}'.format(rf.score(X_train, y_train)))\n",
    "print('test score: {}'.format(rf.score(X_test, y_test)))\n",
    "print('log loss: {}'.format(log_loss(y_test, rf_probs)))\n",
    "print()"
   ]
  },
  {
   "cell_type": "markdown",
   "metadata": {},
   "source": [
    "- 2 . ['Name', 'Color_pre', 'DayuponOutcome', 'BreedMix', 'Breed_pre', 'Month']"
   ]
  },
  {
   "cell_type": "code",
   "execution_count": 55,
   "metadata": {
    "collapsed": true
   },
   "outputs": [
    {
     "name": "stderr",
     "output_type": "stream",
     "text": [
      "/home/dockeruser/anaconda3/lib/python3.6/site-packages/ipykernel_launcher.py:13: DataConversionWarning: A column-vector y was passed when a 1d array was expected. Please change the shape of y to (n_samples,), for example using ravel().\n",
      "  del sys.path[0]\n"
     ]
    },
    {
     "name": "stdout",
     "output_type": "stream",
     "text": [
      "train score: 0.8735911705560492\n",
      "test score: 0.5589225589225589\n",
      "log loss: 1.7170981928568472\n",
      "\n"
     ]
    }
   ],
   "source": [
    "columns = ['Name', 'Color_pre', 'DayuponOutcome', 'BreedMix', 'Breed_pre', 'Month'] \n",
    "\n",
    "df_x = df_pre[columns]\n",
    "df_y = df_pre.iloc[:, [3]]\n",
    "\n",
    "from sklearn.model_selection import train_test_split\n",
    "X_train, X_test, y_train, y_test = train_test_split(df_x, df_y, test_size=0.2, random_state=0, shuffle=True)\n",
    "\n",
    "from sklearn.ensemble import RandomForestClassifier\n",
    "from sklearn.metrics import *\n",
    "\n",
    "rf = RandomForestClassifier(n_estimators=300, random_state=0)\n",
    "rf.fit(X_train, y_train)\n",
    "rf_probs = rf.predict_proba(X_test)\n",
    "\n",
    "print('train score: {}'.format(rf.score(X_train, y_train)))\n",
    "print('test score: {}'.format(rf.score(X_test, y_test)))\n",
    "print('log loss: {}'.format(log_loss(y_test, rf_probs)))\n",
    "print()"
   ]
  },
  {
   "cell_type": "markdown",
   "metadata": {},
   "source": [
    "- 3 . ['Name', 'Color_pre', 'DayuponOutcome', 'BreedMix', 'Breed_pre', 'YearMonth']"
   ]
  },
  {
   "cell_type": "code",
   "execution_count": 56,
   "metadata": {
    "collapsed": true
   },
   "outputs": [
    {
     "name": "stderr",
     "output_type": "stream",
     "text": [
      "/home/dockeruser/anaconda3/lib/python3.6/site-packages/ipykernel_launcher.py:13: DataConversionWarning: A column-vector y was passed when a 1d array was expected. Please change the shape of y to (n_samples,), for example using ravel().\n",
      "  del sys.path[0]\n"
     ]
    },
    {
     "name": "stdout",
     "output_type": "stream",
     "text": [
      "train score: 0.9155871486695039\n",
      "test score: 0.5632248410026188\n",
      "log loss: 1.5379631569883232\n",
      "\n"
     ]
    }
   ],
   "source": [
    "columns = ['Name', 'Color_pre', 'DayuponOutcome', 'BreedMix', 'Breed_pre', 'YearMonth'] \n",
    "\n",
    "df_x = df_pre[columns]\n",
    "df_y = df_pre.iloc[:, [3]]\n",
    "\n",
    "from sklearn.model_selection import train_test_split\n",
    "X_train, X_test, y_train, y_test = train_test_split(df_x, df_y, test_size=0.2, random_state=0, shuffle=True)\n",
    "\n",
    "from sklearn.ensemble import RandomForestClassifier\n",
    "from sklearn.metrics import *\n",
    "\n",
    "rf = RandomForestClassifier(n_estimators=300, random_state=0)\n",
    "rf.fit(X_train, y_train)\n",
    "rf_probs = rf.predict_proba(X_test)\n",
    "\n",
    "print('train score: {}'.format(rf.score(X_train, y_train)))\n",
    "print('test score: {}'.format(rf.score(X_test, y_test)))\n",
    "print('log loss: {}'.format(log_loss(y_test, rf_probs)))\n",
    "print()"
   ]
  },
  {
   "cell_type": "markdown",
   "metadata": {},
   "source": [
    "- 4 . ['Name', 'Color_pre', 'DayuponOutcome', 'BreedMix', 'Breed_pre', 'Season']"
   ]
  },
  {
   "cell_type": "code",
   "execution_count": 57,
   "metadata": {
    "collapsed": true
   },
   "outputs": [
    {
     "name": "stderr",
     "output_type": "stream",
     "text": [
      "/home/dockeruser/anaconda3/lib/python3.6/site-packages/ipykernel_launcher.py:13: DataConversionWarning: A column-vector y was passed when a 1d array was expected. Please change the shape of y to (n_samples,), for example using ravel().\n",
      "  del sys.path[0]\n"
     ]
    },
    {
     "name": "stdout",
     "output_type": "stream",
     "text": [
      "train score: 0.8146658560538745\n",
      "test score: 0.5538720538720538\n",
      "log loss: 1.9324877419822\n",
      "\n"
     ]
    }
   ],
   "source": [
    "columns = ['Name', 'Color_pre', 'DayuponOutcome', 'BreedMix', 'Breed_pre', 'Season'] \n",
    "\n",
    "df_x = df_pre[columns]\n",
    "df_y = df_pre.iloc[:, [3]]\n",
    "\n",
    "from sklearn.model_selection import train_test_split\n",
    "X_train, X_test, y_train, y_test = train_test_split(df_x, df_y, test_size=0.2, random_state=0, shuffle=True)\n",
    "\n",
    "from sklearn.ensemble import RandomForestClassifier\n",
    "from sklearn.metrics import *\n",
    "\n",
    "rf = RandomForestClassifier(n_estimators=300, random_state=0)\n",
    "rf.fit(X_train, y_train)\n",
    "rf_probs = rf.predict_proba(X_test)\n",
    "\n",
    "print('train score: {}'.format(rf.score(X_train, y_train)))\n",
    "print('test score: {}'.format(rf.score(X_test, y_test)))\n",
    "print('log loss: {}'.format(log_loss(y_test, rf_probs)))\n",
    "print()"
   ]
  },
  {
   "cell_type": "markdown",
   "metadata": {},
   "source": [
    "- 5 . ['Name', 'Color_pre', 'DayuponOutcome', 'BreedMix', 'Breed_pre', 'Quarter']"
   ]
  },
  {
   "cell_type": "code",
   "execution_count": 58,
   "metadata": {
    "collapsed": true
   },
   "outputs": [
    {
     "name": "stderr",
     "output_type": "stream",
     "text": [
      "/home/dockeruser/anaconda3/lib/python3.6/site-packages/ipykernel_launcher.py:13: DataConversionWarning: A column-vector y was passed when a 1d array was expected. Please change the shape of y to (n_samples,), for example using ravel().\n",
      "  del sys.path[0]\n"
     ]
    },
    {
     "name": "stdout",
     "output_type": "stream",
     "text": [
      "train score: 0.8142917270729084\n",
      "test score: 0.5544332210998878\n",
      "log loss: 1.987696300439277\n",
      "\n"
     ]
    }
   ],
   "source": [
    "columns = ['Name', 'Color_pre', 'DayuponOutcome', 'BreedMix', 'Breed_pre', 'Quarter'] \n",
    "\n",
    "df_x = df_pre[columns]\n",
    "df_y = df_pre.iloc[:, [3]]\n",
    "\n",
    "from sklearn.model_selection import train_test_split\n",
    "X_train, X_test, y_train, y_test = train_test_split(df_x, df_y, test_size=0.2, random_state=0, shuffle=True)\n",
    "\n",
    "from sklearn.ensemble import RandomForestClassifier\n",
    "from sklearn.metrics import *\n",
    "\n",
    "rf = RandomForestClassifier(n_estimators=300, random_state=0)\n",
    "rf.fit(X_train, y_train)\n",
    "rf_probs = rf.predict_proba(X_test)\n",
    "\n",
    "print('train score: {}'.format(rf.score(X_train, y_train)))\n",
    "print('test score: {}'.format(rf.score(X_test, y_test)))\n",
    "print('log loss: {}'.format(log_loss(y_test, rf_probs)))\n",
    "print()"
   ]
  },
  {
   "cell_type": "markdown",
   "metadata": {},
   "source": [
    "- 6 . ['Name', 'Color_pre', 'AboutAge', 'BreedMix', 'Breed_pre', 'Year']"
   ]
  },
  {
   "cell_type": "code",
   "execution_count": 5,
   "metadata": {
    "collapsed": true
   },
   "outputs": [
    {
     "name": "stderr",
     "output_type": "stream",
     "text": [
      "/home/dockeruser/anaconda3/lib/python3.6/site-packages/ipykernel_launcher.py:13: DataConversionWarning: A column-vector y was passed when a 1d array was expected. Please change the shape of y to (n_samples,), for example using ravel().\n",
      "  del sys.path[0]\n"
     ]
    },
    {
     "name": "stdout",
     "output_type": "stream",
     "text": [
      "train score: 0.7025206940092596\n",
      "test score: 0.5284324728769173\n",
      "log loss: 1.969618631399007\n",
      "\n"
     ]
    }
   ],
   "source": [
    "columns = ['Name', 'Color_pre', 'AboutAge', 'BreedMix', 'Breed_pre', 'Year']\n",
    "\n",
    "df_x = df_pre[columns]\n",
    "df_y = df_pre.iloc[:, [3]]\n",
    "\n",
    "from sklearn.model_selection import train_test_split\n",
    "X_train, X_test, y_train, y_test = train_test_split(df_x, df_y, test_size=0.2, random_state=0, shuffle=True)\n",
    "\n",
    "from sklearn.ensemble import RandomForestClassifier\n",
    "from sklearn.metrics import *\n",
    "\n",
    "rf = RandomForestClassifier(n_estimators=300, random_state=0)\n",
    "rf.fit(X_train, y_train)\n",
    "rf_probs = rf.predict_proba(X_test)\n",
    "\n",
    "print('train score: {}'.format(rf.score(X_train, y_train)))\n",
    "print('test score: {}'.format(rf.score(X_test, y_test)))\n",
    "print('log loss: {}'.format(log_loss(y_test, rf_probs)))\n",
    "print()"
   ]
  },
  {
   "cell_type": "markdown",
   "metadata": {},
   "source": [
    "- 7 . ['Name', 'Color_pre', 'AboutAge', 'BreedMix', 'Breed_pre', 'Month']"
   ]
  },
  {
   "cell_type": "code",
   "execution_count": 8,
   "metadata": {
    "collapsed": true
   },
   "outputs": [
    {
     "name": "stderr",
     "output_type": "stream",
     "text": [
      "/home/dockeruser/anaconda3/lib/python3.6/site-packages/ipykernel_launcher.py:13: DataConversionWarning: A column-vector y was passed when a 1d array was expected. Please change the shape of y to (n_samples,), for example using ravel().\n",
      "  del sys.path[0]\n"
     ]
    },
    {
     "name": "stdout",
     "output_type": "stream",
     "text": [
      "train score: 0.7749146518262171\n",
      "test score: 0.5145903479236813\n",
      "log loss: 1.9821968064766362\n",
      "\n"
     ]
    }
   ],
   "source": [
    "columns = ['Name', 'Color_pre', 'AboutAge', 'BreedMix', 'Breed_pre', 'Month']\n",
    "\n",
    "df_x = df_pre[columns]\n",
    "df_y = df_pre.iloc[:, [3]]\n",
    "\n",
    "from sklearn.model_selection import train_test_split\n",
    "X_train, X_test, y_train, y_test = train_test_split(df_x, df_y, test_size=0.2, random_state=0, shuffle=True)\n",
    "\n",
    "from sklearn.ensemble import RandomForestClassifier\n",
    "from sklearn.metrics import *\n",
    "\n",
    "rf = RandomForestClassifier(n_estimators=300, random_state=0)\n",
    "rf.fit(X_train, y_train)\n",
    "rf_probs = rf.predict_proba(X_test)\n",
    "\n",
    "print('train score: {}'.format(rf.score(X_train, y_train)))\n",
    "print('test score: {}'.format(rf.score(X_test, y_test)))\n",
    "print('log loss: {}'.format(log_loss(y_test, rf_probs)))\n",
    "print()"
   ]
  },
  {
   "cell_type": "markdown",
   "metadata": {},
   "source": [
    "- 8 . ['Name', 'Color_pre', 'AboutAge', 'BreedMix', 'Breed_pre', 'YearMonth']"
   ]
  },
  {
   "cell_type": "code",
   "execution_count": 7,
   "metadata": {
    "collapsed": true
   },
   "outputs": [
    {
     "name": "stderr",
     "output_type": "stream",
     "text": [
      "/home/dockeruser/anaconda3/lib/python3.6/site-packages/ipykernel_launcher.py:13: DataConversionWarning: A column-vector y was passed when a 1d array was expected. Please change the shape of y to (n_samples,), for example using ravel().\n",
      "  del sys.path[0]\n"
     ]
    },
    {
     "name": "stdout",
     "output_type": "stream",
     "text": [
      "train score: 0.8252817658887902\n",
      "test score: 0.5216984661429106\n",
      "log loss: 1.9294567976580403\n",
      "\n"
     ]
    }
   ],
   "source": [
    "columns = ['Name', 'Color_pre', 'AboutAge', 'BreedMix', 'Breed_pre', 'YearMonth']\n",
    "\n",
    "df_x = df_pre[columns]\n",
    "df_y = df_pre.iloc[:, [3]]\n",
    "\n",
    "from sklearn.model_selection import train_test_split\n",
    "X_train, X_test, y_train, y_test = train_test_split(df_x, df_y, test_size=0.2, random_state=0, shuffle=True)\n",
    "\n",
    "from sklearn.ensemble import RandomForestClassifier\n",
    "from sklearn.metrics import *\n",
    "\n",
    "rf = RandomForestClassifier(n_estimators=300, random_state=0)\n",
    "rf.fit(X_train, y_train)\n",
    "rf_probs = rf.predict_proba(X_test)\n",
    "\n",
    "print('train score: {}'.format(rf.score(X_train, y_train)))\n",
    "print('test score: {}'.format(rf.score(X_test, y_test)))\n",
    "print('log loss: {}'.format(log_loss(y_test, rf_probs)))\n",
    "print()"
   ]
  },
  {
   "cell_type": "markdown",
   "metadata": {},
   "source": [
    "- 9 . ['Name', 'Color_pre', 'AboutAge', 'BreedMix', 'Breed_pre', 'Season']"
   ]
  },
  {
   "cell_type": "code",
   "execution_count": 9,
   "metadata": {
    "collapsed": true
   },
   "outputs": [
    {
     "name": "stderr",
     "output_type": "stream",
     "text": [
      "/home/dockeruser/anaconda3/lib/python3.6/site-packages/ipykernel_launcher.py:13: DataConversionWarning: A column-vector y was passed when a 1d array was expected. Please change the shape of y to (n_samples,), for example using ravel().\n",
      "  del sys.path[0]\n"
     ]
    },
    {
     "name": "stdout",
     "output_type": "stream",
     "text": [
      "train score: 0.7130898377215545\n",
      "test score: 0.5198279087167976\n",
      "log loss: 1.9335018433205342\n",
      "\n"
     ]
    }
   ],
   "source": [
    "columns = ['Name', 'Color_pre', 'AboutAge', 'BreedMix', 'Breed_pre', 'Season']\n",
    "\n",
    "df_x = df_pre[columns]\n",
    "df_y = df_pre.iloc[:, [3]]\n",
    "\n",
    "from sklearn.model_selection import train_test_split\n",
    "X_train, X_test, y_train, y_test = train_test_split(df_x, df_y, test_size=0.2, random_state=0, shuffle=True)\n",
    "\n",
    "from sklearn.ensemble import RandomForestClassifier\n",
    "from sklearn.metrics import *\n",
    "\n",
    "rf = RandomForestClassifier(n_estimators=300, random_state=0)\n",
    "rf.fit(X_train, y_train)\n",
    "rf_probs = rf.predict_proba(X_test)\n",
    "\n",
    "print('train score: {}'.format(rf.score(X_train, y_train)))\n",
    "print('test score: {}'.format(rf.score(X_test, y_test)))\n",
    "print('log loss: {}'.format(log_loss(y_test, rf_probs)))\n",
    "print()"
   ]
  },
  {
   "cell_type": "markdown",
   "metadata": {},
   "source": [
    "- 10 . ['Name', 'Color_pre', 'AboutAge', 'BreedMix', 'Breed_pre', 'Quarter']"
   ]
  },
  {
   "cell_type": "code",
   "execution_count": 10,
   "metadata": {
    "collapsed": true
   },
   "outputs": [
    {
     "name": "stderr",
     "output_type": "stream",
     "text": [
      "/home/dockeruser/anaconda3/lib/python3.6/site-packages/ipykernel_launcher.py:13: DataConversionWarning: A column-vector y was passed when a 1d array was expected. Please change the shape of y to (n_samples,), for example using ravel().\n",
      "  del sys.path[0]\n"
     ]
    },
    {
     "name": "stdout",
     "output_type": "stream",
     "text": [
      "train score: 0.7138380956834869\n",
      "test score: 0.5200149644594089\n",
      "log loss: 1.9571902704406532\n",
      "\n"
     ]
    }
   ],
   "source": [
    "columns = ['Name', 'Color_pre', 'AboutAge', 'BreedMix', 'Breed_pre', 'Quarter']\n",
    "\n",
    "df_x = df_pre[columns]\n",
    "df_y = df_pre.iloc[:, [3]]\n",
    "\n",
    "from sklearn.model_selection import train_test_split\n",
    "X_train, X_test, y_train, y_test = train_test_split(df_x, df_y, test_size=0.2, random_state=0, shuffle=True)\n",
    "\n",
    "from sklearn.ensemble import RandomForestClassifier\n",
    "from sklearn.metrics import *\n",
    "\n",
    "rf = RandomForestClassifier(n_estimators=300, random_state=0)\n",
    "rf.fit(X_train, y_train)\n",
    "rf_probs = rf.predict_proba(X_test)\n",
    "\n",
    "print('train score: {}'.format(rf.score(X_train, y_train)))\n",
    "print('test score: {}'.format(rf.score(X_test, y_test)))\n",
    "print('log loss: {}'.format(log_loss(y_test, rf_probs)))\n",
    "print()"
   ]
  },
  {
   "cell_type": "markdown",
   "metadata": {},
   "source": [
    "- 11 . ['Name', 'Color_pre', 'DayuponOutcome', 'BreedMix', 'Breed_pre', 'Year', 'Group']"
   ]
  },
  {
   "cell_type": "code",
   "execution_count": 11,
   "metadata": {
    "collapsed": true
   },
   "outputs": [
    {
     "name": "stderr",
     "output_type": "stream",
     "text": [
      "/home/dockeruser/anaconda3/lib/python3.6/site-packages/ipykernel_launcher.py:13: DataConversionWarning: A column-vector y was passed when a 1d array was expected. Please change the shape of y to (n_samples,), for example using ravel().\n",
      "  del sys.path[0]\n"
     ]
    },
    {
     "name": "stdout",
     "output_type": "stream",
     "text": [
      "train score: 0.8011036804938503\n",
      "test score: 0.5591096146651702\n",
      "log loss: 1.906976682291443\n",
      "\n"
     ]
    }
   ],
   "source": [
    "columns = ['Name', 'Color_pre', 'DayuponOutcome', 'BreedMix', 'Breed_pre', 'Year', 'Group']\n",
    "\n",
    "df_x = df_pre[columns]\n",
    "df_y = df_pre.iloc[:, [3]]\n",
    "\n",
    "from sklearn.model_selection import train_test_split\n",
    "X_train, X_test, y_train, y_test = train_test_split(df_x, df_y, test_size=0.2, random_state=0, shuffle=True)\n",
    "\n",
    "from sklearn.ensemble import RandomForestClassifier\n",
    "from sklearn.metrics import *\n",
    "\n",
    "rf = RandomForestClassifier(n_estimators=300, random_state=0)\n",
    "rf.fit(X_train, y_train)\n",
    "rf_probs = rf.predict_proba(X_test)\n",
    "\n",
    "print('train score: {}'.format(rf.score(X_train, y_train)))\n",
    "print('test score: {}'.format(rf.score(X_test, y_test)))\n",
    "print('log loss: {}'.format(log_loss(y_test, rf_probs)))\n",
    "print()"
   ]
  },
  {
   "cell_type": "markdown",
   "metadata": {},
   "source": [
    "- 12 . ['Name', 'Color_pre', 'DayuponOutcome', 'BreedMix', 'Breed_pre', 'Month', 'Group']"
   ]
  },
  {
   "cell_type": "code",
   "execution_count": 12,
   "metadata": {
    "collapsed": true
   },
   "outputs": [
    {
     "name": "stderr",
     "output_type": "stream",
     "text": [
      "/home/dockeruser/anaconda3/lib/python3.6/site-packages/ipykernel_launcher.py:13: DataConversionWarning: A column-vector y was passed when a 1d array was expected. Please change the shape of y to (n_samples,), for example using ravel().\n",
      "  del sys.path[0]\n"
     ]
    },
    {
     "name": "stdout",
     "output_type": "stream",
     "text": [
      "train score: 0.8735911705560492\n",
      "test score: 0.5679012345679012\n",
      "log loss: 1.7606278281994434\n",
      "\n"
     ]
    }
   ],
   "source": [
    "columns = ['Name', 'Color_pre', 'DayuponOutcome', 'BreedMix', 'Breed_pre', 'Month', 'Group']\n",
    "\n",
    "df_x = df_pre[columns]\n",
    "df_y = df_pre.iloc[:, [3]]\n",
    "\n",
    "from sklearn.model_selection import train_test_split\n",
    "X_train, X_test, y_train, y_test = train_test_split(df_x, df_y, test_size=0.2, random_state=0, shuffle=True)\n",
    "\n",
    "from sklearn.ensemble import RandomForestClassifier\n",
    "from sklearn.metrics import *\n",
    "\n",
    "rf = RandomForestClassifier(n_estimators=300, random_state=0)\n",
    "rf.fit(X_train, y_train)\n",
    "rf_probs = rf.predict_proba(X_test)\n",
    "\n",
    "print('train score: {}'.format(rf.score(X_train, y_train)))\n",
    "print('test score: {}'.format(rf.score(X_test, y_test)))\n",
    "print('log loss: {}'.format(log_loss(y_test, rf_probs)))\n",
    "print()"
   ]
  },
  {
   "cell_type": "markdown",
   "metadata": {},
   "source": [
    "- 13 . ['Name', 'Color_pre', 'DayuponOutcome', 'BreedMix', 'Breed_pre', 'YearMonth', 'Group']"
   ]
  },
  {
   "cell_type": "code",
   "execution_count": 13,
   "metadata": {
    "collapsed": true
   },
   "outputs": [
    {
     "name": "stderr",
     "output_type": "stream",
     "text": [
      "/home/dockeruser/anaconda3/lib/python3.6/site-packages/ipykernel_launcher.py:13: DataConversionWarning: A column-vector y was passed when a 1d array was expected. Please change the shape of y to (n_samples,), for example using ravel().\n",
      "  del sys.path[0]\n"
     ]
    },
    {
     "name": "stdout",
     "output_type": "stream",
     "text": [
      "train score: 0.9155871486695039\n",
      "test score: 0.5714552936775159\n",
      "log loss: 1.5198682544580564\n",
      "\n"
     ]
    }
   ],
   "source": [
    "columns = ['Name', 'Color_pre', 'DayuponOutcome', 'BreedMix', 'Breed_pre', 'YearMonth', 'Group']\n",
    "\n",
    "df_x = df_pre[columns]\n",
    "df_y = df_pre.iloc[:, [3]]\n",
    "\n",
    "from sklearn.model_selection import train_test_split\n",
    "X_train, X_test, y_train, y_test = train_test_split(df_x, df_y, test_size=0.2, random_state=0, shuffle=True)\n",
    "\n",
    "from sklearn.ensemble import RandomForestClassifier\n",
    "from sklearn.metrics import *\n",
    "\n",
    "rf = RandomForestClassifier(n_estimators=300, random_state=0)\n",
    "rf.fit(X_train, y_train)\n",
    "rf_probs = rf.predict_proba(X_test)\n",
    "\n",
    "print('train score: {}'.format(rf.score(X_train, y_train)))\n",
    "print('test score: {}'.format(rf.score(X_test, y_test)))\n",
    "print('log loss: {}'.format(log_loss(y_test, rf_probs)))\n",
    "print()"
   ]
  },
  {
   "cell_type": "markdown",
   "metadata": {},
   "source": [
    "# Logistic Regression"
   ]
  },
  {
   "cell_type": "code",
   "execution_count": 16,
   "metadata": {},
   "outputs": [
    {
     "name": "stdout",
     "output_type": "stream",
     "text": [
      "train score: 0.56331060857998\n",
      "test score: 0.5664047886270108\n",
      "log loss: 1.0485084178130732\n",
      "\n"
     ]
    }
   ],
   "source": [
    "from sklearn.linear_model import LogisticRegression\n",
    "from sklearn.metrics import *\n",
    "\n",
    "columns = ['SexuponOutcome', 'DateTime', 'DayuponOutcome', 'Color', 'Breed', 'YearMonth', 'AgeuponOutcome', 'Name', 'Month', 'Breed_pre']\n",
    "\n",
    "df_x = df_pre[columns]\n",
    "df_y = df_pre.iloc[:, [3]]\n",
    "from sklearn.model_selection import train_test_split\n",
    "X_train, X_test, y_train, y_test = train_test_split(df_x, df_y, test_size=0.1, random_state=0, shuffle=True)\n",
    "\n",
    "model = LogisticRegression().fit(X_train, y_train)\n",
    "model_probs = model.predict_proba(X_test)\n",
    "\n",
    "print('train score: {}'.format(model.score(X_train, y_train)))\n",
    "print('test score: {}'.format(model.score(X_test, y_test)))\n",
    "print('log loss: {}'.format(log_loss(y_test, model_probs)))\n",
    "print()"
   ]
  },
  {
   "cell_type": "markdown",
   "metadata": {},
   "source": [
    "# Gradient Boosting "
   ]
  },
  {
   "cell_type": "code",
   "execution_count": 17,
   "metadata": {
    "scrolled": false
   },
   "outputs": [
    {
     "name": "stdout",
     "output_type": "stream",
     "text": [
      "train score: 0.7768124376454939\n",
      "test score: 0.6715301159745605\n",
      "log loss: 0.8472990786298175\n",
      "\n"
     ]
    }
   ],
   "source": [
    "from sklearn.ensemble import GradientBoostingClassifier\n",
    "from sklearn.metrics import *\n",
    "from sklearn.model_selection import train_test_split\n",
    "\n",
    "columns = ['SexuponOutcome', 'DateTime', 'DayuponOutcome', 'Color', 'Breed', 'YearMonth', 'AgeuponOutcome', 'Name', 'Month', 'Breed_pre']\n",
    "df_x = df_pre[columns]\n",
    "df_y = df_pre.iloc[:, [3]]\n",
    "\n",
    "X_train, X_test, y_train, y_test = train_test_split(df_x, df_y, test_size=0.1, random_state=0, shuffle=True)\n",
    "\n",
    "model_grad = GradientBoostingClassifier(n_estimators=1000, random_state=0).fit(X_train, y_train)\n",
    "model_probs = model_grad.predict_proba(X_test)\n",
    "\n",
    "print('train score: {}'.format(model_grad.score(X_train, y_train)))\n",
    "print('test score: {}'.format(model_grad.score(X_test, y_test)))\n",
    "print('log loss: {}'.format(log_loss(y_test, model_probs)))\n",
    "print()"
   ]
  },
  {
   "cell_type": "markdown",
   "metadata": {},
   "source": [
    "# XGBoost "
   ]
  },
  {
   "cell_type": "markdown",
   "metadata": {},
   "source": [
    "- 적당한 test size 탐색"
   ]
  },
  {
   "cell_type": "code",
   "execution_count": 18,
   "metadata": {},
   "outputs": [
    {
     "name": "stdout",
     "output_type": "stream",
     "text": [
      "test size =  0.1 \n",
      "\n",
      "train score: 0.6501496508147655\n",
      "test score: 0.6427235316124205\n",
      "log loss: 0.8361748305469573\n",
      "\n",
      "test size =  0.2 \n",
      "\n",
      "train score: 0.6512650236168919\n",
      "test score: 0.6419753086419753\n",
      "log loss: 0.8422015675612203\n",
      "\n",
      "test size =  0.3 \n",
      "\n",
      "train score: 0.6504543025120256\n",
      "test score: 0.6412270856715301\n",
      "log loss: 0.8474870156396883\n",
      "\n",
      "test size =  0.4 \n",
      "\n",
      "train score: 0.6525534701003929\n",
      "test score: 0.6421623643845866\n",
      "log loss: 0.8566757387436684\n",
      "\n",
      "test size =  0.5 \n",
      "\n",
      "train score: 0.6516761448668064\n",
      "test score: 0.6424242424242425\n",
      "log loss: 0.8564755970151559\n",
      "\n",
      "test size =  0.6 \n",
      "\n",
      "train score: 0.6537274342905247\n",
      "test score: 0.6419129567277715\n",
      "log loss: 0.8564711488490223\n",
      "\n",
      "test size =  0.7 \n",
      "\n",
      "train score: 0.6561486655026191\n",
      "test score: 0.6406926406926406\n",
      "log loss: 0.859508276350064\n",
      "\n",
      "test size =  0.8 \n",
      "\n",
      "train score: 0.6570626753975678\n",
      "test score: 0.6365506921062477\n",
      "log loss: 0.8633589029412827\n",
      "\n",
      "test size =  0.9 \n",
      "\n",
      "train score: 0.6792664670658682\n",
      "test score: 0.6314170511701376\n",
      "log loss: 0.8773639317856342\n",
      "\n"
     ]
    }
   ],
   "source": [
    "import xgboost\n",
    "from sklearn.metrics import *\n",
    "from sklearn.model_selection import train_test_split\n",
    "\n",
    "columns = ['SexuponOutcome', 'DateTime', 'DayuponOutcome', 'Color', 'Breed', 'YearMonth', 'AgeuponOutcome', 'Name', 'Month', 'Breed_pre']\n",
    "\n",
    "df_x = df_pre[columns]\n",
    "df_y = df_pre.iloc[:, [3]]\n",
    "for_cv = np.linspace(0.1, 0.9, 9)\n",
    "for i in for_cv:\n",
    "    X_train, X_test, y_train, y_test = train_test_split(df_x, df_y, test_size=i, random_state=0, shuffle=True)\n",
    "\n",
    "    model_xgb = xgboost.XGBClassifier(n_estimators=100).fit(X_train, y_train)\n",
    "    model_probs = model_xgb.predict_proba(X_test)\n",
    "    print('test size = ', i, '\\n')\n",
    "    print('train score: {}'.format(model_xgb.score(X_train, y_train)))\n",
    "    print('test score: {}'.format(model_xgb.score(X_test, y_test)))\n",
    "    print('log loss: {}'.format(log_loss(y_test, model_probs)))\n",
    "    print()"
   ]
  },
  {
   "cell_type": "markdown",
   "metadata": {},
   "source": [
    "- max_feature Test"
   ]
  },
  {
   "cell_type": "markdown",
   "metadata": {},
   "source": [
    "- 적당한 n_estimators 탐색"
   ]
  },
  {
   "cell_type": "code",
   "execution_count": 17,
   "metadata": {},
   "outputs": [],
   "source": [
    "from sklearn.model_selection import GridSearchCV\n",
    "\n",
    "def model_cv(X_train, X_test, y_train, y_test, model_xgb, name):\n",
    "    model_xgb.fit(X_train, y_train)\n",
    "    print(name,': ',model_xgb.best_params_)\n",
    "    pred_y = model_xgb.predict_proba(X_test)\n",
    "    print('train score: {}'.format(model_xgb.score(X_train, y_train)))\n",
    "    print('test score: {}'.format(model_xgb.score(X_test, y_test)))\n",
    "    print('log loss: {}'.format(log_loss(y_test, pred_y)))\n",
    "    print()\n",
    "\n",
    "def xgbc(X_train, X_test, y_train, y_test):\n",
    "    param = [{'n_estimators' : [500, 750, 1000],\n",
    "             'learning_rate' : [0.1, 0.2, 0.3],\n",
    "             'max_depth' : [3, 4, 5]}]\n",
    "    model_xgb = GridSearchCV(XGBClassifier(), param)\n",
    "    name = 'XGBoost'\n",
    "    return model_cv(X_train, X_test, y_train, y_test, model_xgb, name)"
   ]
  },
  {
   "cell_type": "code",
   "execution_count": 18,
   "metadata": {
    "scrolled": true
   },
   "outputs": [
    {
     "name": "stdout",
     "output_type": "stream",
     "text": [
      "XGBoost :  {'learning_rate': 0.2, 'max_depth': 4, 'n_estimators': 1000}\n",
      "train score: 0.8525523777851679\n",
      "test score: 0.6704077815188926\n",
      "log loss: 0.8227070794304204\n",
      "\n"
     ]
    }
   ],
   "source": [
    "import xgboost\n",
    "from xgboost import XGBClassifier\n",
    "from sklearn.metrics import *\n",
    "from sklearn.model_selection import train_test_split\n",
    "\n",
    "columns = ['SexuponOutcome', 'DateTime', 'DayuponOutcome', 'Color', 'Breed', 'YearMonth', 'AgeuponOutcome', 'Name', 'Month', 'Breed_pre']\n",
    "\n",
    "\n",
    "df_x = df_pre[columns]\n",
    "df_y = df_pre['OutcomeType']\n",
    "\n",
    "X_train, X_test, y_train, y_test = train_test_split(df_x, df_y, test_size = 0.1, random_state=0, shuffle=True)\n",
    "\n",
    "xgbc(X_train, X_test, y_train, y_test)"
   ]
  },
  {
   "cell_type": "markdown",
   "metadata": {},
   "source": [
    "# Kernel SVM"
   ]
  },
  {
   "cell_type": "code",
   "execution_count": 5,
   "metadata": {
    "scrolled": false
   },
   "outputs": [
    {
     "ename": "AttributeError",
     "evalue": "predict_proba is not available when  probability=False",
     "output_type": "error",
     "traceback": [
      "\u001b[0;31m---------------------------------------------------------------------------\u001b[0m",
      "\u001b[0;31mAttributeError\u001b[0m                            Traceback (most recent call last)",
      "\u001b[0;32m<ipython-input-5-363cac48648d>\u001b[0m in \u001b[0;36m<module>\u001b[0;34m()\u001b[0m\n\u001b[1;32m     11\u001b[0m \u001b[0;34m\u001b[0m\u001b[0m\n\u001b[1;32m     12\u001b[0m \u001b[0mrbf_svc\u001b[0m \u001b[0;34m=\u001b[0m \u001b[0mSVC\u001b[0m\u001b[0;34m(\u001b[0m\u001b[0mkernel\u001b[0m\u001b[0;34m=\u001b[0m\u001b[0;34m'rbf'\u001b[0m\u001b[0;34m,\u001b[0m \u001b[0mrandom_state\u001b[0m\u001b[0;34m=\u001b[0m\u001b[0;36m0\u001b[0m\u001b[0;34m,\u001b[0m \u001b[0mgamma\u001b[0m\u001b[0;34m=\u001b[0m\u001b[0;36m1\u001b[0m\u001b[0;34m,\u001b[0m \u001b[0mC\u001b[0m\u001b[0;34m=\u001b[0m\u001b[0;36m1.0\u001b[0m\u001b[0;34m)\u001b[0m\u001b[0;34m.\u001b[0m\u001b[0mfit\u001b[0m\u001b[0;34m(\u001b[0m\u001b[0mX_train\u001b[0m\u001b[0;34m,\u001b[0m \u001b[0my_train\u001b[0m\u001b[0;34m)\u001b[0m\u001b[0;34m\u001b[0m\u001b[0m\n\u001b[0;32m---> 13\u001b[0;31m \u001b[0mmodel_probs\u001b[0m \u001b[0;34m=\u001b[0m \u001b[0mrbf_svc\u001b[0m\u001b[0;34m.\u001b[0m\u001b[0mpredict_proba\u001b[0m\u001b[0;34m(\u001b[0m\u001b[0mX_test\u001b[0m\u001b[0;34m)\u001b[0m\u001b[0;34m\u001b[0m\u001b[0m\n\u001b[0m\u001b[1;32m     14\u001b[0m \u001b[0;34m\u001b[0m\u001b[0m\n\u001b[1;32m     15\u001b[0m \u001b[0mprint\u001b[0m\u001b[0;34m(\u001b[0m\u001b[0;34m'train score: {}'\u001b[0m\u001b[0;34m.\u001b[0m\u001b[0mformat\u001b[0m\u001b[0;34m(\u001b[0m\u001b[0mrbf_svc\u001b[0m\u001b[0;34m.\u001b[0m\u001b[0mscore\u001b[0m\u001b[0;34m(\u001b[0m\u001b[0mX_train\u001b[0m\u001b[0;34m,\u001b[0m \u001b[0my_train\u001b[0m\u001b[0;34m)\u001b[0m\u001b[0;34m)\u001b[0m\u001b[0;34m)\u001b[0m\u001b[0;34m\u001b[0m\u001b[0m\n",
      "\u001b[0;32m~/anaconda3/lib/python3.6/site-packages/sklearn/svm/base.py\u001b[0m in \u001b[0;36mpredict_proba\u001b[0;34m(self)\u001b[0m\n\u001b[1;32m    588\u001b[0m         \u001b[0mdatasets\u001b[0m\u001b[0;34m.\u001b[0m\u001b[0;34m\u001b[0m\u001b[0m\n\u001b[1;32m    589\u001b[0m         \"\"\"\n\u001b[0;32m--> 590\u001b[0;31m         \u001b[0mself\u001b[0m\u001b[0;34m.\u001b[0m\u001b[0m_check_proba\u001b[0m\u001b[0;34m(\u001b[0m\u001b[0;34m)\u001b[0m\u001b[0;34m\u001b[0m\u001b[0m\n\u001b[0m\u001b[1;32m    591\u001b[0m         \u001b[0;32mreturn\u001b[0m \u001b[0mself\u001b[0m\u001b[0;34m.\u001b[0m\u001b[0m_predict_proba\u001b[0m\u001b[0;34m\u001b[0m\u001b[0m\n\u001b[1;32m    592\u001b[0m \u001b[0;34m\u001b[0m\u001b[0m\n",
      "\u001b[0;32m~/anaconda3/lib/python3.6/site-packages/sklearn/svm/base.py\u001b[0m in \u001b[0;36m_check_proba\u001b[0;34m(self)\u001b[0m\n\u001b[1;32m    555\u001b[0m     \u001b[0;32mdef\u001b[0m \u001b[0m_check_proba\u001b[0m\u001b[0;34m(\u001b[0m\u001b[0mself\u001b[0m\u001b[0;34m)\u001b[0m\u001b[0;34m:\u001b[0m\u001b[0;34m\u001b[0m\u001b[0m\n\u001b[1;32m    556\u001b[0m         \u001b[0;32mif\u001b[0m \u001b[0;32mnot\u001b[0m \u001b[0mself\u001b[0m\u001b[0;34m.\u001b[0m\u001b[0mprobability\u001b[0m\u001b[0;34m:\u001b[0m\u001b[0;34m\u001b[0m\u001b[0m\n\u001b[0;32m--> 557\u001b[0;31m             raise AttributeError(\"predict_proba is not available when \"\n\u001b[0m\u001b[1;32m    558\u001b[0m                                  \" probability=False\")\n\u001b[1;32m    559\u001b[0m         \u001b[0;32mif\u001b[0m \u001b[0mself\u001b[0m\u001b[0;34m.\u001b[0m\u001b[0m_impl\u001b[0m \u001b[0;32mnot\u001b[0m \u001b[0;32min\u001b[0m \u001b[0;34m(\u001b[0m\u001b[0;34m'c_svc'\u001b[0m\u001b[0;34m,\u001b[0m \u001b[0;34m'nu_svc'\u001b[0m\u001b[0;34m)\u001b[0m\u001b[0;34m:\u001b[0m\u001b[0;34m\u001b[0m\u001b[0m\n",
      "\u001b[0;31mAttributeError\u001b[0m: predict_proba is not available when  probability=False"
     ]
    }
   ],
   "source": [
    "from sklearn.svm import SVC\n",
    "from sklearn.metrics import *\n",
    "from sklearn.model_selection import train_test_split\n",
    "\n",
    "columns = ['SexuponOutcome', 'DateTime', 'DayuponOutcome', 'Color', 'Breed', 'Month']\n",
    "\n",
    "df_x = df_pre[columns]\n",
    "df_y = df_pre.iloc[:, [3]]\n",
    "\n",
    "X_train, X_test, y_train, y_test = train_test_split(df_x, df_y, test_size=0.1, random_state=0, shuffle=True)\n",
    "\n",
    "rbf_svc = SVC(kernel='rbf', random_state=0, gamma=1, C=1.0, probability=True).fit(X_train, y_train)\n",
    "model_probs = rbf_svc.predict_proba(X_test)\n",
    "\n",
    "print('train score: {}'.format(rbf_svc.score(X_train, y_train)))\n",
    "print('test score: {}'.format(rbf_svc.score(X_test, y_test)))\n",
    "print('log loss: {}'.format(log_loss(y_test, model_probs)))\n",
    "print()\n"
   ]
  },
  {
   "cell_type": "markdown",
   "metadata": {
    "collapsed": true
   },
   "source": [
    "# Keras"
   ]
  },
  {
   "cell_type": "code",
   "execution_count": 82,
   "metadata": {
    "collapsed": true
   },
   "outputs": [],
   "source": [
    "from sklearn.model_selection import train_test_split\n",
    "from sklearn.preprocessing import LabelBinarizer\n",
    "\n",
    "columns = ['SexuponOutcome', 'DateTime', 'DayuponOutcome', 'Color', 'Breed', 'Month']\n",
    "\n",
    "df_x = df_pre[columns]\n",
    "df_y = pd.DataFrame(LabelBinarizer().fit_transform(df_pre[\"OutcomeType\"]), \n",
    "                    columns=['Adoption', 'Died', 'Euthanasia', 'Return_to_owner', 'Transfer'], index=df_pre.index)\n",
    "\n",
    "X_train, X_test, y_train, y_test = train_test_split(df_x, df_y, test_size=0.1, random_state=0, shuffle=True)"
   ]
  },
  {
   "cell_type": "code",
   "execution_count": 83,
   "metadata": {
    "scrolled": true
   },
   "outputs": [
    {
     "name": "stdout",
     "output_type": "stream",
     "text": [
      "0    15960\n",
      "1    10769\n",
      "Name: Adoption, dtype: int64\n",
      "0    17307\n",
      "1     9422\n",
      "Name: Transfer, dtype: int64\n",
      "0    21943\n",
      "1     4786\n",
      "Name: Return_to_owner, dtype: int64\n",
      "0    25174\n",
      "1     1555\n",
      "Name: Euthanasia, dtype: int64\n",
      "0    26532\n",
      "1      197\n",
      "Name: Died, dtype: int64\n"
     ]
    }
   ],
   "source": [
    "print(df_y['Adoption'].value_counts())\n",
    "print(df_y['Transfer'].value_counts())\n",
    "print(df_y['Return_to_owner'].value_counts())\n",
    "print(df_y['Euthanasia'].value_counts())\n",
    "print(df_y['Died'].value_counts())"
   ]
  },
  {
   "cell_type": "code",
   "execution_count": null,
   "metadata": {
    "collapsed": true,
    "scrolled": false
   },
   "outputs": [],
   "source": [
    "X_train.describe()"
   ]
  },
  {
   "cell_type": "code",
   "execution_count": 85,
   "metadata": {},
   "outputs": [
    {
     "ename": "IndexError",
     "evalue": "index 17175 is out of bounds for axis 1 with size 6",
     "output_type": "error",
     "traceback": [
      "\u001b[0;31m---------------------------------------------------------------------------\u001b[0m",
      "\u001b[0;31mIndexError\u001b[0m                                Traceback (most recent call last)",
      "\u001b[0;32m<ipython-input-85-a8868f6dee95>\u001b[0m in \u001b[0;36m<module>\u001b[0;34m()\u001b[0m\n\u001b[0;32m----> 1\u001b[0;31m \u001b[0mX_train\u001b[0m \u001b[0;34m=\u001b[0m \u001b[0mnp_utils\u001b[0m\u001b[0;34m.\u001b[0m\u001b[0mto_categorical\u001b[0m\u001b[0;34m(\u001b[0m\u001b[0mX_train\u001b[0m\u001b[0;34m,\u001b[0m \u001b[0;36m6\u001b[0m\u001b[0;34m)\u001b[0m\u001b[0;34m\u001b[0m\u001b[0m\n\u001b[0m\u001b[1;32m      2\u001b[0m \u001b[0mX_test\u001b[0m \u001b[0;34m=\u001b[0m \u001b[0mnp_utils\u001b[0m\u001b[0;34m.\u001b[0m\u001b[0mto_categorical\u001b[0m\u001b[0;34m(\u001b[0m\u001b[0mX_test\u001b[0m\u001b[0;34m,\u001b[0m \u001b[0;36m6\u001b[0m\u001b[0;34m)\u001b[0m\u001b[0;34m\u001b[0m\u001b[0m\n\u001b[1;32m      3\u001b[0m \u001b[0my_train\u001b[0m \u001b[0;34m=\u001b[0m \u001b[0mnp_utils\u001b[0m\u001b[0;34m.\u001b[0m\u001b[0mto_categorical\u001b[0m\u001b[0;34m(\u001b[0m\u001b[0my_train\u001b[0m\u001b[0;34m,\u001b[0m \u001b[0;36m5\u001b[0m\u001b[0;34m)\u001b[0m\u001b[0;34m\u001b[0m\u001b[0m\n\u001b[1;32m      4\u001b[0m \u001b[0my_test\u001b[0m \u001b[0;34m=\u001b[0m \u001b[0mnp_utils\u001b[0m\u001b[0;34m.\u001b[0m\u001b[0mto_categorical\u001b[0m\u001b[0;34m(\u001b[0m\u001b[0my_test\u001b[0m\u001b[0;34m,\u001b[0m \u001b[0;36m5\u001b[0m\u001b[0;34m)\u001b[0m\u001b[0;34m\u001b[0m\u001b[0m\n",
      "\u001b[0;32m~/anaconda3/lib/python3.6/site-packages/keras/utils/np_utils.py\u001b[0m in \u001b[0;36mto_categorical\u001b[0;34m(y, num_classes)\u001b[0m\n\u001b[1;32m     23\u001b[0m     \u001b[0mn\u001b[0m \u001b[0;34m=\u001b[0m \u001b[0my\u001b[0m\u001b[0;34m.\u001b[0m\u001b[0mshape\u001b[0m\u001b[0;34m[\u001b[0m\u001b[0;36m0\u001b[0m\u001b[0;34m]\u001b[0m\u001b[0;34m\u001b[0m\u001b[0m\n\u001b[1;32m     24\u001b[0m     \u001b[0mcategorical\u001b[0m \u001b[0;34m=\u001b[0m \u001b[0mnp\u001b[0m\u001b[0;34m.\u001b[0m\u001b[0mzeros\u001b[0m\u001b[0;34m(\u001b[0m\u001b[0;34m(\u001b[0m\u001b[0mn\u001b[0m\u001b[0;34m,\u001b[0m \u001b[0mnum_classes\u001b[0m\u001b[0;34m)\u001b[0m\u001b[0;34m)\u001b[0m\u001b[0;34m\u001b[0m\u001b[0m\n\u001b[0;32m---> 25\u001b[0;31m     \u001b[0mcategorical\u001b[0m\u001b[0;34m[\u001b[0m\u001b[0mnp\u001b[0m\u001b[0;34m.\u001b[0m\u001b[0marange\u001b[0m\u001b[0;34m(\u001b[0m\u001b[0mn\u001b[0m\u001b[0;34m)\u001b[0m\u001b[0;34m,\u001b[0m \u001b[0my\u001b[0m\u001b[0;34m]\u001b[0m \u001b[0;34m=\u001b[0m \u001b[0;36m1\u001b[0m\u001b[0;34m\u001b[0m\u001b[0m\n\u001b[0m\u001b[1;32m     26\u001b[0m     \u001b[0;32mreturn\u001b[0m \u001b[0mcategorical\u001b[0m\u001b[0;34m\u001b[0m\u001b[0m\n\u001b[1;32m     27\u001b[0m \u001b[0;34m\u001b[0m\u001b[0m\n",
      "\u001b[0;31mIndexError\u001b[0m: index 17175 is out of bounds for axis 1 with size 6"
     ]
    }
   ],
   "source": [
    "X_train = np_utils.to_categorical(X_train, 6)\n",
    "X_test = np_utils.to_categorical(X_test, 6)\n",
    "y_train = np_utils.to_categorical(y_train, 5)\n",
    "y_test = np_utils.to_categorical(y_test, 5)"
   ]
  },
  {
   "cell_type": "code",
   "execution_count": 80,
   "metadata": {
    "scrolled": false
   },
   "outputs": [
    {
     "data": {
      "text/plain": [
       "array([[ 0.,  1.,  0.,  0.,  0.,  0.],\n",
       "       [ 1.,  0.,  0.,  0.,  0.,  0.],\n",
       "       [ 1.,  0.,  0.,  0.,  0.,  0.],\n",
       "       ..., \n",
       "       [ 1.,  0.,  0.,  0.,  0.,  0.],\n",
       "       [ 1.,  0.,  0.,  0.,  0.,  0.],\n",
       "       [ 0.,  1.,  0.,  0.,  0.,  0.]])"
      ]
     },
     "execution_count": 80,
     "metadata": {},
     "output_type": "execute_result"
    }
   ],
   "source": [
    "X_train"
   ]
  },
  {
   "cell_type": "code",
   "execution_count": 73,
   "metadata": {
    "scrolled": true
   },
   "outputs": [
    {
     "data": {
      "text/plain": [
       "(601400, 6)"
      ]
     },
     "execution_count": 73,
     "metadata": {},
     "output_type": "execute_result"
    }
   ],
   "source": [
    "X_train.shape"
   ]
  },
  {
   "cell_type": "code",
   "execution_count": 74,
   "metadata": {},
   "outputs": [
    {
     "data": {
      "text/plain": [
       "(66825, 5)"
      ]
     },
     "execution_count": 74,
     "metadata": {},
     "output_type": "execute_result"
    }
   ],
   "source": [
    "y_test.shape"
   ]
  },
  {
   "cell_type": "code",
   "execution_count": 72,
   "metadata": {},
   "outputs": [
    {
     "name": "stdout",
     "output_type": "stream",
     "text": [
      "Train on 601400 samples, validate on 66825 samples\n",
      "Epoch 1/10\n",
      "10s - loss: 0.0421 - acc: 0.9925 - val_loss: 0.0108 - val_acc: 1.0000\n",
      "Epoch 2/10\n"
     ]
    },
    {
     "ename": "KeyboardInterrupt",
     "evalue": "",
     "output_type": "error",
     "traceback": [
      "\u001b[0;31m---------------------------------------------------------------------------\u001b[0m",
      "\u001b[0;31mKeyboardInterrupt\u001b[0m                         Traceback (most recent call last)",
      "\u001b[0;32m<ipython-input-72-3ad47372963d>\u001b[0m in \u001b[0;36m<module>\u001b[0;34m()\u001b[0m\n\u001b[1;32m     14\u001b[0m hist = model.fit(X_train, y_train, \n\u001b[1;32m     15\u001b[0m                  \u001b[0mepochs\u001b[0m\u001b[0;34m=\u001b[0m\u001b[0;36m10\u001b[0m\u001b[0;34m,\u001b[0m \u001b[0mbatch_size\u001b[0m\u001b[0;34m=\u001b[0m\u001b[0;36m50\u001b[0m\u001b[0;34m,\u001b[0m\u001b[0;34m\u001b[0m\u001b[0m\n\u001b[0;32m---> 16\u001b[0;31m                  validation_data=(X_test, y_test), verbose=2)\n\u001b[0m",
      "\u001b[0;32m~/anaconda3/lib/python3.6/site-packages/keras/models.py\u001b[0m in \u001b[0;36mfit\u001b[0;34m(self, x, y, batch_size, epochs, verbose, callbacks, validation_split, validation_data, shuffle, class_weight, sample_weight, initial_epoch, **kwargs)\u001b[0m\n\u001b[1;32m    865\u001b[0m                               \u001b[0mclass_weight\u001b[0m\u001b[0;34m=\u001b[0m\u001b[0mclass_weight\u001b[0m\u001b[0;34m,\u001b[0m\u001b[0;34m\u001b[0m\u001b[0m\n\u001b[1;32m    866\u001b[0m                               \u001b[0msample_weight\u001b[0m\u001b[0;34m=\u001b[0m\u001b[0msample_weight\u001b[0m\u001b[0;34m,\u001b[0m\u001b[0;34m\u001b[0m\u001b[0m\n\u001b[0;32m--> 867\u001b[0;31m                               initial_epoch=initial_epoch)\n\u001b[0m\u001b[1;32m    868\u001b[0m \u001b[0;34m\u001b[0m\u001b[0m\n\u001b[1;32m    869\u001b[0m     def evaluate(self, x, y, batch_size=32, verbose=1,\n",
      "\u001b[0;32m~/anaconda3/lib/python3.6/site-packages/keras/engine/training.py\u001b[0m in \u001b[0;36mfit\u001b[0;34m(self, x, y, batch_size, epochs, verbose, callbacks, validation_split, validation_data, shuffle, class_weight, sample_weight, initial_epoch, steps_per_epoch, validation_steps, **kwargs)\u001b[0m\n\u001b[1;32m   1596\u001b[0m                               \u001b[0minitial_epoch\u001b[0m\u001b[0;34m=\u001b[0m\u001b[0minitial_epoch\u001b[0m\u001b[0;34m,\u001b[0m\u001b[0;34m\u001b[0m\u001b[0m\n\u001b[1;32m   1597\u001b[0m                               \u001b[0msteps_per_epoch\u001b[0m\u001b[0;34m=\u001b[0m\u001b[0msteps_per_epoch\u001b[0m\u001b[0;34m,\u001b[0m\u001b[0;34m\u001b[0m\u001b[0m\n\u001b[0;32m-> 1598\u001b[0;31m                               validation_steps=validation_steps)\n\u001b[0m\u001b[1;32m   1599\u001b[0m \u001b[0;34m\u001b[0m\u001b[0m\n\u001b[1;32m   1600\u001b[0m     def evaluate(self, x, y,\n",
      "\u001b[0;32m~/anaconda3/lib/python3.6/site-packages/keras/engine/training.py\u001b[0m in \u001b[0;36m_fit_loop\u001b[0;34m(self, f, ins, out_labels, batch_size, epochs, verbose, callbacks, val_f, val_ins, shuffle, callback_metrics, initial_epoch, steps_per_epoch, validation_steps)\u001b[0m\n\u001b[1;32m   1181\u001b[0m                     \u001b[0mbatch_logs\u001b[0m\u001b[0;34m[\u001b[0m\u001b[0;34m'size'\u001b[0m\u001b[0;34m]\u001b[0m \u001b[0;34m=\u001b[0m \u001b[0mlen\u001b[0m\u001b[0;34m(\u001b[0m\u001b[0mbatch_ids\u001b[0m\u001b[0;34m)\u001b[0m\u001b[0;34m\u001b[0m\u001b[0m\n\u001b[1;32m   1182\u001b[0m                     \u001b[0mcallbacks\u001b[0m\u001b[0;34m.\u001b[0m\u001b[0mon_batch_begin\u001b[0m\u001b[0;34m(\u001b[0m\u001b[0mbatch_index\u001b[0m\u001b[0;34m,\u001b[0m \u001b[0mbatch_logs\u001b[0m\u001b[0;34m)\u001b[0m\u001b[0;34m\u001b[0m\u001b[0m\n\u001b[0;32m-> 1183\u001b[0;31m                     \u001b[0mouts\u001b[0m \u001b[0;34m=\u001b[0m \u001b[0mf\u001b[0m\u001b[0;34m(\u001b[0m\u001b[0mins_batch\u001b[0m\u001b[0;34m)\u001b[0m\u001b[0;34m\u001b[0m\u001b[0m\n\u001b[0m\u001b[1;32m   1184\u001b[0m                     \u001b[0;32mif\u001b[0m \u001b[0;32mnot\u001b[0m \u001b[0misinstance\u001b[0m\u001b[0;34m(\u001b[0m\u001b[0mouts\u001b[0m\u001b[0;34m,\u001b[0m \u001b[0mlist\u001b[0m\u001b[0;34m)\u001b[0m\u001b[0;34m:\u001b[0m\u001b[0;34m\u001b[0m\u001b[0m\n\u001b[1;32m   1185\u001b[0m                         \u001b[0mouts\u001b[0m \u001b[0;34m=\u001b[0m \u001b[0;34m[\u001b[0m\u001b[0mouts\u001b[0m\u001b[0;34m]\u001b[0m\u001b[0;34m\u001b[0m\u001b[0m\n",
      "\u001b[0;32m~/anaconda3/lib/python3.6/site-packages/keras/backend/tensorflow_backend.py\u001b[0m in \u001b[0;36m__call__\u001b[0;34m(self, inputs)\u001b[0m\n\u001b[1;32m   2262\u001b[0m         \u001b[0mfeed_dict\u001b[0m \u001b[0;34m=\u001b[0m \u001b[0;34m{\u001b[0m\u001b[0;34m}\u001b[0m\u001b[0;34m\u001b[0m\u001b[0m\n\u001b[1;32m   2263\u001b[0m         \u001b[0;32mfor\u001b[0m \u001b[0mtensor\u001b[0m\u001b[0;34m,\u001b[0m \u001b[0mvalue\u001b[0m \u001b[0;32min\u001b[0m \u001b[0mzip\u001b[0m\u001b[0;34m(\u001b[0m\u001b[0mself\u001b[0m\u001b[0;34m.\u001b[0m\u001b[0minputs\u001b[0m\u001b[0;34m,\u001b[0m \u001b[0minputs\u001b[0m\u001b[0;34m)\u001b[0m\u001b[0;34m:\u001b[0m\u001b[0;34m\u001b[0m\u001b[0m\n\u001b[0;32m-> 2264\u001b[0;31m             \u001b[0;32mif\u001b[0m \u001b[0mis_sparse\u001b[0m\u001b[0;34m(\u001b[0m\u001b[0mtensor\u001b[0m\u001b[0;34m)\u001b[0m\u001b[0;34m:\u001b[0m\u001b[0;34m\u001b[0m\u001b[0m\n\u001b[0m\u001b[1;32m   2265\u001b[0m                 \u001b[0msparse_coo\u001b[0m \u001b[0;34m=\u001b[0m \u001b[0mvalue\u001b[0m\u001b[0;34m.\u001b[0m\u001b[0mtocoo\u001b[0m\u001b[0;34m(\u001b[0m\u001b[0;34m)\u001b[0m\u001b[0;34m\u001b[0m\u001b[0m\n\u001b[1;32m   2266\u001b[0m                 indices = np.concatenate((np.expand_dims(sparse_coo.row, 1),\n",
      "\u001b[0;32m~/anaconda3/lib/python3.6/site-packages/keras/backend/tensorflow_backend.py\u001b[0m in \u001b[0;36mis_sparse\u001b[0;34m(tensor)\u001b[0m\n\u001b[1;32m    243\u001b[0m     \u001b[0;31m`\u001b[0m\u001b[0;31m`\u001b[0m\u001b[0;31m`\u001b[0m\u001b[0;34m\u001b[0m\u001b[0m\n\u001b[1;32m    244\u001b[0m     \"\"\"\n\u001b[0;32m--> 245\u001b[0;31m     \u001b[0;32mreturn\u001b[0m \u001b[0misinstance\u001b[0m\u001b[0;34m(\u001b[0m\u001b[0mtensor\u001b[0m\u001b[0;34m,\u001b[0m \u001b[0mtf\u001b[0m\u001b[0;34m.\u001b[0m\u001b[0mSparseTensor\u001b[0m\u001b[0;34m)\u001b[0m\u001b[0;34m\u001b[0m\u001b[0m\n\u001b[0m\u001b[1;32m    246\u001b[0m \u001b[0;34m\u001b[0m\u001b[0m\n\u001b[1;32m    247\u001b[0m \u001b[0;34m\u001b[0m\u001b[0m\n",
      "\u001b[0;31mKeyboardInterrupt\u001b[0m: "
     ]
    }
   ],
   "source": [
    "from keras.models import Sequential\n",
    "from keras.layers.core import Dense\n",
    "from keras.optimizers import SGD\n",
    "from keras import regularizers\n",
    "from keras.layers import Dropout\n",
    "\n",
    "np.random.seed(0)\n",
    "\n",
    "model = Sequential()\n",
    "model.add(Dense(2, input_dim=6, activation=\"sigmoid\", kernel_initializer=\"glorot_uniform\", kernel_regularizer=regularizers.l2(0.001)))\n",
    "model.add(Dense(5, activation=\"sigmoid\", kernel_initializer=\"glorot_uniform\"))\n",
    "model.compile(optimizer=SGD(lr=0.2), loss='categorical_crossentropy', metrics=[\"accuracy\"])\n",
    "\n",
    "hist = model.fit(X_train, y_train, \n",
    "                 epochs=10, batch_size=50, \n",
    "                 validation_data=(X_test, y_test), verbose=2)"
   ]
  },
  {
   "cell_type": "code",
   "execution_count": 70,
   "metadata": {},
   "outputs": [
    {
     "name": "stdout",
     "output_type": "stream",
     "text": [
      "10816/13365 [=======================>......] - ETA: 0s"
     ]
    },
    {
     "ename": "AttributeError",
     "evalue": "'Sequential' object has no attribute 'score'",
     "output_type": "error",
     "traceback": [
      "\u001b[0;31m---------------------------------------------------------------------------\u001b[0m",
      "\u001b[0;31mAttributeError\u001b[0m                            Traceback (most recent call last)",
      "\u001b[0;32m<ipython-input-70-279bc9be198b>\u001b[0m in \u001b[0;36m<module>\u001b[0;34m()\u001b[0m\n\u001b[1;32m      1\u001b[0m \u001b[0mmodel_probs\u001b[0m \u001b[0;34m=\u001b[0m \u001b[0mmodel\u001b[0m\u001b[0;34m.\u001b[0m\u001b[0mpredict_proba\u001b[0m\u001b[0;34m(\u001b[0m\u001b[0mX_test\u001b[0m\u001b[0;34m)\u001b[0m\u001b[0;34m\u001b[0m\u001b[0m\n\u001b[1;32m      2\u001b[0m \u001b[0;34m\u001b[0m\u001b[0m\n\u001b[0;32m----> 3\u001b[0;31m \u001b[0mprint\u001b[0m\u001b[0;34m(\u001b[0m\u001b[0;34m'train score: {}'\u001b[0m\u001b[0;34m.\u001b[0m\u001b[0mformat\u001b[0m\u001b[0;34m(\u001b[0m\u001b[0mmodel\u001b[0m\u001b[0;34m.\u001b[0m\u001b[0mscore\u001b[0m\u001b[0;34m(\u001b[0m\u001b[0mX_train\u001b[0m\u001b[0;34m,\u001b[0m \u001b[0my_train\u001b[0m\u001b[0;34m)\u001b[0m\u001b[0;34m)\u001b[0m\u001b[0;34m)\u001b[0m\u001b[0;34m\u001b[0m\u001b[0m\n\u001b[0m\u001b[1;32m      4\u001b[0m \u001b[0mprint\u001b[0m\u001b[0;34m(\u001b[0m\u001b[0;34m'test score: {}'\u001b[0m\u001b[0;34m.\u001b[0m\u001b[0mformat\u001b[0m\u001b[0;34m(\u001b[0m\u001b[0mmodel\u001b[0m\u001b[0;34m.\u001b[0m\u001b[0mscore\u001b[0m\u001b[0;34m(\u001b[0m\u001b[0mX_test\u001b[0m\u001b[0;34m,\u001b[0m \u001b[0my_test\u001b[0m\u001b[0;34m)\u001b[0m\u001b[0;34m)\u001b[0m\u001b[0;34m)\u001b[0m\u001b[0;34m\u001b[0m\u001b[0m\n\u001b[1;32m      5\u001b[0m \u001b[0mprint\u001b[0m\u001b[0;34m(\u001b[0m\u001b[0;34m'log loss: {}'\u001b[0m\u001b[0;34m.\u001b[0m\u001b[0mformat\u001b[0m\u001b[0;34m(\u001b[0m\u001b[0mlog_loss\u001b[0m\u001b[0;34m(\u001b[0m\u001b[0my_test\u001b[0m\u001b[0;34m,\u001b[0m \u001b[0mmodel_probs\u001b[0m\u001b[0;34m)\u001b[0m\u001b[0;34m)\u001b[0m\u001b[0;34m)\u001b[0m\u001b[0;34m\u001b[0m\u001b[0m\n",
      "\u001b[0;31mAttributeError\u001b[0m: 'Sequential' object has no attribute 'score'"
     ]
    }
   ],
   "source": [
    "model_probs = model.predict_proba(X_test)\n",
    "\n",
    "print('train score: {}'.format(model.score(X_train, y_train)))\n",
    "print('test score: {}'.format(model.score(X_test, y_test)))\n",
    "print('log loss: {}'.format(log_loss(y_test, model_probs)))\n",
    "print()"
   ]
  },
  {
   "cell_type": "code",
   "execution_count": 69,
   "metadata": {
    "scrolled": true
   },
   "outputs": [
    {
     "data": {
      "image/png": "[encoded data removed]",
      "text/plain": [
       "<matplotlib.figure.Figure at 0x7fdcdede0278>"
      ]
     },
     "metadata": {},
     "output_type": "display_data"
    }
   ],
   "source": [
    "plt.plot(hist.history['acc'], 'b-', label=\"training\")\n",
    "plt.plot(hist.history['val_acc'], 'r:', label=\"test\")\n",
    "plt.legend()\n",
    "plt.show()"
   ]
  },
  {
   "cell_type": "code",
   "execution_count": null,
   "metadata": {
    "collapsed": true
   },
   "outputs": [],
   "source": []
  }
 ],
 "metadata": {
  "kernelspec": {
   "display_name": "Python 3",
   "language": "python",
   "name": "python3"
  },
  "language_info": {
   "codemirror_mode": {
    "name": "ipython",
    "version": 3
   },
   "file_extension": ".py",
   "mimetype": "text/x-python",
   "name": "python",
   "nbconvert_exporter": "python",
   "pygments_lexer": "ipython3",
   "version": "3.6.2"
  }
 },
 "nbformat": 4,
 "nbformat_minor": 2
}
