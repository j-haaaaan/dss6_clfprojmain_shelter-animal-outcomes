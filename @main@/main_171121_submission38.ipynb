{
 "cells": [
  {
   "cell_type": "code",
   "execution_count": 2,
   "metadata": {
    "collapsed": true
   },
   "outputs": [],
   "source": [
    "import pandas as pd\n",
    "import numpy as np\n",
    "import matplotlib.pyplot as plt\n",
    "import seaborn as sns\n",
    "from pandas import DataFrame, Series\n",
    "from sklearn.preprocessing import LabelEncoder\n",
    "from sklearn import preprocessing\n",
    "\n",
    "pd.set_option('display.max_rows', 30000)\n",
    "pd.set_option('display.max_columns', 500)\n",
    "pd.set_option('display.width', 1000)"
   ]
  },
  {
   "cell_type": "code",
   "execution_count": 3,
   "metadata": {},
   "outputs": [
    {
     "name": "stdout",
     "output_type": "stream",
     "text": [
      "(11456, 9)\n"
     ]
    },
    {
     "data": {
      "text/html": [
       "<div>\n",
       "<style>\n",
       "    .dataframe thead tr:only-child th {\n",
       "        text-align: right;\n",
       "    }\n",
       "\n",
       "    .dataframe thead th {\n",
       "        text-align: left;\n",
       "    }\n",
       "\n",
       "    .dataframe tbody tr th {\n",
       "        vertical-align: top;\n",
       "    }\n",
       "</style>\n",
       "<table border=\"1\" class=\"dataframe\">\n",
       "  <thead>\n",
       "    <tr style=\"text-align: right;\">\n",
       "      <th></th>\n",
       "      <th>Unnamed: 0</th>\n",
       "      <th>ID</th>\n",
       "      <th>Name</th>\n",
       "      <th>DateTime</th>\n",
       "      <th>AnimalType</th>\n",
       "      <th>SexuponOutcome</th>\n",
       "      <th>AgeuponOutcome</th>\n",
       "      <th>Breed</th>\n",
       "      <th>Color</th>\n",
       "    </tr>\n",
       "  </thead>\n",
       "  <tbody>\n",
       "    <tr>\n",
       "      <th>11451</th>\n",
       "      <td>11451</td>\n",
       "      <td>11452</td>\n",
       "      <td>NaN</td>\n",
       "      <td>2014-07-08 14:50:00</td>\n",
       "      <td>Cat</td>\n",
       "      <td>Neutered Male</td>\n",
       "      <td>2 months</td>\n",
       "      <td>Domestic Shorthair Mix</td>\n",
       "      <td>Black</td>\n",
       "    </tr>\n",
       "    <tr>\n",
       "      <th>11452</th>\n",
       "      <td>11452</td>\n",
       "      <td>11453</td>\n",
       "      <td>NaN</td>\n",
       "      <td>2014-10-21 12:57:00</td>\n",
       "      <td>Cat</td>\n",
       "      <td>Intact Female</td>\n",
       "      <td>2 weeks</td>\n",
       "      <td>Domestic Shorthair Mix</td>\n",
       "      <td>Blue</td>\n",
       "    </tr>\n",
       "    <tr>\n",
       "      <th>11453</th>\n",
       "      <td>11453</td>\n",
       "      <td>11454</td>\n",
       "      <td>NaN</td>\n",
       "      <td>2014-09-29 09:00:00</td>\n",
       "      <td>Cat</td>\n",
       "      <td>Intact Female</td>\n",
       "      <td>1 year</td>\n",
       "      <td>Domestic Shorthair Mix</td>\n",
       "      <td>Calico</td>\n",
       "    </tr>\n",
       "    <tr>\n",
       "      <th>11454</th>\n",
       "      <td>11454</td>\n",
       "      <td>11455</td>\n",
       "      <td>Rambo</td>\n",
       "      <td>2015-09-05 17:16:00</td>\n",
       "      <td>Dog</td>\n",
       "      <td>Neutered Male</td>\n",
       "      <td>6 years</td>\n",
       "      <td>German Shepherd Mix</td>\n",
       "      <td>Black/Tan</td>\n",
       "    </tr>\n",
       "    <tr>\n",
       "      <th>11455</th>\n",
       "      <td>11455</td>\n",
       "      <td>11456</td>\n",
       "      <td>Gusto</td>\n",
       "      <td>2014-07-12 18:40:00</td>\n",
       "      <td>Dog</td>\n",
       "      <td>Intact Male</td>\n",
       "      <td>4 years</td>\n",
       "      <td>Labrador Retriever</td>\n",
       "      <td>Cream</td>\n",
       "    </tr>\n",
       "  </tbody>\n",
       "</table>\n",
       "</div>"
      ],
      "text/plain": [
       "       Unnamed: 0     ID   Name             DateTime AnimalType SexuponOutcome AgeuponOutcome                   Breed      Color\n",
       "11451       11451  11452    NaN  2014-07-08 14:50:00        Cat  Neutered Male       2 months  Domestic Shorthair Mix      Black\n",
       "11452       11452  11453    NaN  2014-10-21 12:57:00        Cat  Intact Female        2 weeks  Domestic Shorthair Mix       Blue\n",
       "11453       11453  11454    NaN  2014-09-29 09:00:00        Cat  Intact Female         1 year  Domestic Shorthair Mix     Calico\n",
       "11454       11454  11455  Rambo  2015-09-05 17:16:00        Dog  Neutered Male        6 years     German Shepherd Mix  Black/Tan\n",
       "11455       11455  11456  Gusto  2014-07-12 18:40:00        Dog    Intact Male        4 years      Labrador Retriever      Cream"
      ]
     },
     "execution_count": 3,
     "metadata": {},
     "output_type": "execute_result"
    }
   ],
   "source": [
    "df_test = pd.read_csv('data/df_test.csv')\n",
    "print(np.shape(df_test))\n",
    "df_test.tail()"
   ]
  },
  {
   "cell_type": "code",
   "execution_count": 4,
   "metadata": {},
   "outputs": [
    {
     "data": {
      "text/html": [
       "<div>\n",
       "<style>\n",
       "    .dataframe thead tr:only-child th {\n",
       "        text-align: right;\n",
       "    }\n",
       "\n",
       "    .dataframe thead th {\n",
       "        text-align: left;\n",
       "    }\n",
       "\n",
       "    .dataframe tbody tr th {\n",
       "        vertical-align: top;\n",
       "    }\n",
       "</style>\n",
       "<table border=\"1\" class=\"dataframe\">\n",
       "  <thead>\n",
       "    <tr style=\"text-align: right;\">\n",
       "      <th></th>\n",
       "      <th>ID</th>\n",
       "      <th>Name</th>\n",
       "      <th>DateTime</th>\n",
       "      <th>AnimalType</th>\n",
       "      <th>SexuponOutcome</th>\n",
       "      <th>AgeuponOutcome</th>\n",
       "      <th>Breed</th>\n",
       "      <th>Color</th>\n",
       "    </tr>\n",
       "  </thead>\n",
       "  <tbody>\n",
       "    <tr>\n",
       "      <th>11451</th>\n",
       "      <td>11452</td>\n",
       "      <td>NaN</td>\n",
       "      <td>2014-07-08 14:50:00</td>\n",
       "      <td>Cat</td>\n",
       "      <td>Neutered Male</td>\n",
       "      <td>2 months</td>\n",
       "      <td>Domestic Shorthair Mix</td>\n",
       "      <td>Black</td>\n",
       "    </tr>\n",
       "    <tr>\n",
       "      <th>11452</th>\n",
       "      <td>11453</td>\n",
       "      <td>NaN</td>\n",
       "      <td>2014-10-21 12:57:00</td>\n",
       "      <td>Cat</td>\n",
       "      <td>Intact Female</td>\n",
       "      <td>2 weeks</td>\n",
       "      <td>Domestic Shorthair Mix</td>\n",
       "      <td>Blue</td>\n",
       "    </tr>\n",
       "    <tr>\n",
       "      <th>11453</th>\n",
       "      <td>11454</td>\n",
       "      <td>NaN</td>\n",
       "      <td>2014-09-29 09:00:00</td>\n",
       "      <td>Cat</td>\n",
       "      <td>Intact Female</td>\n",
       "      <td>1 year</td>\n",
       "      <td>Domestic Shorthair Mix</td>\n",
       "      <td>Calico</td>\n",
       "    </tr>\n",
       "    <tr>\n",
       "      <th>11454</th>\n",
       "      <td>11455</td>\n",
       "      <td>Rambo</td>\n",
       "      <td>2015-09-05 17:16:00</td>\n",
       "      <td>Dog</td>\n",
       "      <td>Neutered Male</td>\n",
       "      <td>6 years</td>\n",
       "      <td>German Shepherd Mix</td>\n",
       "      <td>Black/Tan</td>\n",
       "    </tr>\n",
       "    <tr>\n",
       "      <th>11455</th>\n",
       "      <td>11456</td>\n",
       "      <td>Gusto</td>\n",
       "      <td>2014-07-12 18:40:00</td>\n",
       "      <td>Dog</td>\n",
       "      <td>Intact Male</td>\n",
       "      <td>4 years</td>\n",
       "      <td>Labrador Retriever</td>\n",
       "      <td>Cream</td>\n",
       "    </tr>\n",
       "  </tbody>\n",
       "</table>\n",
       "</div>"
      ],
      "text/plain": [
       "          ID   Name             DateTime AnimalType SexuponOutcome AgeuponOutcome                   Breed      Color\n",
       "11451  11452    NaN  2014-07-08 14:50:00        Cat  Neutered Male       2 months  Domestic Shorthair Mix      Black\n",
       "11452  11453    NaN  2014-10-21 12:57:00        Cat  Intact Female        2 weeks  Domestic Shorthair Mix       Blue\n",
       "11453  11454    NaN  2014-09-29 09:00:00        Cat  Intact Female         1 year  Domestic Shorthair Mix     Calico\n",
       "11454  11455  Rambo  2015-09-05 17:16:00        Dog  Neutered Male        6 years     German Shepherd Mix  Black/Tan\n",
       "11455  11456  Gusto  2014-07-12 18:40:00        Dog    Intact Male        4 years      Labrador Retriever      Cream"
      ]
     },
     "execution_count": 4,
     "metadata": {},
     "output_type": "execute_result"
    }
   ],
   "source": [
    "del df_test['Unnamed: 0']\n",
    "df_test.tail()"
   ]
  },
  {
   "cell_type": "markdown",
   "metadata": {},
   "source": [
    "## Name (Binarize)"
   ]
  },
  {
   "cell_type": "code",
   "execution_count": 5,
   "metadata": {
    "collapsed": true
   },
   "outputs": [],
   "source": [
    "def Naming(x):\n",
    "    if type(x) == float:\n",
    "        return 0\n",
    "    else:\n",
    "        return 1"
   ]
  },
  {
   "cell_type": "code",
   "execution_count": 6,
   "metadata": {
    "collapsed": true
   },
   "outputs": [],
   "source": [
    "df_test['Name'] = df_test['Name'].transform(Naming)"
   ]
  },
  {
   "cell_type": "code",
   "execution_count": 7,
   "metadata": {
    "scrolled": true
   },
   "outputs": [
    {
     "data": {
      "text/html": [
       "<div>\n",
       "<style>\n",
       "    .dataframe thead tr:only-child th {\n",
       "        text-align: right;\n",
       "    }\n",
       "\n",
       "    .dataframe thead th {\n",
       "        text-align: left;\n",
       "    }\n",
       "\n",
       "    .dataframe tbody tr th {\n",
       "        vertical-align: top;\n",
       "    }\n",
       "</style>\n",
       "<table border=\"1\" class=\"dataframe\">\n",
       "  <thead>\n",
       "    <tr style=\"text-align: right;\">\n",
       "      <th></th>\n",
       "      <th>ID</th>\n",
       "      <th>Name</th>\n",
       "      <th>DateTime</th>\n",
       "      <th>AnimalType</th>\n",
       "      <th>SexuponOutcome</th>\n",
       "      <th>AgeuponOutcome</th>\n",
       "      <th>Breed</th>\n",
       "      <th>Color</th>\n",
       "    </tr>\n",
       "  </thead>\n",
       "  <tbody>\n",
       "    <tr>\n",
       "      <th>11451</th>\n",
       "      <td>11452</td>\n",
       "      <td>0</td>\n",
       "      <td>2014-07-08 14:50:00</td>\n",
       "      <td>Cat</td>\n",
       "      <td>Neutered Male</td>\n",
       "      <td>2 months</td>\n",
       "      <td>Domestic Shorthair Mix</td>\n",
       "      <td>Black</td>\n",
       "    </tr>\n",
       "    <tr>\n",
       "      <th>11452</th>\n",
       "      <td>11453</td>\n",
       "      <td>0</td>\n",
       "      <td>2014-10-21 12:57:00</td>\n",
       "      <td>Cat</td>\n",
       "      <td>Intact Female</td>\n",
       "      <td>2 weeks</td>\n",
       "      <td>Domestic Shorthair Mix</td>\n",
       "      <td>Blue</td>\n",
       "    </tr>\n",
       "    <tr>\n",
       "      <th>11453</th>\n",
       "      <td>11454</td>\n",
       "      <td>0</td>\n",
       "      <td>2014-09-29 09:00:00</td>\n",
       "      <td>Cat</td>\n",
       "      <td>Intact Female</td>\n",
       "      <td>1 year</td>\n",
       "      <td>Domestic Shorthair Mix</td>\n",
       "      <td>Calico</td>\n",
       "    </tr>\n",
       "    <tr>\n",
       "      <th>11454</th>\n",
       "      <td>11455</td>\n",
       "      <td>1</td>\n",
       "      <td>2015-09-05 17:16:00</td>\n",
       "      <td>Dog</td>\n",
       "      <td>Neutered Male</td>\n",
       "      <td>6 years</td>\n",
       "      <td>German Shepherd Mix</td>\n",
       "      <td>Black/Tan</td>\n",
       "    </tr>\n",
       "    <tr>\n",
       "      <th>11455</th>\n",
       "      <td>11456</td>\n",
       "      <td>1</td>\n",
       "      <td>2014-07-12 18:40:00</td>\n",
       "      <td>Dog</td>\n",
       "      <td>Intact Male</td>\n",
       "      <td>4 years</td>\n",
       "      <td>Labrador Retriever</td>\n",
       "      <td>Cream</td>\n",
       "    </tr>\n",
       "  </tbody>\n",
       "</table>\n",
       "</div>"
      ],
      "text/plain": [
       "          ID  Name             DateTime AnimalType SexuponOutcome AgeuponOutcome                   Breed      Color\n",
       "11451  11452     0  2014-07-08 14:50:00        Cat  Neutered Male       2 months  Domestic Shorthair Mix      Black\n",
       "11452  11453     0  2014-10-21 12:57:00        Cat  Intact Female        2 weeks  Domestic Shorthair Mix       Blue\n",
       "11453  11454     0  2014-09-29 09:00:00        Cat  Intact Female         1 year  Domestic Shorthair Mix     Calico\n",
       "11454  11455     1  2015-09-05 17:16:00        Dog  Neutered Male        6 years     German Shepherd Mix  Black/Tan\n",
       "11455  11456     1  2014-07-12 18:40:00        Dog    Intact Male        4 years      Labrador Retriever      Cream"
      ]
     },
     "execution_count": 7,
     "metadata": {},
     "output_type": "execute_result"
    }
   ],
   "source": [
    "df_test.tail()"
   ]
  },
  {
   "cell_type": "markdown",
   "metadata": {},
   "source": [
    "## Color (전처리)\n",
    "- Color는 약 366종류로 다양하게 분포되어 있으며, 비슷하거나 mix된 경우도 많다. <br> 따라서 메인 색상(대표하는 색, 믹스된 경우 먼저 나온 색상을 사용)만을 남겨놓고 통합했다.<br><font color=\"blue\">예시) 'Brown Tabby/White' --> 'Brown'</font><br>\n",
    "- 그 결과 <font color=\"red\">366종의 컬러를 25종으로</font> 줄일 수 있었다."
   ]
  },
  {
   "cell_type": "code",
   "execution_count": 8,
   "metadata": {
    "collapsed": true
   },
   "outputs": [],
   "source": [
    "# 'A/B' = 'A'로 표기\n",
    "def color_del(x):\n",
    "    if '/' in x:\n",
    "        x = x[0:x.index('/')]\n",
    "        return x\n",
    "    else:\n",
    "        return x"
   ]
  },
  {
   "cell_type": "code",
   "execution_count": 9,
   "metadata": {
    "collapsed": true
   },
   "outputs": [],
   "source": [
    "df_test['Color_pre'] = df_test['Color'].copy()"
   ]
  },
  {
   "cell_type": "code",
   "execution_count": 10,
   "metadata": {
    "collapsed": true
   },
   "outputs": [],
   "source": [
    "df_test['Color_pre'] = df_test['Color_pre'].apply(color_del)"
   ]
  },
  {
   "cell_type": "code",
   "execution_count": 11,
   "metadata": {},
   "outputs": [
    {
     "data": {
      "text/html": [
       "<div>\n",
       "<style>\n",
       "    .dataframe thead tr:only-child th {\n",
       "        text-align: right;\n",
       "    }\n",
       "\n",
       "    .dataframe thead th {\n",
       "        text-align: left;\n",
       "    }\n",
       "\n",
       "    .dataframe tbody tr th {\n",
       "        vertical-align: top;\n",
       "    }\n",
       "</style>\n",
       "<table border=\"1\" class=\"dataframe\">\n",
       "  <thead>\n",
       "    <tr style=\"text-align: right;\">\n",
       "      <th></th>\n",
       "      <th>ID</th>\n",
       "      <th>Name</th>\n",
       "      <th>DateTime</th>\n",
       "      <th>AnimalType</th>\n",
       "      <th>SexuponOutcome</th>\n",
       "      <th>AgeuponOutcome</th>\n",
       "      <th>Breed</th>\n",
       "      <th>Color</th>\n",
       "      <th>Color_pre</th>\n",
       "    </tr>\n",
       "  </thead>\n",
       "  <tbody>\n",
       "    <tr>\n",
       "      <th>11453</th>\n",
       "      <td>11454</td>\n",
       "      <td>0</td>\n",
       "      <td>2014-09-29 09:00:00</td>\n",
       "      <td>Cat</td>\n",
       "      <td>Intact Female</td>\n",
       "      <td>1 year</td>\n",
       "      <td>Domestic Shorthair Mix</td>\n",
       "      <td>Calico</td>\n",
       "      <td>Calico</td>\n",
       "    </tr>\n",
       "    <tr>\n",
       "      <th>11454</th>\n",
       "      <td>11455</td>\n",
       "      <td>1</td>\n",
       "      <td>2015-09-05 17:16:00</td>\n",
       "      <td>Dog</td>\n",
       "      <td>Neutered Male</td>\n",
       "      <td>6 years</td>\n",
       "      <td>German Shepherd Mix</td>\n",
       "      <td>Black/Tan</td>\n",
       "      <td>Black</td>\n",
       "    </tr>\n",
       "    <tr>\n",
       "      <th>11455</th>\n",
       "      <td>11456</td>\n",
       "      <td>1</td>\n",
       "      <td>2014-07-12 18:40:00</td>\n",
       "      <td>Dog</td>\n",
       "      <td>Intact Male</td>\n",
       "      <td>4 years</td>\n",
       "      <td>Labrador Retriever</td>\n",
       "      <td>Cream</td>\n",
       "      <td>Cream</td>\n",
       "    </tr>\n",
       "  </tbody>\n",
       "</table>\n",
       "</div>"
      ],
      "text/plain": [
       "          ID  Name             DateTime AnimalType SexuponOutcome AgeuponOutcome                   Breed      Color Color_pre\n",
       "11453  11454     0  2014-09-29 09:00:00        Cat  Intact Female         1 year  Domestic Shorthair Mix     Calico    Calico\n",
       "11454  11455     1  2015-09-05 17:16:00        Dog  Neutered Male        6 years     German Shepherd Mix  Black/Tan     Black\n",
       "11455  11456     1  2014-07-12 18:40:00        Dog    Intact Male        4 years      Labrador Retriever      Cream     Cream"
      ]
     },
     "execution_count": 11,
     "metadata": {},
     "output_type": "execute_result"
    }
   ],
   "source": [
    "df_test.tail(3)"
   ]
  },
  {
   "cell_type": "code",
   "execution_count": 12,
   "metadata": {
    "collapsed": true
   },
   "outputs": [],
   "source": [
    "# 대표 컬러로 통합\n",
    "def color_union(x):\n",
    "    if 'Black' in x:\n",
    "        x = 'Black'\n",
    "        return x\n",
    "    elif 'Blue' in x:\n",
    "        x = 'Blue'\n",
    "        return x\n",
    "    elif 'Red' in x:\n",
    "        x = 'Red'\n",
    "        return x\n",
    "    elif 'Silver' in x:\n",
    "        x = 'Silver'\n",
    "        return x\n",
    "    elif 'Brown' in x:\n",
    "        x = 'Brown'\n",
    "        return x\n",
    "    elif 'Orange' in x:\n",
    "        x = 'Orange'\n",
    "        return x\n",
    "    elif 'Cream' in x:\n",
    "        x = 'Cream'\n",
    "        return x\n",
    "    elif 'Gray' in x:\n",
    "        x = 'Gray'\n",
    "        return x\n",
    "    elif 'Calico' in x:\n",
    "        x = 'Calico'\n",
    "        return x\n",
    "    elif 'Chocolate' in x:\n",
    "        x = 'Chocolate'\n",
    "        return x\n",
    "    elif 'Tortie' in x:\n",
    "        x = 'Tortie'\n",
    "        return x\n",
    "    elif 'Yellow' in x:\n",
    "        x = 'Yellow'\n",
    "        return x\n",
    "    elif 'Liver' in x:\n",
    "        x = 'Liver'\n",
    "        return x\n",
    "    else:\n",
    "        return x"
   ]
  },
  {
   "cell_type": "code",
   "execution_count": 13,
   "metadata": {
    "collapsed": true
   },
   "outputs": [],
   "source": [
    "df_test['Color_pre'] = df_test['Color_pre'].apply(color_union)"
   ]
  },
  {
   "cell_type": "code",
   "execution_count": 14,
   "metadata": {
    "collapsed": true
   },
   "outputs": [],
   "source": [
    "# 40마리 이하인 색깔은 'etc'로 통합\n",
    "df_test['Color_pre'] = df_test['Color_pre'].replace('Agouti', 'etc')\n",
    "df_test['Color_pre'] = df_test['Color_pre'].replace('Apricot', 'etc')\n",
    "df_test['Color_pre'] = df_test['Color_pre'].replace('Lilac Point', 'etc')\n",
    "df_test['Color_pre'] = df_test['Color_pre'].replace('Pink', 'etc')\n",
    "df_test['Color_pre'] = df_test['Color_pre'].replace('Ruddy', 'etc')"
   ]
  },
  {
   "cell_type": "markdown",
   "metadata": {},
   "source": [
    "## AgeuponOutcome (단위 통일)\n",
    "- 중구난방인 단위의 나이 데이터들을 모두 한 단위, day로 통일시켜 주었다."
   ]
  },
  {
   "cell_type": "code",
   "execution_count": 15,
   "metadata": {
    "collapsed": true
   },
   "outputs": [],
   "source": [
    "def DayuponOutcome(age_str):\n",
    "    num, unit = age_str.split(' ')\n",
    "    if unit == 'day' or unit == 'days':\n",
    "        return( int(num) )\n",
    "    elif unit == 'week' or unit == 'weeks':\n",
    "        return(int(num) * 7 )\n",
    "    elif unit == 'month' or unit == 'months':\n",
    "        return(int(num) * 30 )\n",
    "    elif unit == 'year' or unit == 'years':\n",
    "        return(int(num) * 365 )"
   ]
  },
  {
   "cell_type": "code",
   "execution_count": 16,
   "metadata": {
    "collapsed": true
   },
   "outputs": [],
   "source": [
    "df_test['DayuponOutcome'] = df_test['AgeuponOutcome'].copy()\n",
    "df_test['DayuponOutcome'] = df_test['DayuponOutcome'].fillna('0 day')\n",
    "df_test['DayuponOutcome'] = df_test['DayuponOutcome'].apply(DayuponOutcome)"
   ]
  },
  {
   "cell_type": "code",
   "execution_count": 17,
   "metadata": {
    "collapsed": true
   },
   "outputs": [],
   "source": [
    "df_test['AgeuponOutcome'].fillna('Unknown', inplace=True)"
   ]
  },
  {
   "cell_type": "code",
   "execution_count": 18,
   "metadata": {},
   "outputs": [
    {
     "data": {
      "text/plain": [
       "count    11456.000000\n",
       "mean       775.254714\n",
       "std       1073.313339\n",
       "min          0.000000\n",
       "25%         60.000000\n",
       "50%        365.000000\n",
       "75%       1095.000000\n",
       "max       8030.000000\n",
       "Name: DayuponOutcome, dtype: float64"
      ]
     },
     "execution_count": 18,
     "metadata": {},
     "output_type": "execute_result"
    }
   ],
   "source": [
    "df_test['DayuponOutcome'].describe()"
   ]
  },
  {
   "cell_type": "code",
   "execution_count": 19,
   "metadata": {
    "collapsed": true
   },
   "outputs": [],
   "source": [
    "def Age(x):\n",
    "    if 0 < x < 730:\n",
    "        return 2\n",
    "    elif 731 < x < 1460:\n",
    "        return 4\n",
    "    elif 1461 < x < 2190:\n",
    "        return 6\n",
    "    elif 2191 < x < 2920:\n",
    "        return 8\n",
    "    elif 2921 < x < 3650:\n",
    "        return 10\n",
    "    elif 3651 < x < 4380:\n",
    "        return 12\n",
    "    elif 4381 < x < 5110:\n",
    "        return 14\n",
    "    elif 5111 < x < 5840:\n",
    "        return 16\n",
    "    elif 5841 < x < 6570:\n",
    "        return 18\n",
    "    else:\n",
    "        return 20    "
   ]
  },
  {
   "cell_type": "code",
   "execution_count": 20,
   "metadata": {
    "collapsed": true
   },
   "outputs": [],
   "source": [
    "df_test['AboutAge'] = df_test['DayuponOutcome'].copy()\n",
    "df_test['AboutAge'] = df_test['AboutAge'].apply(Age)"
   ]
  },
  {
   "cell_type": "markdown",
   "metadata": {},
   "source": [
    "## Breed (전처리)\n",
    "- Mix는 별도의 컬럼으로 만들어 binarize(mix는 1, 순종은 0)"
   ]
  },
  {
   "cell_type": "code",
   "execution_count": 21,
   "metadata": {
    "collapsed": true
   },
   "outputs": [],
   "source": [
    "def BreedMix(x):\n",
    "    if '/' in  x:\n",
    "        return 1\n",
    "    elif 'Mix' in x:\n",
    "        return 1\n",
    "    else:\n",
    "        return 0"
   ]
  },
  {
   "cell_type": "code",
   "execution_count": 22,
   "metadata": {
    "collapsed": true
   },
   "outputs": [],
   "source": [
    "df_test['BreedMix'] = df_test['Breed'].apply(BreedMix)"
   ]
  },
  {
   "cell_type": "code",
   "execution_count": 23,
   "metadata": {
    "collapsed": true
   },
   "outputs": [],
   "source": [
    "def Nature_Breed(x):\n",
    "    if '/' in x:\n",
    "        x = x[0:x.index('/')]\n",
    "        return x\n",
    "    elif ' Mix' in x:\n",
    "        x = x[0:-4]\n",
    "        return x\n",
    "    else:\n",
    "        return x"
   ]
  },
  {
   "cell_type": "code",
   "execution_count": 24,
   "metadata": {
    "collapsed": true
   },
   "outputs": [],
   "source": [
    "df_test['Breed_pre'] = df_test['Breed'].copy()"
   ]
  },
  {
   "cell_type": "code",
   "execution_count": 25,
   "metadata": {
    "collapsed": true
   },
   "outputs": [],
   "source": [
    "df_test['Breed_pre'] = df_test['Breed_pre'].apply(Nature_Breed)"
   ]
  },
  {
   "cell_type": "markdown",
   "metadata": {},
   "source": [
    "## - 2.6 AnimalType (Binarize)\n",
    "- dog는 1, cat은 0"
   ]
  },
  {
   "cell_type": "code",
   "execution_count": 26,
   "metadata": {
    "collapsed": true
   },
   "outputs": [],
   "source": [
    "encoder = LabelEncoder()\n",
    "df_test['AnimalType'] = encoder.fit_transform(df_test['AnimalType'])"
   ]
  },
  {
   "cell_type": "markdown",
   "metadata": {},
   "source": [
    "## - 2.7 SexuponOutcome\n",
    "- Nan값을 Unknown으로 처리"
   ]
  },
  {
   "cell_type": "code",
   "execution_count": 27,
   "metadata": {
    "collapsed": true
   },
   "outputs": [],
   "source": [
    "df_test['SexuponOutcome'].fillna(\"Unknown\", inplace=True)"
   ]
  },
  {
   "cell_type": "markdown",
   "metadata": {},
   "source": [
    "## - 2.8 AnimalID (string제거, 정수화)"
   ]
  },
  {
   "cell_type": "code",
   "execution_count": 28,
   "metadata": {},
   "outputs": [
    {
     "data": {
      "text/html": [
       "<div>\n",
       "<style>\n",
       "    .dataframe thead tr:only-child th {\n",
       "        text-align: right;\n",
       "    }\n",
       "\n",
       "    .dataframe thead th {\n",
       "        text-align: left;\n",
       "    }\n",
       "\n",
       "    .dataframe tbody tr th {\n",
       "        vertical-align: top;\n",
       "    }\n",
       "</style>\n",
       "<table border=\"1\" class=\"dataframe\">\n",
       "  <thead>\n",
       "    <tr style=\"text-align: right;\">\n",
       "      <th></th>\n",
       "      <th>ID</th>\n",
       "      <th>Name</th>\n",
       "      <th>DateTime</th>\n",
       "      <th>AnimalType</th>\n",
       "      <th>SexuponOutcome</th>\n",
       "      <th>AgeuponOutcome</th>\n",
       "      <th>Breed</th>\n",
       "      <th>Color</th>\n",
       "      <th>Color_pre</th>\n",
       "      <th>DayuponOutcome</th>\n",
       "      <th>AboutAge</th>\n",
       "      <th>BreedMix</th>\n",
       "      <th>Breed_pre</th>\n",
       "    </tr>\n",
       "  </thead>\n",
       "  <tbody>\n",
       "    <tr>\n",
       "      <th>11451</th>\n",
       "      <td>11452</td>\n",
       "      <td>0</td>\n",
       "      <td>2014-07-08 14:50:00</td>\n",
       "      <td>0</td>\n",
       "      <td>Neutered Male</td>\n",
       "      <td>2 months</td>\n",
       "      <td>Domestic Shorthair Mix</td>\n",
       "      <td>Black</td>\n",
       "      <td>Black</td>\n",
       "      <td>60</td>\n",
       "      <td>2</td>\n",
       "      <td>1</td>\n",
       "      <td>Domestic Shorthair</td>\n",
       "    </tr>\n",
       "    <tr>\n",
       "      <th>11452</th>\n",
       "      <td>11453</td>\n",
       "      <td>0</td>\n",
       "      <td>2014-10-21 12:57:00</td>\n",
       "      <td>0</td>\n",
       "      <td>Intact Female</td>\n",
       "      <td>2 weeks</td>\n",
       "      <td>Domestic Shorthair Mix</td>\n",
       "      <td>Blue</td>\n",
       "      <td>Blue</td>\n",
       "      <td>14</td>\n",
       "      <td>2</td>\n",
       "      <td>1</td>\n",
       "      <td>Domestic Shorthair</td>\n",
       "    </tr>\n",
       "    <tr>\n",
       "      <th>11453</th>\n",
       "      <td>11454</td>\n",
       "      <td>0</td>\n",
       "      <td>2014-09-29 09:00:00</td>\n",
       "      <td>0</td>\n",
       "      <td>Intact Female</td>\n",
       "      <td>1 year</td>\n",
       "      <td>Domestic Shorthair Mix</td>\n",
       "      <td>Calico</td>\n",
       "      <td>Calico</td>\n",
       "      <td>365</td>\n",
       "      <td>2</td>\n",
       "      <td>1</td>\n",
       "      <td>Domestic Shorthair</td>\n",
       "    </tr>\n",
       "    <tr>\n",
       "      <th>11454</th>\n",
       "      <td>11455</td>\n",
       "      <td>1</td>\n",
       "      <td>2015-09-05 17:16:00</td>\n",
       "      <td>1</td>\n",
       "      <td>Neutered Male</td>\n",
       "      <td>6 years</td>\n",
       "      <td>German Shepherd Mix</td>\n",
       "      <td>Black/Tan</td>\n",
       "      <td>Black</td>\n",
       "      <td>2190</td>\n",
       "      <td>20</td>\n",
       "      <td>1</td>\n",
       "      <td>German Shepherd</td>\n",
       "    </tr>\n",
       "    <tr>\n",
       "      <th>11455</th>\n",
       "      <td>11456</td>\n",
       "      <td>1</td>\n",
       "      <td>2014-07-12 18:40:00</td>\n",
       "      <td>1</td>\n",
       "      <td>Intact Male</td>\n",
       "      <td>4 years</td>\n",
       "      <td>Labrador Retriever</td>\n",
       "      <td>Cream</td>\n",
       "      <td>Cream</td>\n",
       "      <td>1460</td>\n",
       "      <td>20</td>\n",
       "      <td>0</td>\n",
       "      <td>Labrador Retriever</td>\n",
       "    </tr>\n",
       "  </tbody>\n",
       "</table>\n",
       "</div>"
      ],
      "text/plain": [
       "          ID  Name             DateTime  AnimalType SexuponOutcome AgeuponOutcome                   Breed      Color Color_pre  DayuponOutcome  AboutAge  BreedMix           Breed_pre\n",
       "11451  11452     0  2014-07-08 14:50:00           0  Neutered Male       2 months  Domestic Shorthair Mix      Black     Black              60         2         1  Domestic Shorthair\n",
       "11452  11453     0  2014-10-21 12:57:00           0  Intact Female        2 weeks  Domestic Shorthair Mix       Blue      Blue              14         2         1  Domestic Shorthair\n",
       "11453  11454     0  2014-09-29 09:00:00           0  Intact Female         1 year  Domestic Shorthair Mix     Calico    Calico             365         2         1  Domestic Shorthair\n",
       "11454  11455     1  2015-09-05 17:16:00           1  Neutered Male        6 years     German Shepherd Mix  Black/Tan     Black            2190        20         1     German Shepherd\n",
       "11455  11456     1  2014-07-12 18:40:00           1    Intact Male        4 years      Labrador Retriever      Cream     Cream            1460        20         0  Labrador Retriever"
      ]
     },
     "execution_count": 28,
     "metadata": {},
     "output_type": "execute_result"
    }
   ],
   "source": [
    "df_test.tail()"
   ]
  },
  {
   "cell_type": "code",
   "execution_count": 29,
   "metadata": {
    "collapsed": true
   },
   "outputs": [],
   "source": [
    "df_test['ID'] = encoder.fit_transform(df_test['ID'])"
   ]
  },
  {
   "cell_type": "code",
   "execution_count": 30,
   "metadata": {},
   "outputs": [
    {
     "data": {
      "text/html": [
       "<div>\n",
       "<style>\n",
       "    .dataframe thead tr:only-child th {\n",
       "        text-align: right;\n",
       "    }\n",
       "\n",
       "    .dataframe thead th {\n",
       "        text-align: left;\n",
       "    }\n",
       "\n",
       "    .dataframe tbody tr th {\n",
       "        vertical-align: top;\n",
       "    }\n",
       "</style>\n",
       "<table border=\"1\" class=\"dataframe\">\n",
       "  <thead>\n",
       "    <tr style=\"text-align: right;\">\n",
       "      <th></th>\n",
       "      <th>ID</th>\n",
       "      <th>Name</th>\n",
       "      <th>DateTime</th>\n",
       "      <th>AnimalType</th>\n",
       "      <th>SexuponOutcome</th>\n",
       "      <th>AgeuponOutcome</th>\n",
       "      <th>Breed</th>\n",
       "      <th>Color</th>\n",
       "      <th>Color_pre</th>\n",
       "      <th>DayuponOutcome</th>\n",
       "      <th>AboutAge</th>\n",
       "      <th>BreedMix</th>\n",
       "      <th>Breed_pre</th>\n",
       "    </tr>\n",
       "  </thead>\n",
       "  <tbody>\n",
       "    <tr>\n",
       "      <th>11451</th>\n",
       "      <td>11451</td>\n",
       "      <td>0</td>\n",
       "      <td>2014-07-08 14:50:00</td>\n",
       "      <td>0</td>\n",
       "      <td>Neutered Male</td>\n",
       "      <td>2 months</td>\n",
       "      <td>Domestic Shorthair Mix</td>\n",
       "      <td>Black</td>\n",
       "      <td>Black</td>\n",
       "      <td>60</td>\n",
       "      <td>2</td>\n",
       "      <td>1</td>\n",
       "      <td>Domestic Shorthair</td>\n",
       "    </tr>\n",
       "    <tr>\n",
       "      <th>11452</th>\n",
       "      <td>11452</td>\n",
       "      <td>0</td>\n",
       "      <td>2014-10-21 12:57:00</td>\n",
       "      <td>0</td>\n",
       "      <td>Intact Female</td>\n",
       "      <td>2 weeks</td>\n",
       "      <td>Domestic Shorthair Mix</td>\n",
       "      <td>Blue</td>\n",
       "      <td>Blue</td>\n",
       "      <td>14</td>\n",
       "      <td>2</td>\n",
       "      <td>1</td>\n",
       "      <td>Domestic Shorthair</td>\n",
       "    </tr>\n",
       "    <tr>\n",
       "      <th>11453</th>\n",
       "      <td>11453</td>\n",
       "      <td>0</td>\n",
       "      <td>2014-09-29 09:00:00</td>\n",
       "      <td>0</td>\n",
       "      <td>Intact Female</td>\n",
       "      <td>1 year</td>\n",
       "      <td>Domestic Shorthair Mix</td>\n",
       "      <td>Calico</td>\n",
       "      <td>Calico</td>\n",
       "      <td>365</td>\n",
       "      <td>2</td>\n",
       "      <td>1</td>\n",
       "      <td>Domestic Shorthair</td>\n",
       "    </tr>\n",
       "    <tr>\n",
       "      <th>11454</th>\n",
       "      <td>11454</td>\n",
       "      <td>1</td>\n",
       "      <td>2015-09-05 17:16:00</td>\n",
       "      <td>1</td>\n",
       "      <td>Neutered Male</td>\n",
       "      <td>6 years</td>\n",
       "      <td>German Shepherd Mix</td>\n",
       "      <td>Black/Tan</td>\n",
       "      <td>Black</td>\n",
       "      <td>2190</td>\n",
       "      <td>20</td>\n",
       "      <td>1</td>\n",
       "      <td>German Shepherd</td>\n",
       "    </tr>\n",
       "    <tr>\n",
       "      <th>11455</th>\n",
       "      <td>11455</td>\n",
       "      <td>1</td>\n",
       "      <td>2014-07-12 18:40:00</td>\n",
       "      <td>1</td>\n",
       "      <td>Intact Male</td>\n",
       "      <td>4 years</td>\n",
       "      <td>Labrador Retriever</td>\n",
       "      <td>Cream</td>\n",
       "      <td>Cream</td>\n",
       "      <td>1460</td>\n",
       "      <td>20</td>\n",
       "      <td>0</td>\n",
       "      <td>Labrador Retriever</td>\n",
       "    </tr>\n",
       "  </tbody>\n",
       "</table>\n",
       "</div>"
      ],
      "text/plain": [
       "          ID  Name             DateTime  AnimalType SexuponOutcome AgeuponOutcome                   Breed      Color Color_pre  DayuponOutcome  AboutAge  BreedMix           Breed_pre\n",
       "11451  11451     0  2014-07-08 14:50:00           0  Neutered Male       2 months  Domestic Shorthair Mix      Black     Black              60         2         1  Domestic Shorthair\n",
       "11452  11452     0  2014-10-21 12:57:00           0  Intact Female        2 weeks  Domestic Shorthair Mix       Blue      Blue              14         2         1  Domestic Shorthair\n",
       "11453  11453     0  2014-09-29 09:00:00           0  Intact Female         1 year  Domestic Shorthair Mix     Calico    Calico             365         2         1  Domestic Shorthair\n",
       "11454  11454     1  2015-09-05 17:16:00           1  Neutered Male        6 years     German Shepherd Mix  Black/Tan     Black            2190        20         1     German Shepherd\n",
       "11455  11455     1  2014-07-12 18:40:00           1    Intact Male        4 years      Labrador Retriever      Cream     Cream            1460        20         0  Labrador Retriever"
      ]
     },
     "execution_count": 30,
     "metadata": {},
     "output_type": "execute_result"
    }
   ],
   "source": [
    "df_test.tail()"
   ]
  },
  {
   "cell_type": "markdown",
   "metadata": {},
   "source": [
    "## -2.9 DateTime 전처리 및 분석"
   ]
  },
  {
   "cell_type": "code",
   "execution_count": 33,
   "metadata": {},
   "outputs": [],
   "source": [
    "import re\n",
    "\n",
    "def MakeYear(x):\n",
    "    A = re.search(r'\\d\\d\\d\\d', str(x))\n",
    "    return A.group()\n",
    "\n",
    "def MakeMonth(x):\n",
    "    A = re.search(r'-\\d\\d-', str(x))\n",
    "    B = re.search(r'\\d\\d', str(A))\n",
    "    return B.group()\n",
    "\n",
    "def Integerize(x):\n",
    "    x = int(x)\n",
    "    return x\n",
    "\n",
    "df_test['Year'] = df_test['DateTime'].apply(MakeYear)\n",
    "df_test['Month'] = df_test['DateTime'].apply(MakeMonth)\n",
    "df_test['YearMonth'] = df_test['Year'] + df_test['Month']\n",
    "df_test['Year'] = df_test['Year'].apply(Integerize)\n",
    "df_test['Month'] = df_test['Month'].apply(Integerize)\n",
    "df_test['YearMonth'] = df_test['YearMonth'].apply(Integerize)\n",
    "\n",
    "def MakeHour(x):\n",
    "    A = re.search(r' \\d\\d:', str(x))\n",
    "    B = re.search(r'\\d\\d', A.group())\n",
    "    return B.group()\n",
    "\n",
    "df_test['Hour'] = df_test['DateTime'].apply(MakeHour)\n",
    "df_test['Hour'] = df_test['Hour'].apply(Integerize)"
   ]
  },
  {
   "cell_type": "markdown",
   "metadata": {},
   "source": [
    "### 2.9.1 DateTime을 계절로 변환하여 추가"
   ]
  },
  {
   "cell_type": "code",
   "execution_count": 34,
   "metadata": {
    "collapsed": true
   },
   "outputs": [],
   "source": [
    "df_test['Season'] = df_test['Month'].copy()"
   ]
  },
  {
   "cell_type": "code",
   "execution_count": 35,
   "metadata": {
    "collapsed": true
   },
   "outputs": [],
   "source": [
    "df_test['Season'] = df_test['Season'].apply(Integerize)"
   ]
  },
  {
   "cell_type": "code",
   "execution_count": 36,
   "metadata": {
    "collapsed": true
   },
   "outputs": [],
   "source": [
    "def Seasonerize(x):\n",
    "    if x == 12 or x == 1 or x == 2:\n",
    "        return 'Winter'\n",
    "    elif 2 < x < 6:\n",
    "        return 'Spring'\n",
    "    elif 5 < x < 9:\n",
    "        return 'Summer'\n",
    "    elif 8 < x < 12:\n",
    "        return 'Automn'\n",
    "    else:\n",
    "        return 'Unknown'    "
   ]
  },
  {
   "cell_type": "code",
   "execution_count": 37,
   "metadata": {},
   "outputs": [
    {
     "data": {
      "text/html": [
       "<div>\n",
       "<style>\n",
       "    .dataframe thead tr:only-child th {\n",
       "        text-align: right;\n",
       "    }\n",
       "\n",
       "    .dataframe thead th {\n",
       "        text-align: left;\n",
       "    }\n",
       "\n",
       "    .dataframe tbody tr th {\n",
       "        vertical-align: top;\n",
       "    }\n",
       "</style>\n",
       "<table border=\"1\" class=\"dataframe\">\n",
       "  <thead>\n",
       "    <tr style=\"text-align: right;\">\n",
       "      <th></th>\n",
       "      <th>ID</th>\n",
       "      <th>Name</th>\n",
       "      <th>DateTime</th>\n",
       "      <th>AnimalType</th>\n",
       "      <th>SexuponOutcome</th>\n",
       "      <th>AgeuponOutcome</th>\n",
       "      <th>Breed</th>\n",
       "      <th>Color</th>\n",
       "      <th>Color_pre</th>\n",
       "      <th>DayuponOutcome</th>\n",
       "      <th>AboutAge</th>\n",
       "      <th>BreedMix</th>\n",
       "      <th>Breed_pre</th>\n",
       "      <th>Year</th>\n",
       "      <th>Month</th>\n",
       "      <th>YearMonth</th>\n",
       "      <th>Hour</th>\n",
       "      <th>Season</th>\n",
       "    </tr>\n",
       "  </thead>\n",
       "  <tbody>\n",
       "    <tr>\n",
       "      <th>11451</th>\n",
       "      <td>11451</td>\n",
       "      <td>0</td>\n",
       "      <td>2014-07-08 14:50:00</td>\n",
       "      <td>0</td>\n",
       "      <td>Neutered Male</td>\n",
       "      <td>2 months</td>\n",
       "      <td>Domestic Shorthair Mix</td>\n",
       "      <td>Black</td>\n",
       "      <td>Black</td>\n",
       "      <td>60</td>\n",
       "      <td>2</td>\n",
       "      <td>1</td>\n",
       "      <td>Domestic Shorthair</td>\n",
       "      <td>2014</td>\n",
       "      <td>7</td>\n",
       "      <td>201407</td>\n",
       "      <td>14</td>\n",
       "      <td>Summer</td>\n",
       "    </tr>\n",
       "    <tr>\n",
       "      <th>11452</th>\n",
       "      <td>11452</td>\n",
       "      <td>0</td>\n",
       "      <td>2014-10-21 12:57:00</td>\n",
       "      <td>0</td>\n",
       "      <td>Intact Female</td>\n",
       "      <td>2 weeks</td>\n",
       "      <td>Domestic Shorthair Mix</td>\n",
       "      <td>Blue</td>\n",
       "      <td>Blue</td>\n",
       "      <td>14</td>\n",
       "      <td>2</td>\n",
       "      <td>1</td>\n",
       "      <td>Domestic Shorthair</td>\n",
       "      <td>2014</td>\n",
       "      <td>10</td>\n",
       "      <td>201410</td>\n",
       "      <td>12</td>\n",
       "      <td>Automn</td>\n",
       "    </tr>\n",
       "    <tr>\n",
       "      <th>11453</th>\n",
       "      <td>11453</td>\n",
       "      <td>0</td>\n",
       "      <td>2014-09-29 09:00:00</td>\n",
       "      <td>0</td>\n",
       "      <td>Intact Female</td>\n",
       "      <td>1 year</td>\n",
       "      <td>Domestic Shorthair Mix</td>\n",
       "      <td>Calico</td>\n",
       "      <td>Calico</td>\n",
       "      <td>365</td>\n",
       "      <td>2</td>\n",
       "      <td>1</td>\n",
       "      <td>Domestic Shorthair</td>\n",
       "      <td>2014</td>\n",
       "      <td>9</td>\n",
       "      <td>201409</td>\n",
       "      <td>9</td>\n",
       "      <td>Automn</td>\n",
       "    </tr>\n",
       "    <tr>\n",
       "      <th>11454</th>\n",
       "      <td>11454</td>\n",
       "      <td>1</td>\n",
       "      <td>2015-09-05 17:16:00</td>\n",
       "      <td>1</td>\n",
       "      <td>Neutered Male</td>\n",
       "      <td>6 years</td>\n",
       "      <td>German Shepherd Mix</td>\n",
       "      <td>Black/Tan</td>\n",
       "      <td>Black</td>\n",
       "      <td>2190</td>\n",
       "      <td>20</td>\n",
       "      <td>1</td>\n",
       "      <td>German Shepherd</td>\n",
       "      <td>2015</td>\n",
       "      <td>9</td>\n",
       "      <td>201509</td>\n",
       "      <td>17</td>\n",
       "      <td>Automn</td>\n",
       "    </tr>\n",
       "    <tr>\n",
       "      <th>11455</th>\n",
       "      <td>11455</td>\n",
       "      <td>1</td>\n",
       "      <td>2014-07-12 18:40:00</td>\n",
       "      <td>1</td>\n",
       "      <td>Intact Male</td>\n",
       "      <td>4 years</td>\n",
       "      <td>Labrador Retriever</td>\n",
       "      <td>Cream</td>\n",
       "      <td>Cream</td>\n",
       "      <td>1460</td>\n",
       "      <td>20</td>\n",
       "      <td>0</td>\n",
       "      <td>Labrador Retriever</td>\n",
       "      <td>2014</td>\n",
       "      <td>7</td>\n",
       "      <td>201407</td>\n",
       "      <td>18</td>\n",
       "      <td>Summer</td>\n",
       "    </tr>\n",
       "  </tbody>\n",
       "</table>\n",
       "</div>"
      ],
      "text/plain": [
       "          ID  Name             DateTime  AnimalType SexuponOutcome AgeuponOutcome                   Breed      Color Color_pre  DayuponOutcome  AboutAge  BreedMix           Breed_pre  Year  Month  YearMonth  Hour  Season\n",
       "11451  11451     0  2014-07-08 14:50:00           0  Neutered Male       2 months  Domestic Shorthair Mix      Black     Black              60         2         1  Domestic Shorthair  2014      7     201407    14  Summer\n",
       "11452  11452     0  2014-10-21 12:57:00           0  Intact Female        2 weeks  Domestic Shorthair Mix       Blue      Blue              14         2         1  Domestic Shorthair  2014     10     201410    12  Automn\n",
       "11453  11453     0  2014-09-29 09:00:00           0  Intact Female         1 year  Domestic Shorthair Mix     Calico    Calico             365         2         1  Domestic Shorthair  2014      9     201409     9  Automn\n",
       "11454  11454     1  2015-09-05 17:16:00           1  Neutered Male        6 years     German Shepherd Mix  Black/Tan     Black            2190        20         1     German Shepherd  2015      9     201509    17  Automn\n",
       "11455  11455     1  2014-07-12 18:40:00           1    Intact Male        4 years      Labrador Retriever      Cream     Cream            1460        20         0  Labrador Retriever  2014      7     201407    18  Summer"
      ]
     },
     "execution_count": 37,
     "metadata": {},
     "output_type": "execute_result"
    }
   ],
   "source": [
    "df_test['Season'] = df_test['Season'].apply(Seasonerize)\n",
    "df_test.tail()"
   ]
  },
  {
   "cell_type": "markdown",
   "metadata": {},
   "source": [
    "### 2.9.2 DateTime을 분기로 변환하여 추가"
   ]
  },
  {
   "cell_type": "code",
   "execution_count": 38,
   "metadata": {
    "collapsed": true
   },
   "outputs": [],
   "source": [
    "df_test['Quarter'] = df_test['Month'].copy()"
   ]
  },
  {
   "cell_type": "code",
   "execution_count": 39,
   "metadata": {
    "collapsed": true
   },
   "outputs": [],
   "source": [
    "df_test['Quarter'] = df_test['Quarter'].apply(Integerize)"
   ]
  },
  {
   "cell_type": "code",
   "execution_count": 40,
   "metadata": {
    "collapsed": true
   },
   "outputs": [],
   "source": [
    "def Quarterize(x):\n",
    "    if 0 < x < 4:\n",
    "        return '1/4'\n",
    "    elif 3 < x < 7:\n",
    "        return '2/4'\n",
    "    elif 6 < x < 10:\n",
    "        return '3/4'\n",
    "    elif 9 < x < 13:\n",
    "        return '4/4'\n",
    "    else:\n",
    "        return 'Unknown'    "
   ]
  },
  {
   "cell_type": "code",
   "execution_count": 41,
   "metadata": {},
   "outputs": [
    {
     "data": {
      "text/html": [
       "<div>\n",
       "<style>\n",
       "    .dataframe thead tr:only-child th {\n",
       "        text-align: right;\n",
       "    }\n",
       "\n",
       "    .dataframe thead th {\n",
       "        text-align: left;\n",
       "    }\n",
       "\n",
       "    .dataframe tbody tr th {\n",
       "        vertical-align: top;\n",
       "    }\n",
       "</style>\n",
       "<table border=\"1\" class=\"dataframe\">\n",
       "  <thead>\n",
       "    <tr style=\"text-align: right;\">\n",
       "      <th></th>\n",
       "      <th>ID</th>\n",
       "      <th>Name</th>\n",
       "      <th>DateTime</th>\n",
       "      <th>AnimalType</th>\n",
       "      <th>SexuponOutcome</th>\n",
       "      <th>AgeuponOutcome</th>\n",
       "      <th>Breed</th>\n",
       "      <th>Color</th>\n",
       "      <th>Color_pre</th>\n",
       "      <th>DayuponOutcome</th>\n",
       "      <th>AboutAge</th>\n",
       "      <th>BreedMix</th>\n",
       "      <th>Breed_pre</th>\n",
       "      <th>Year</th>\n",
       "      <th>Month</th>\n",
       "      <th>YearMonth</th>\n",
       "      <th>Hour</th>\n",
       "      <th>Season</th>\n",
       "      <th>Quarter</th>\n",
       "    </tr>\n",
       "  </thead>\n",
       "  <tbody>\n",
       "    <tr>\n",
       "      <th>11451</th>\n",
       "      <td>11451</td>\n",
       "      <td>0</td>\n",
       "      <td>2014-07-08 14:50:00</td>\n",
       "      <td>0</td>\n",
       "      <td>Neutered Male</td>\n",
       "      <td>2 months</td>\n",
       "      <td>Domestic Shorthair Mix</td>\n",
       "      <td>Black</td>\n",
       "      <td>Black</td>\n",
       "      <td>60</td>\n",
       "      <td>2</td>\n",
       "      <td>1</td>\n",
       "      <td>Domestic Shorthair</td>\n",
       "      <td>2014</td>\n",
       "      <td>7</td>\n",
       "      <td>201407</td>\n",
       "      <td>14</td>\n",
       "      <td>Summer</td>\n",
       "      <td>3/4</td>\n",
       "    </tr>\n",
       "    <tr>\n",
       "      <th>11452</th>\n",
       "      <td>11452</td>\n",
       "      <td>0</td>\n",
       "      <td>2014-10-21 12:57:00</td>\n",
       "      <td>0</td>\n",
       "      <td>Intact Female</td>\n",
       "      <td>2 weeks</td>\n",
       "      <td>Domestic Shorthair Mix</td>\n",
       "      <td>Blue</td>\n",
       "      <td>Blue</td>\n",
       "      <td>14</td>\n",
       "      <td>2</td>\n",
       "      <td>1</td>\n",
       "      <td>Domestic Shorthair</td>\n",
       "      <td>2014</td>\n",
       "      <td>10</td>\n",
       "      <td>201410</td>\n",
       "      <td>12</td>\n",
       "      <td>Automn</td>\n",
       "      <td>4/4</td>\n",
       "    </tr>\n",
       "    <tr>\n",
       "      <th>11453</th>\n",
       "      <td>11453</td>\n",
       "      <td>0</td>\n",
       "      <td>2014-09-29 09:00:00</td>\n",
       "      <td>0</td>\n",
       "      <td>Intact Female</td>\n",
       "      <td>1 year</td>\n",
       "      <td>Domestic Shorthair Mix</td>\n",
       "      <td>Calico</td>\n",
       "      <td>Calico</td>\n",
       "      <td>365</td>\n",
       "      <td>2</td>\n",
       "      <td>1</td>\n",
       "      <td>Domestic Shorthair</td>\n",
       "      <td>2014</td>\n",
       "      <td>9</td>\n",
       "      <td>201409</td>\n",
       "      <td>9</td>\n",
       "      <td>Automn</td>\n",
       "      <td>3/4</td>\n",
       "    </tr>\n",
       "    <tr>\n",
       "      <th>11454</th>\n",
       "      <td>11454</td>\n",
       "      <td>1</td>\n",
       "      <td>2015-09-05 17:16:00</td>\n",
       "      <td>1</td>\n",
       "      <td>Neutered Male</td>\n",
       "      <td>6 years</td>\n",
       "      <td>German Shepherd Mix</td>\n",
       "      <td>Black/Tan</td>\n",
       "      <td>Black</td>\n",
       "      <td>2190</td>\n",
       "      <td>20</td>\n",
       "      <td>1</td>\n",
       "      <td>German Shepherd</td>\n",
       "      <td>2015</td>\n",
       "      <td>9</td>\n",
       "      <td>201509</td>\n",
       "      <td>17</td>\n",
       "      <td>Automn</td>\n",
       "      <td>3/4</td>\n",
       "    </tr>\n",
       "    <tr>\n",
       "      <th>11455</th>\n",
       "      <td>11455</td>\n",
       "      <td>1</td>\n",
       "      <td>2014-07-12 18:40:00</td>\n",
       "      <td>1</td>\n",
       "      <td>Intact Male</td>\n",
       "      <td>4 years</td>\n",
       "      <td>Labrador Retriever</td>\n",
       "      <td>Cream</td>\n",
       "      <td>Cream</td>\n",
       "      <td>1460</td>\n",
       "      <td>20</td>\n",
       "      <td>0</td>\n",
       "      <td>Labrador Retriever</td>\n",
       "      <td>2014</td>\n",
       "      <td>7</td>\n",
       "      <td>201407</td>\n",
       "      <td>18</td>\n",
       "      <td>Summer</td>\n",
       "      <td>3/4</td>\n",
       "    </tr>\n",
       "  </tbody>\n",
       "</table>\n",
       "</div>"
      ],
      "text/plain": [
       "          ID  Name             DateTime  AnimalType SexuponOutcome AgeuponOutcome                   Breed      Color Color_pre  DayuponOutcome  AboutAge  BreedMix           Breed_pre  Year  Month  YearMonth  Hour  Season Quarter\n",
       "11451  11451     0  2014-07-08 14:50:00           0  Neutered Male       2 months  Domestic Shorthair Mix      Black     Black              60         2         1  Domestic Shorthair  2014      7     201407    14  Summer     3/4\n",
       "11452  11452     0  2014-10-21 12:57:00           0  Intact Female        2 weeks  Domestic Shorthair Mix       Blue      Blue              14         2         1  Domestic Shorthair  2014     10     201410    12  Automn     4/4\n",
       "11453  11453     0  2014-09-29 09:00:00           0  Intact Female         1 year  Domestic Shorthair Mix     Calico    Calico             365         2         1  Domestic Shorthair  2014      9     201409     9  Automn     3/4\n",
       "11454  11454     1  2015-09-05 17:16:00           1  Neutered Male        6 years     German Shepherd Mix  Black/Tan     Black            2190        20         1     German Shepherd  2015      9     201509    17  Automn     3/4\n",
       "11455  11455     1  2014-07-12 18:40:00           1    Intact Male        4 years      Labrador Retriever      Cream     Cream            1460        20         0  Labrador Retriever  2014      7     201407    18  Summer     3/4"
      ]
     },
     "execution_count": 41,
     "metadata": {},
     "output_type": "execute_result"
    }
   ],
   "source": [
    "df_test['Quarter'] = df_test['Quarter'].apply(Quarterize)\n",
    "df_test.tail()"
   ]
  },
  {
   "cell_type": "markdown",
   "metadata": {},
   "source": [
    "# Laber Encoding"
   ]
  },
  {
   "cell_type": "code",
   "execution_count": 42,
   "metadata": {
    "collapsed": true
   },
   "outputs": [],
   "source": [
    "encoder = LabelEncoder()\n",
    "\n",
    "df_test['SexuponOutcome'] = encoder.fit_transform(df_test['SexuponOutcome'])\n",
    "df_test['AgeuponOutcome'] = encoder.fit_transform(df_test['AgeuponOutcome'])\n",
    "df_test['Breed'] = encoder.fit_transform(df_test['Breed'])\n",
    "df_test['Color'] = encoder.fit_transform(df_test['Color'])\n",
    "df_test['Color_pre'] = encoder.fit_transform(df_test['Color_pre'])\n",
    "df_test['Breed_pre'] = encoder.fit_transform(df_test['Breed_pre'])\n",
    "df_test['Year'] = encoder.fit_transform(df_test['Year'])\n",
    "df_test['Month'] = encoder.fit_transform(df_test['Month'])\n",
    "df_test['YearMonth'] = encoder.fit_transform(df_test['YearMonth'])\n",
    "df_test['Season'] = encoder.fit_transform(df_test['Season'])\n",
    "df_test['Quarter'] = encoder.fit_transform(df_test['Quarter'])\n",
    "df_test['DateTime'] = encoder.fit_transform(df_test['DateTime'])"
   ]
  },
  {
   "cell_type": "code",
   "execution_count": 43,
   "metadata": {
    "scrolled": true
   },
   "outputs": [
    {
     "data": {
      "text/html": [
       "<div>\n",
       "<style>\n",
       "    .dataframe thead tr:only-child th {\n",
       "        text-align: right;\n",
       "    }\n",
       "\n",
       "    .dataframe thead th {\n",
       "        text-align: left;\n",
       "    }\n",
       "\n",
       "    .dataframe tbody tr th {\n",
       "        vertical-align: top;\n",
       "    }\n",
       "</style>\n",
       "<table border=\"1\" class=\"dataframe\">\n",
       "  <thead>\n",
       "    <tr style=\"text-align: right;\">\n",
       "      <th></th>\n",
       "      <th>ID</th>\n",
       "      <th>Name</th>\n",
       "      <th>DateTime</th>\n",
       "      <th>AnimalType</th>\n",
       "      <th>SexuponOutcome</th>\n",
       "      <th>AgeuponOutcome</th>\n",
       "      <th>Breed</th>\n",
       "      <th>Color</th>\n",
       "      <th>Color_pre</th>\n",
       "      <th>DayuponOutcome</th>\n",
       "      <th>AboutAge</th>\n",
       "      <th>BreedMix</th>\n",
       "      <th>Breed_pre</th>\n",
       "      <th>Year</th>\n",
       "      <th>Month</th>\n",
       "      <th>YearMonth</th>\n",
       "      <th>Hour</th>\n",
       "      <th>Season</th>\n",
       "      <th>Quarter</th>\n",
       "    </tr>\n",
       "  </thead>\n",
       "  <tbody>\n",
       "    <tr>\n",
       "      <th>11451</th>\n",
       "      <td>11451</td>\n",
       "      <td>0</td>\n",
       "      <td>3303</td>\n",
       "      <td>0</td>\n",
       "      <td>2</td>\n",
       "      <td>19</td>\n",
       "      <td>407</td>\n",
       "      <td>4</td>\n",
       "      <td>0</td>\n",
       "      <td>60</td>\n",
       "      <td>2</td>\n",
       "      <td>1</td>\n",
       "      <td>79</td>\n",
       "      <td>1</td>\n",
       "      <td>6</td>\n",
       "      <td>9</td>\n",
       "      <td>14</td>\n",
       "      <td>2</td>\n",
       "      <td>2</td>\n",
       "    </tr>\n",
       "    <tr>\n",
       "      <th>11452</th>\n",
       "      <td>11452</td>\n",
       "      <td>0</td>\n",
       "      <td>4748</td>\n",
       "      <td>0</td>\n",
       "      <td>0</td>\n",
       "      <td>20</td>\n",
       "      <td>407</td>\n",
       "      <td>33</td>\n",
       "      <td>1</td>\n",
       "      <td>14</td>\n",
       "      <td>2</td>\n",
       "      <td>1</td>\n",
       "      <td>79</td>\n",
       "      <td>1</td>\n",
       "      <td>9</td>\n",
       "      <td>12</td>\n",
       "      <td>12</td>\n",
       "      <td>0</td>\n",
       "      <td>3</td>\n",
       "    </tr>\n",
       "    <tr>\n",
       "      <th>11453</th>\n",
       "      <td>11453</td>\n",
       "      <td>0</td>\n",
       "      <td>4498</td>\n",
       "      <td>0</td>\n",
       "      <td>0</td>\n",
       "      <td>5</td>\n",
       "      <td>407</td>\n",
       "      <td>102</td>\n",
       "      <td>4</td>\n",
       "      <td>365</td>\n",
       "      <td>2</td>\n",
       "      <td>1</td>\n",
       "      <td>79</td>\n",
       "      <td>1</td>\n",
       "      <td>8</td>\n",
       "      <td>11</td>\n",
       "      <td>9</td>\n",
       "      <td>0</td>\n",
       "      <td>2</td>\n",
       "    </tr>\n",
       "    <tr>\n",
       "      <th>11454</th>\n",
       "      <td>11454</td>\n",
       "      <td>1</td>\n",
       "      <td>8556</td>\n",
       "      <td>1</td>\n",
       "      <td>2</td>\n",
       "      <td>38</td>\n",
       "      <td>439</td>\n",
       "      <td>28</td>\n",
       "      <td>0</td>\n",
       "      <td>2190</td>\n",
       "      <td>20</td>\n",
       "      <td>1</td>\n",
       "      <td>94</td>\n",
       "      <td>2</td>\n",
       "      <td>8</td>\n",
       "      <td>23</td>\n",
       "      <td>17</td>\n",
       "      <td>0</td>\n",
       "      <td>2</td>\n",
       "    </tr>\n",
       "    <tr>\n",
       "      <th>11455</th>\n",
       "      <td>11455</td>\n",
       "      <td>1</td>\n",
       "      <td>3377</td>\n",
       "      <td>1</td>\n",
       "      <td>1</td>\n",
       "      <td>31</td>\n",
       "      <td>541</td>\n",
       "      <td>118</td>\n",
       "      <td>6</td>\n",
       "      <td>1460</td>\n",
       "      <td>20</td>\n",
       "      <td>0</td>\n",
       "      <td>115</td>\n",
       "      <td>1</td>\n",
       "      <td>6</td>\n",
       "      <td>9</td>\n",
       "      <td>18</td>\n",
       "      <td>2</td>\n",
       "      <td>2</td>\n",
       "    </tr>\n",
       "  </tbody>\n",
       "</table>\n",
       "</div>"
      ],
      "text/plain": [
       "          ID  Name  DateTime  AnimalType  SexuponOutcome  AgeuponOutcome  Breed  Color  Color_pre  DayuponOutcome  AboutAge  BreedMix  Breed_pre  Year  Month  YearMonth  Hour  Season  Quarter\n",
       "11451  11451     0      3303           0               2              19    407      4          0              60         2         1         79     1      6          9    14       2        2\n",
       "11452  11452     0      4748           0               0              20    407     33          1              14         2         1         79     1      9         12    12       0        3\n",
       "11453  11453     0      4498           0               0               5    407    102          4             365         2         1         79     1      8         11     9       0        2\n",
       "11454  11454     1      8556           1               2              38    439     28          0            2190        20         1         94     2      8         23    17       0        2\n",
       "11455  11455     1      3377           1               1              31    541    118          6            1460        20         0        115     1      6          9    18       2        2"
      ]
     },
     "execution_count": 43,
     "metadata": {},
     "output_type": "execute_result"
    }
   ],
   "source": [
    "df_test.tail()"
   ]
  },
  {
   "cell_type": "code",
   "execution_count": 45,
   "metadata": {},
   "outputs": [
    {
     "name": "stderr",
     "output_type": "stream",
     "text": [
      "/home/dockeruser/anaconda3/lib/python3.6/site-packages/sklearn/preprocessing/label.py:95: DataConversionWarning: A column-vector y was passed when a 1d array was expected. Please change the shape of y to (n_samples, ), for example using ravel().\n",
      "  y = column_or_1d(y, warn=True)\n",
      "/home/dockeruser/anaconda3/lib/python3.6/site-packages/sklearn/preprocessing/label.py:128: DataConversionWarning: A column-vector y was passed when a 1d array was expected. Please change the shape of y to (n_samples, ), for example using ravel().\n",
      "  y = column_or_1d(y, warn=True)\n"
     ]
    },
    {
     "data": {
      "text/plain": [
       "XGBClassifier(base_score=0.5, colsample_bylevel=1, colsample_bytree=1,\n",
       "       gamma=0, learning_rate=0.05, max_delta_step=0, max_depth=6,\n",
       "       min_child_weight=1, missing=None, n_estimators=200, nthread=-1,\n",
       "       objective='multi:softprob', reg_alpha=0, reg_lambda=1,\n",
       "       scale_pos_weight=1, seed=0, silent=True, subsample=1)"
      ]
     },
     "execution_count": 45,
     "metadata": {},
     "output_type": "execute_result"
    }
   ],
   "source": [
    "import xgboost\n",
    "\n",
    "df_pre = pd.read_csv('data/df_pre.csv')\n",
    "del df_pre['Unnamed: 0']\n",
    "\n",
    "from imblearn.combine import *\n",
    "columns = ['Name', 'DateTime', 'AnimalType', 'SexuponOutcome', 'DayuponOutcome', 'Breed', 'Color', 'BreedMix','Hour']\n",
    "\n",
    "df_x = df_pre[columns]\n",
    "df_y = df_pre.iloc[:, [3]]\n",
    "\n",
    "import xgboost\n",
    "from sklearn.metrics import *\n",
    "\n",
    "model_xgb = xgboost.XGBClassifier(n_estimators=200, max_depth=6, learning_rate=0.05)\n",
    "model_xgb.fit(df_x, df_y)"
   ]
  },
  {
   "cell_type": "code",
   "execution_count": 46,
   "metadata": {
    "collapsed": true
   },
   "outputs": [],
   "source": [
    "test_X = df_test[['Name', 'DateTime', 'AnimalType', 'SexuponOutcome', 'DayuponOutcome', 'Breed', 'Color', 'BreedMix','Hour']]"
   ]
  },
  {
   "cell_type": "code",
   "execution_count": 47,
   "metadata": {
    "collapsed": true
   },
   "outputs": [],
   "source": [
    "pred_y = model_xgb.predict_proba(test_X)"
   ]
  },
  {
   "cell_type": "code",
   "execution_count": 48,
   "metadata": {
    "collapsed": true
   },
   "outputs": [],
   "source": [
    "submit_xgbc = pd.DataFrame(pred_y, columns=['Adoption', 'Died', 'Euthanasia', 'Return_to_owner', 'Transfer'])\n",
    "id_index =  pd.DataFrame([{\"ID\": (i+1)} for i, _ in enumerate(pred_y)])\n",
    "submit_xgbc = pd.concat([id_index, submit_xgbc], axis=1)"
   ]
  },
  {
   "cell_type": "code",
   "execution_count": 49,
   "metadata": {},
   "outputs": [
    {
     "data": {
      "text/html": [
       "<div>\n",
       "<style>\n",
       "    .dataframe thead tr:only-child th {\n",
       "        text-align: right;\n",
       "    }\n",
       "\n",
       "    .dataframe thead th {\n",
       "        text-align: left;\n",
       "    }\n",
       "\n",
       "    .dataframe tbody tr th {\n",
       "        vertical-align: top;\n",
       "    }\n",
       "</style>\n",
       "<table border=\"1\" class=\"dataframe\">\n",
       "  <thead>\n",
       "    <tr style=\"text-align: right;\">\n",
       "      <th></th>\n",
       "      <th>ID</th>\n",
       "      <th>Adoption</th>\n",
       "      <th>Died</th>\n",
       "      <th>Euthanasia</th>\n",
       "      <th>Return_to_owner</th>\n",
       "      <th>Transfer</th>\n",
       "    </tr>\n",
       "  </thead>\n",
       "  <tbody>\n",
       "    <tr>\n",
       "      <th>11451</th>\n",
       "      <td>11452</td>\n",
       "      <td>0.687479</td>\n",
       "      <td>0.003058</td>\n",
       "      <td>0.016038</td>\n",
       "      <td>0.013604</td>\n",
       "      <td>0.279821</td>\n",
       "    </tr>\n",
       "    <tr>\n",
       "      <th>11452</th>\n",
       "      <td>11453</td>\n",
       "      <td>0.001389</td>\n",
       "      <td>0.015374</td>\n",
       "      <td>0.029891</td>\n",
       "      <td>0.005083</td>\n",
       "      <td>0.948264</td>\n",
       "    </tr>\n",
       "    <tr>\n",
       "      <th>11453</th>\n",
       "      <td>11454</td>\n",
       "      <td>0.007472</td>\n",
       "      <td>0.037477</td>\n",
       "      <td>0.068188</td>\n",
       "      <td>0.005572</td>\n",
       "      <td>0.881290</td>\n",
       "    </tr>\n",
       "    <tr>\n",
       "      <th>11454</th>\n",
       "      <td>11455</td>\n",
       "      <td>0.419511</td>\n",
       "      <td>0.001822</td>\n",
       "      <td>0.030232</td>\n",
       "      <td>0.458414</td>\n",
       "      <td>0.090021</td>\n",
       "    </tr>\n",
       "    <tr>\n",
       "      <th>11455</th>\n",
       "      <td>11456</td>\n",
       "      <td>0.059916</td>\n",
       "      <td>0.003576</td>\n",
       "      <td>0.115538</td>\n",
       "      <td>0.564832</td>\n",
       "      <td>0.256138</td>\n",
       "    </tr>\n",
       "  </tbody>\n",
       "</table>\n",
       "</div>"
      ],
      "text/plain": [
       "          ID  Adoption      Died  Euthanasia  Return_to_owner  Transfer\n",
       "11451  11452  0.687479  0.003058    0.016038         0.013604  0.279821\n",
       "11452  11453  0.001389  0.015374    0.029891         0.005083  0.948264\n",
       "11453  11454  0.007472  0.037477    0.068188         0.005572  0.881290\n",
       "11454  11455  0.419511  0.001822    0.030232         0.458414  0.090021\n",
       "11455  11456  0.059916  0.003576    0.115538         0.564832  0.256138"
      ]
     },
     "execution_count": 49,
     "metadata": {},
     "output_type": "execute_result"
    }
   ],
   "source": [
    "submit_xgbc.tail()"
   ]
  },
  {
   "cell_type": "code",
   "execution_count": 50,
   "metadata": {
    "collapsed": true
   },
   "outputs": [],
   "source": [
    "submit_xgbc.to_csv('data/171117_teamOUTLIERS_submit38.csv', index=False)"
   ]
  },
  {
   "cell_type": "code",
   "execution_count": null,
   "metadata": {},
   "outputs": [],
   "source": [
    "df_test.tail()"
   ]
  },
  {
   "cell_type": "code",
   "execution_count": null,
   "metadata": {
    "collapsed": true
   },
   "outputs": [],
   "source": []
  }
 ],
 "metadata": {
  "kernelspec": {
   "display_name": "Python 3",
   "language": "python",
   "name": "python3"
  },
  "language_info": {
   "codemirror_mode": {
    "name": "ipython",
    "version": 3
   },
   "file_extension": ".py",
   "mimetype": "text/x-python",
   "name": "python",
   "nbconvert_exporter": "python",
   "pygments_lexer": "ipython3",
   "version": "3.6.2"
  }
 },
 "nbformat": 4,
 "nbformat_minor": 2
}
